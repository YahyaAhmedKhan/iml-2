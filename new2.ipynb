{
 "cells": [
  {
   "cell_type": "code",
   "execution_count": 88,
   "metadata": {},
   "outputs": [],
   "source": [
    "import pandas as pd\n",
    "import numpy as np\n",
    "from sklearn.preprocessing import LabelEncoder, StandardScaler\n",
    "from sklearn.model_selection import train_test_split\n",
    "from sklearn.linear_model import LinearRegression\n",
    "from sklearn.metrics import mean_squared_error\n",
    "import pandas as pd\n",
    "import numpy as np\n",
    "from sklearn.model_selection import train_test_split\n",
    "from sklearn.preprocessing import PolynomialFeatures, StandardScaler, MinMaxScaler\n",
    "from sklearn.linear_model import LinearRegression\n",
    "from sklearn.decomposition import PCA\n",
    "from sklearn.feature_selection import RFE\n",
    "from sklearn.feature_selection import SequentialFeatureSelector\n",
    "from sklearn.tree import DecisionTreeRegressor\n",
    "from sklearn.linear_model import Lasso, Ridge\n",
    "\n"
   ]
  },
  {
   "cell_type": "code",
   "execution_count": 2,
   "metadata": {},
   "outputs": [],
   "source": [
    "\n",
    "# Load the training and test data\n",
    "df_train_orig = pd.read_csv('train.csv')\n",
    "df_test_orig = pd.read_csv('test.csv')\n"
   ]
  },
  {
   "cell_type": "code",
   "execution_count": 26,
   "metadata": {},
   "outputs": [],
   "source": [
    "\n",
    "# Make a copy of the original data\n",
    "df_train = df_train_orig.copy()\n",
    "df_test = df_test_orig.copy()\n",
    "target_col = 'price_doc'\n",
    "row_id_col = 'row ID'\n"
   ]
  },
  {
   "cell_type": "code",
   "execution_count": 31,
   "metadata": {},
   "outputs": [
    {
     "name": "stdout",
     "output_type": "stream",
     "text": [
      "(181507, 272)\n",
      "sub_area\n",
      "Other                       75731\n",
      "Poselenie Shhapovskoe        1105\n",
      "Alekseevskoe                 1104\n",
      "Tverskoe                     1101\n",
      "Poselenie Mosrentgen         1099\n",
      "                            ...  \n",
      "Poselenie Filimonkovskoe     1051\n",
      "Pechatniki                   1050\n",
      "Marfino                      1050\n",
      "Orehovo-Borisovo Juzhnoe     1049\n",
      "Chertanovo Juzhnoe           1049\n",
      "Name: count, Length: 100, dtype: int64\n"
     ]
    }
   ],
   "source": [
    "\n",
    "# # Label encode the 'sub_area' column\n",
    "# label_encoder = LabelEncoder()\n",
    "# df_train['sub_area'] = label_encoder.fit_transform(df_train['sub_area'])\n",
    "# df_test['sub_area'] = label_encoder.transform(df_test['sub_area'])\n",
    "\n",
    "\n",
    "# RUN ABOVE OR BELOW CODE\n",
    "\n",
    "\n",
    "# Calculate the counts of each category in the \"sub_area\" column\n",
    "category_counts = df_train['sub_area'].value_counts()\n",
    "\n",
    "# Identify the top 10 categories\n",
    "top_categories = category_counts.head(100).index\n",
    "\n",
    "# Replace categories not in the top 10 with \"Other\"\n",
    "df_train.loc[~df_train['sub_area'].isin(top_categories), 'sub_area'] = 'Other'\n",
    "df_test.loc[~df_test['sub_area'].isin(top_categories), 'sub_area'] = 'Other'\n",
    "\n",
    "# Display the modified DataFrame\n",
    "print(df_train.shape )\n",
    "category_counts = df_train['sub_area'].value_counts()\n",
    "\n",
    "# Display the counts of each category\n",
    "category_counts_after_replacement = df_train['sub_area'].value_counts()\n",
    "print(category_counts_after_replacement)\n",
    "\n",
    "# after this dub area has 100 categories and rest are replaced by other\n"
   ]
  },
  {
   "cell_type": "code",
   "execution_count": 32,
   "metadata": {},
   "outputs": [
    {
     "name": "stdout",
     "output_type": "stream",
     "text": [
      "(181507, 272)\n",
      "(77789, 272)\n"
     ]
    }
   ],
   "source": [
    "print(df_train.shape)\n",
    "print(df_test.shape)"
   ]
  },
  {
   "cell_type": "code",
   "execution_count": 87,
   "metadata": {},
   "outputs": [
    {
     "name": "stdout",
     "output_type": "stream",
     "text": [
      "(181507, 372)\n",
      "(77789, 372)\n"
     ]
    }
   ],
   "source": [
    "\n",
    "# Create dummy variables for categorical features\n",
    "X_train_full = pd.get_dummies(df_train.drop(columns=[target_col]), drop_first=True)\n",
    "y = df_train[target_col]\n",
    "\n",
    "X_test = pd.get_dummies(df_test, drop_first=True)\n",
    "\n",
    "# Extract the 'row ID' column for later use and remove it from X_test\n",
    "row_ids = df_test['row ID']\n",
    "X_test.drop(['row ID'], axis=1, inplace=True)\n",
    "\n",
    "print(X_train_full.shape)\n",
    "print(X_test.shape)"
   ]
  },
  {
   "cell_type": "code",
   "execution_count": null,
   "metadata": {},
   "outputs": [],
   "source": [
    "model = DecisionTreeRegressor(max_depth=10, random_state=42)\n",
    "# Fit the model to the training data\n",
    "model.fit(X_train_full, y)\n",
    "\n",
    "# Get feature importances\n",
    "feature_importances = model.feature_importances_\n",
    "\n",
    "# Sort features by importance\n",
    "sorted_indices = np.argsort(feature_importances)[::-1]\n",
    "print(sorted_indices)\n"
   ]
  },
  {
   "cell_type": "code",
   "execution_count": 90,
   "metadata": {},
   "outputs": [
    {
     "name": "stdout",
     "output_type": "stream",
     "text": [
      "Index(['mosque_count_500', 'culture_objects_top_25_raion', 'full_sq',\n",
      "       'cafe_count_3000_price_2500', 'sport_count_3000', 'cafe_count_3000',\n",
      "       'culture_objects_top_25_yes', 'cafe_count_5000_price_high',\n",
      "       'cafe_count_2000_price_4000', 'indust_part', 'sport_count_2000',\n",
      "       'university_km', 'green_part_1500', 'life_sq',\n",
      "       'raion_build_count_with_builddate_info', 'sport_count_500',\n",
      "       'build_count_1946-1970', 'church_count_1500',\n",
      "       'cafe_count_3000_price_high', 'office_sqm_5000', 'female_f',\n",
      "       'sadovoe_km', 'cafe_count_1000_price_1500', 'catering_km',\n",
      "       'cemetery_km', 'cafe_count_3000_na_price', 'church_count_3000',\n",
      "       'office_count_1500', 'trc_count_1500', 'market_count_1000',\n",
      "       'cafe_count_500_price_2500', 'ID_railroad_station_avto',\n",
      "       'cafe_count_1500_price_high', 'green_part_2000', 'zd_vokzaly_avto_km',\n",
      "       'prom_part_3000', 'exhibition_km', 'cafe_count_5000_price_1000',\n",
      "       'museum_km', 'cafe_count_500_price_1000', 'cafe_count_2000_na_price',\n",
      "       'leisure_count_1500', 'cafe_count_3000_price_1000',\n",
      "       'cafe_count_5000_price_2500', 'build_count_before_1920',\n",
      "       'church_synagogue_km', 'trc_sqm_2000', '16_29_male',\n",
      "       'build_count_1971-1995', 'railroad_km', 'public_healthcare_km',\n",
      "       'cafe_count_1500_price_1500', 'additional_education_raion',\n",
      "       'power_transmission_line_km', 'cafe_count_500_price_4000',\n",
      "       'cafe_count_3000_price_500', 'young_female', 'cafe_count_5000',\n",
      "       'preschool_km', 'build_count_1921-1945', 'sport_count_1000',\n",
      "       'cafe_count_1000', 'mosque_count_5000', 'big_church_count_1500',\n",
      "       'cafe_count_1000_na_price', 'radiation_km', 'nuclear_reactor_km',\n",
      "       '0_17_male', 'male_f', 'office_sqm_2000', 'cafe_count_1000_price_500',\n",
      "       'children_school', 'big_church_count_2000', 'park_km',\n",
      "       'railroad_station_walk_km', 'trc_sqm_500',\n",
      "       'school_education_centers_top_20_raion', 'swim_pool_km',\n",
      "       'market_count_1500', 'mosque_km', 'cafe_count_1000_price_1000',\n",
      "       'cafe_count_5000_price_1500', 'floor', 'cafe_count_2000_price_500',\n",
      "       'church_count_5000', 'cafe_count_2000_price_1000', 'office_count_500',\n",
      "       'theater_km', 'cafe_count_1500_na_price', 'fitness_km',\n",
      "       'cafe_count_1000_price_2500', 'railroad_station_avto_min',\n",
      "       'cafe_count_1500_price_2500', 'prom_part_2000', 'hospice_morgue_km',\n",
      "       'green_part_5000', 'cafe_count_3000_price_1500', '0_17_all',\n",
      "       'cafe_count_1000_price_high', 'market_count_500'],\n",
      "      dtype='object')\n"
     ]
    }
   ],
   "source": [
    "# Assuming X_train_full is a pandas DataFrame\n",
    "top_100_feature_names = X_train_full.columns[sorted_indices[:100]]\n",
    "print(top_100_feature_names)\n"
   ]
  },
  {
   "cell_type": "code",
   "execution_count": 91,
   "metadata": {},
   "outputs": [],
   "source": [
    "X_train, X_val, y_train, y_val = train_test_split(X_train_full, y, test_size=0.05, random_state=42)\n"
   ]
  },
  {
   "cell_type": "code",
   "execution_count": 92,
   "metadata": {},
   "outputs": [
    {
     "name": "stdout",
     "output_type": "stream",
     "text": [
      "(172431, 100)\n",
      "(9076, 100)\n",
      "(77789, 100)\n"
     ]
    }
   ],
   "source": [
    "X_train_top100 = X_train[top_100_feature_names]\n",
    "X_val_top100 = X_val[top_100_feature_names]\n",
    "X_test_top100 = X_test[top_100_feature_names]\n",
    "\n",
    "print(X_train_top100.shape)\n",
    "print(X_val_top100.shape)\n",
    "print(X_test_top100.shape)"
   ]
  },
  {
   "cell_type": "code",
   "execution_count": 93,
   "metadata": {},
   "outputs": [
    {
     "data": {
      "text/html": [
       "<style>#sk-container-id-1 {color: black;}#sk-container-id-1 pre{padding: 0;}#sk-container-id-1 div.sk-toggleable {background-color: white;}#sk-container-id-1 label.sk-toggleable__label {cursor: pointer;display: block;width: 100%;margin-bottom: 0;padding: 0.3em;box-sizing: border-box;text-align: center;}#sk-container-id-1 label.sk-toggleable__label-arrow:before {content: \"▸\";float: left;margin-right: 0.25em;color: #696969;}#sk-container-id-1 label.sk-toggleable__label-arrow:hover:before {color: black;}#sk-container-id-1 div.sk-estimator:hover label.sk-toggleable__label-arrow:before {color: black;}#sk-container-id-1 div.sk-toggleable__content {max-height: 0;max-width: 0;overflow: hidden;text-align: left;background-color: #f0f8ff;}#sk-container-id-1 div.sk-toggleable__content pre {margin: 0.2em;color: black;border-radius: 0.25em;background-color: #f0f8ff;}#sk-container-id-1 input.sk-toggleable__control:checked~div.sk-toggleable__content {max-height: 200px;max-width: 100%;overflow: auto;}#sk-container-id-1 input.sk-toggleable__control:checked~label.sk-toggleable__label-arrow:before {content: \"▾\";}#sk-container-id-1 div.sk-estimator input.sk-toggleable__control:checked~label.sk-toggleable__label {background-color: #d4ebff;}#sk-container-id-1 div.sk-label input.sk-toggleable__control:checked~label.sk-toggleable__label {background-color: #d4ebff;}#sk-container-id-1 input.sk-hidden--visually {border: 0;clip: rect(1px 1px 1px 1px);clip: rect(1px, 1px, 1px, 1px);height: 1px;margin: -1px;overflow: hidden;padding: 0;position: absolute;width: 1px;}#sk-container-id-1 div.sk-estimator {font-family: monospace;background-color: #f0f8ff;border: 1px dotted black;border-radius: 0.25em;box-sizing: border-box;margin-bottom: 0.5em;}#sk-container-id-1 div.sk-estimator:hover {background-color: #d4ebff;}#sk-container-id-1 div.sk-parallel-item::after {content: \"\";width: 100%;border-bottom: 1px solid gray;flex-grow: 1;}#sk-container-id-1 div.sk-label:hover label.sk-toggleable__label {background-color: #d4ebff;}#sk-container-id-1 div.sk-serial::before {content: \"\";position: absolute;border-left: 1px solid gray;box-sizing: border-box;top: 0;bottom: 0;left: 50%;z-index: 0;}#sk-container-id-1 div.sk-serial {display: flex;flex-direction: column;align-items: center;background-color: white;padding-right: 0.2em;padding-left: 0.2em;position: relative;}#sk-container-id-1 div.sk-item {position: relative;z-index: 1;}#sk-container-id-1 div.sk-parallel {display: flex;align-items: stretch;justify-content: center;background-color: white;position: relative;}#sk-container-id-1 div.sk-item::before, #sk-container-id-1 div.sk-parallel-item::before {content: \"\";position: absolute;border-left: 1px solid gray;box-sizing: border-box;top: 0;bottom: 0;left: 50%;z-index: -1;}#sk-container-id-1 div.sk-parallel-item {display: flex;flex-direction: column;z-index: 1;position: relative;background-color: white;}#sk-container-id-1 div.sk-parallel-item:first-child::after {align-self: flex-end;width: 50%;}#sk-container-id-1 div.sk-parallel-item:last-child::after {align-self: flex-start;width: 50%;}#sk-container-id-1 div.sk-parallel-item:only-child::after {width: 0;}#sk-container-id-1 div.sk-dashed-wrapped {border: 1px dashed gray;margin: 0 0.4em 0.5em 0.4em;box-sizing: border-box;padding-bottom: 0.4em;background-color: white;}#sk-container-id-1 div.sk-label label {font-family: monospace;font-weight: bold;display: inline-block;line-height: 1.2em;}#sk-container-id-1 div.sk-label-container {text-align: center;}#sk-container-id-1 div.sk-container {/* jupyter's `normalize.less` sets `[hidden] { display: none; }` but bootstrap.min.css set `[hidden] { display: none !important; }` so we also need the `!important` here to be able to override the default hidden behavior on the sphinx rendered scikit-learn.org. See: https://github.com/scikit-learn/scikit-learn/issues/21755 */display: inline-block !important;position: relative;}#sk-container-id-1 div.sk-text-repr-fallback {display: none;}</style><div id=\"sk-container-id-1\" class=\"sk-top-container\"><div class=\"sk-text-repr-fallback\"><pre>SequentialFeatureSelector(estimator=LinearRegression(), n_features_to_select=20)</pre><b>In a Jupyter environment, please rerun this cell to show the HTML representation or trust the notebook. <br />On GitHub, the HTML representation is unable to render, please try loading this page with nbviewer.org.</b></div><div class=\"sk-container\" hidden><div class=\"sk-item sk-dashed-wrapped\"><div class=\"sk-label-container\"><div class=\"sk-label sk-toggleable\"><input class=\"sk-toggleable__control sk-hidden--visually\" id=\"sk-estimator-id-1\" type=\"checkbox\" ><label for=\"sk-estimator-id-1\" class=\"sk-toggleable__label sk-toggleable__label-arrow\">SequentialFeatureSelector</label><div class=\"sk-toggleable__content\"><pre>SequentialFeatureSelector(estimator=LinearRegression(), n_features_to_select=20)</pre></div></div></div><div class=\"sk-parallel\"><div class=\"sk-parallel-item\"><div class=\"sk-item\"><div class=\"sk-label-container\"><div class=\"sk-label sk-toggleable\"><input class=\"sk-toggleable__control sk-hidden--visually\" id=\"sk-estimator-id-2\" type=\"checkbox\" ><label for=\"sk-estimator-id-2\" class=\"sk-toggleable__label sk-toggleable__label-arrow\">estimator: LinearRegression</label><div class=\"sk-toggleable__content\"><pre>LinearRegression()</pre></div></div></div><div class=\"sk-serial\"><div class=\"sk-item\"><div class=\"sk-estimator sk-toggleable\"><input class=\"sk-toggleable__control sk-hidden--visually\" id=\"sk-estimator-id-3\" type=\"checkbox\" ><label for=\"sk-estimator-id-3\" class=\"sk-toggleable__label sk-toggleable__label-arrow\">LinearRegression</label><div class=\"sk-toggleable__content\"><pre>LinearRegression()</pre></div></div></div></div></div></div></div></div></div></div>"
      ],
      "text/plain": [
       "SequentialFeatureSelector(estimator=LinearRegression(), n_features_to_select=20)"
      ]
     },
     "execution_count": 93,
     "metadata": {},
     "output_type": "execute_result"
    }
   ],
   "source": [
    "selector = SequentialFeatureSelector(estimator=LinearRegression(), n_features_to_select=20)\n",
    "selector.fit(X_train_top100, y_train)\n"
   ]
  },
  {
   "cell_type": "code",
   "execution_count": 94,
   "metadata": {},
   "outputs": [
    {
     "name": "stdout",
     "output_type": "stream",
     "text": [
      "(172431, 20)\n",
      "(9076, 20)\n",
      "(77789, 20)\n"
     ]
    }
   ],
   "source": [
    "\n",
    "# Get the selected feature indices\n",
    "selected_feature_indices = selector.get_support()\n",
    "\n",
    "# Select the 20 best features\n",
    "X_train_top20 = X_train_top100.iloc[:, selected_feature_indices]\n",
    "X_val_top20 = X_val_top100.iloc[:, selected_feature_indices]\n",
    "X_test_top20 = X_test_top100.iloc[:, selected_feature_indices]\n",
    "\n",
    "print(X_train_top20.shape)\n",
    "print(X_val_top20.shape)\n",
    "print(X_test_top20.shape)"
   ]
  },
  {
   "cell_type": "code",
   "execution_count": 100,
   "metadata": {},
   "outputs": [
    {
     "name": "stdout",
     "output_type": "stream",
     "text": [
      "(172431, 211)\n",
      "(9076, 211)\n",
      "(77789, 211)\n"
     ]
    }
   ],
   "source": [
    "poly = PolynomialFeatures(degree=2, interaction_only=True)\n",
    "X_train_poly = poly.fit_transform(X_train_top20)\n",
    "X_val_poly = poly.transform(X_val_top20)\n",
    "X_test_poly = poly.transform(X_test_top20)\n",
    "\n",
    "print(X_train_poly.shape)\n",
    "print(X_val_poly.shape)\n",
    "print(X_test_poly.shape)"
   ]
  },
  {
   "cell_type": "code",
   "execution_count": 101,
   "metadata": {},
   "outputs": [],
   "source": [
    "pca = PCA(n_components=200)\n",
    "X_train_pca = pca.fit_transform(X_train_poly)\n",
    "X_val_pca = pca.transform(X_val_poly)\n",
    "X_test_pca = pca.transform(X_test_poly)\n"
   ]
  },
  {
   "cell_type": "code",
   "execution_count": 102,
   "metadata": {},
   "outputs": [
    {
     "name": "stdout",
     "output_type": "stream",
     "text": [
      "(172431, 200)\n",
      "(9076, 200)\n",
      "(77789, 200)\n"
     ]
    }
   ],
   "source": [
    "print(X_train_pca.shape)\n",
    "print(X_val_pca.shape)\n",
    "print(X_test_pca.shape)\n"
   ]
  },
  {
   "cell_type": "code",
   "execution_count": 103,
   "metadata": {},
   "outputs": [
    {
     "name": "stdout",
     "output_type": "stream",
     "text": [
      "RMSE on validation set: 13395237.808008611\n"
     ]
    }
   ],
   "source": [
    "\n",
    "\n",
    "model = Ridge()\n",
    "model.fit(X_train_pca, y_train)\n",
    "\n",
    "# Evaluate the model on the validation set\n",
    "predictions = model.predict(X_val_pca)\n",
    "rmse = np.sqrt(mean_squared_error(y_val, predictions))\n",
    "print(f\"RMSE on validation set:\", rmse)\n"
   ]
  },
  {
   "cell_type": "code",
   "execution_count": 104,
   "metadata": {},
   "outputs": [],
   "source": [
    "test_predictions = model.predict(X_test_pca)\n",
    "\n",
    "# Create a DataFrame with 'row ID' and predictions\n",
    "result_df = pd.DataFrame({'row ID': row_ids, 'price_doc': test_predictions})\n",
    "\n",
    "# Save the results to a CSV file\n",
    "result_df.to_csv('predictions_23.csv', index=False)"
   ]
  },
  {
   "cell_type": "code",
   "execution_count": 77,
   "metadata": {},
   "outputs": [
    {
     "name": "stdout",
     "output_type": "stream",
     "text": [
      "(181507, 242)\n",
      "(77789, 242)\n"
     ]
    }
   ],
   "source": [
    "import pandas as pd\n",
    "from sklearn.feature_selection import VarianceThreshold\n",
    "\n",
    "threshold = 1\n",
    "\n",
    "selector = VarianceThreshold(threshold=threshold)\n",
    "X_filtered = selector.fit_transform(X_train_full)\n",
    "\n",
    "selected_feature_indices = selector.get_support()\n",
    "selected_feature_names = X_train_full.columns[selected_feature_indices]\n",
    "\n",
    "X_train_full = X_train_full[selected_feature_names]\n",
    "X_test = X_test[selected_feature_names]\n",
    "\n",
    "print(X_train_full.shape)\n",
    "print(X_test.shape)"
   ]
  },
  {
   "cell_type": "code",
   "execution_count": 82,
   "metadata": {},
   "outputs": [],
   "source": [
    "\n",
    "# Scale the values\n",
    "scaler = StandardScaler()\n",
    "X_train_full = scaler.fit_transform(X_train_full)\n",
    "X_test = scaler.transform(X_test)\n",
    "\n",
    "# Split the data into training and validation sets\n",
    "X_train, X_val, y_train, y_val = train_test_split(X_train_full, y, test_size=0.05, random_state=42)\n"
   ]
  },
  {
   "cell_type": "code",
   "execution_count": null,
   "metadata": {},
   "outputs": [],
   "source": [
    "\n",
    "selector = SequentialFeatureSelector(estimator=LinearRegression(), n_features_to_select=10)\n",
    "\n",
    "# Fit the selector to the training data\n",
    "selector.fit(X_train, y_train)\n",
    "\n",
    "# Get the selected feature indices\n",
    "selected_feature_indices = selector.k_feature_idx_"
   ]
  },
  {
   "cell_type": "code",
   "execution_count": null,
   "metadata": {},
   "outputs": [],
   "source": []
  },
  {
   "cell_type": "code",
   "execution_count": 52,
   "metadata": {},
   "outputs": [],
   "source": [
    "pca = PCA(n_components=250)  # Adjust the number of components as needed\n",
    "X_train_pca = pca.fit_transform(X_train)\n",
    "\n",
    "# Apply PCA on the scaled validation data\n",
    "X_val_pca = pca.transform(X_val)\n",
    "\n",
    "X_test_pca = pca.transform(X_test)"
   ]
  },
  {
   "cell_type": "code",
   "execution_count": 20,
   "metadata": {},
   "outputs": [],
   "source": [
    "model = LinearRegression()\n",
    "\n",
    "num_features_to_select = 30  # You can adjust the number of features you want to select\n",
    "rfe = RFE(model, n_features_to_select=num_features_to_select, step=2)\n",
    "\n",
    "# Fit the RFE to your data\n",
    "rfe.fit(X_train_pca, y_train)\n",
    "\n",
    "# Get the selected feature indices\n",
    "selected_feature_indices = np.where(rfe.support_)[0]"
   ]
  },
  {
   "cell_type": "code",
   "execution_count": 23,
   "metadata": {},
   "outputs": [
    {
     "name": "stdout",
     "output_type": "stream",
     "text": [
      "(172431, 30)\n",
      "(9076, 30)\n",
      "(77789, 30)\n"
     ]
    }
   ],
   "source": [
    "X_train_pca = X_train_pca[:, selected_feature_indices]\n",
    "X_val_pca = X_val_pca[:, selected_feature_indices]\n",
    "X_test_pca = X_test_pca[:, selected_feature_indices]\n",
    "\n",
    "print(X_train_pca.shape)\n",
    "print(X_val_pca.shape)\n",
    "print(X_test_pca.shape)"
   ]
  },
  {
   "cell_type": "code",
   "execution_count": 53,
   "metadata": {},
   "outputs": [
    {
     "name": "stdout",
     "output_type": "stream",
     "text": [
      "RMSE on validation set: 13374208.247026734\n"
     ]
    }
   ],
   "source": [
    "\n",
    "# Train the linear regression model\n",
    "model = LinearRegression()\n",
    "model.fit(X_train_pca, y_train)\n",
    "\n",
    "# Evaluate the model on the validation set\n",
    "predictions = model.predict(X_val_pca)\n",
    "rmse = np.sqrt(mean_squared_error(y_val, predictions))\n",
    "print(f\"RMSE on validation set:\", rmse)\n",
    "\n",
    "# Make predictions on the test data\n",
    "# test_predictions = model.predict(X_test)\n",
    "\n",
    "# # Create a DataFrame with 'row ID' and predictions\n",
    "# result_df = pd.DataFrame({'row ID': row_ids, 'price_doc': test_predictions})\n",
    "\n",
    "# # Save the results to a CSV file\n",
    "# result_df.to_csv('predictions_linear_regression.csv', index=False)\n"
   ]
  },
  {
   "cell_type": "code",
   "execution_count": 54,
   "metadata": {},
   "outputs": [],
   "source": [
    "\n",
    "# Make predictions on the test data\n",
    "test_predictions = model.predict(X_test_pca)\n",
    "\n",
    "# Create a DataFrame with 'row ID' and predictions\n",
    "result_df = pd.DataFrame({'row ID': row_ids, 'price_doc': test_predictions})\n",
    "\n",
    "# Save the results to a CSV file\n",
    "result_df.to_csv('predictions_22.csv', index=False)"
   ]
  }
 ],
 "metadata": {
  "kernelspec": {
   "display_name": "imlenv",
   "language": "python",
   "name": "python3"
  },
  "language_info": {
   "codemirror_mode": {
    "name": "ipython",
    "version": 3
   },
   "file_extension": ".py",
   "mimetype": "text/x-python",
   "name": "python",
   "nbconvert_exporter": "python",
   "pygments_lexer": "ipython3",
   "version": "3.10.12"
  }
 },
 "nbformat": 4,
 "nbformat_minor": 2
}
