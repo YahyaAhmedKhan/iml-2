{
 "cells": [
  {
   "cell_type": "code",
   "execution_count": 79,
   "metadata": {},
   "outputs": [],
   "source": [
    "import pandas as pd\n",
    "import numpy as np\n",
    "from sklearn.preprocessing import LabelEncoder, StandardScaler\n",
    "from sklearn.model_selection import train_test_split\n",
    "from sklearn.linear_model import LinearRegression\n",
    "from sklearn.metrics import mean_squared_error\n",
    "import pandas as pd\n",
    "import numpy as np\n",
    "from sklearn.model_selection import train_test_split\n",
    "from sklearn.preprocessing import PolynomialFeatures, StandardScaler, MinMaxScaler\n",
    "from sklearn.linear_model import LinearRegression\n",
    "from sklearn.decomposition import PCA\n",
    "from sklearn.feature_selection import RFE\n",
    "from sklearn.feature_selection import SequentialFeatureSelector\n"
   ]
  },
  {
   "cell_type": "code",
   "execution_count": 2,
   "metadata": {},
   "outputs": [],
   "source": [
    "\n",
    "# Load the training and test data\n",
    "df_train_orig = pd.read_csv('train.csv')\n",
    "df_test_orig = pd.read_csv('test.csv')\n"
   ]
  },
  {
   "cell_type": "code",
   "execution_count": 26,
   "metadata": {},
   "outputs": [],
   "source": [
    "\n",
    "# Make a copy of the original data\n",
    "df_train = df_train_orig.copy()\n",
    "df_test = df_test_orig.copy()\n",
    "target_col = 'price_doc'\n",
    "row_id_col = 'row ID'\n"
   ]
  },
  {
   "cell_type": "code",
   "execution_count": 31,
   "metadata": {},
   "outputs": [
    {
     "name": "stdout",
     "output_type": "stream",
     "text": [
      "(181507, 272)\n",
      "sub_area\n",
      "Other                       75731\n",
      "Poselenie Shhapovskoe        1105\n",
      "Alekseevskoe                 1104\n",
      "Tverskoe                     1101\n",
      "Poselenie Mosrentgen         1099\n",
      "                            ...  \n",
      "Poselenie Filimonkovskoe     1051\n",
      "Pechatniki                   1050\n",
      "Marfino                      1050\n",
      "Orehovo-Borisovo Juzhnoe     1049\n",
      "Chertanovo Juzhnoe           1049\n",
      "Name: count, Length: 100, dtype: int64\n"
     ]
    }
   ],
   "source": [
    "\n",
    "# # Label encode the 'sub_area' column\n",
    "# label_encoder = LabelEncoder()\n",
    "# df_train['sub_area'] = label_encoder.fit_transform(df_train['sub_area'])\n",
    "# df_test['sub_area'] = label_encoder.transform(df_test['sub_area'])\n",
    "\n",
    "\n",
    "# RUN ABOVE OR BELOW CODE\n",
    "\n",
    "\n",
    "# Calculate the counts of each category in the \"sub_area\" column\n",
    "category_counts = df_train['sub_area'].value_counts()\n",
    "\n",
    "# Identify the top 10 categories\n",
    "top_categories = category_counts.head(100).index\n",
    "\n",
    "# Replace categories not in the top 10 with \"Other\"\n",
    "df_train.loc[~df_train['sub_area'].isin(top_categories), 'sub_area'] = 'Other'\n",
    "df_test.loc[~df_test['sub_area'].isin(top_categories), 'sub_area'] = 'Other'\n",
    "\n",
    "# Display the modified DataFrame\n",
    "print(df_train.shape )\n",
    "category_counts = df_train['sub_area'].value_counts()\n",
    "\n",
    "# Display the counts of each category\n",
    "category_counts_after_replacement = df_train['sub_area'].value_counts()\n",
    "print(category_counts_after_replacement)\n",
    "\n",
    "# after this dub area has 100 categories and rest are replaced by other\n"
   ]
  },
  {
   "cell_type": "code",
   "execution_count": 32,
   "metadata": {},
   "outputs": [
    {
     "name": "stdout",
     "output_type": "stream",
     "text": [
      "(181507, 272)\n",
      "(77789, 272)\n"
     ]
    }
   ],
   "source": [
    "print(df_train.shape)\n",
    "print(df_test.shape)"
   ]
  },
  {
   "cell_type": "code",
   "execution_count": 76,
   "metadata": {},
   "outputs": [
    {
     "name": "stdout",
     "output_type": "stream",
     "text": [
      "(181507, 372)\n",
      "(77789, 372)\n"
     ]
    }
   ],
   "source": [
    "\n",
    "# Create dummy variables for categorical features\n",
    "X_train_full = pd.get_dummies(df_train.drop(columns=[target_col]), drop_first=True)\n",
    "y = df_train[target_col]\n",
    "\n",
    "X_test = pd.get_dummies(df_test, drop_first=True)\n",
    "\n",
    "# Extract the 'row ID' column for later use and remove it from X_test\n",
    "row_ids = df_test['row ID']\n",
    "X_test.drop(['row ID'], axis=1, inplace=True)\n",
    "\n",
    "print(X_train_full.shape)\n",
    "print(X_test.shape)"
   ]
  },
  {
   "cell_type": "code",
   "execution_count": 77,
   "metadata": {},
   "outputs": [
    {
     "name": "stdout",
     "output_type": "stream",
     "text": [
      "(181507, 242)\n",
      "(77789, 242)\n"
     ]
    }
   ],
   "source": [
    "import pandas as pd\n",
    "from sklearn.feature_selection import VarianceThreshold\n",
    "\n",
    "threshold = 1\n",
    "\n",
    "selector = VarianceThreshold(threshold=threshold)\n",
    "X_filtered = selector.fit_transform(X_train_full)\n",
    "\n",
    "selected_feature_indices = selector.get_support()\n",
    "selected_feature_names = X_train_full.columns[selected_feature_indices]\n",
    "\n",
    "X_train_full = X_train_full[selected_feature_names]\n",
    "X_test = X_test[selected_feature_names]\n",
    "\n",
    "print(X_train_full.shape)\n",
    "print(X_test.shape)"
   ]
  },
  {
   "cell_type": "code",
   "execution_count": 51,
   "metadata": {},
   "outputs": [],
   "source": [
    "\n",
    "# Scale the values\n",
    "scaler = StandardScaler()\n",
    "X_train_full = scaler.fit_transform(X_train_full)\n",
    "X_test = scaler.transform(X_test)\n",
    "\n",
    "# Split the data into training and validation sets\n",
    "X_train, X_val, y_train, y_val = train_test_split(X_train_full, y, test_size=0.05, random_state=42)\n"
   ]
  },
  {
   "cell_type": "code",
   "execution_count": null,
   "metadata": {},
   "outputs": [],
   "source": [
    "model = LinearRegression()\n",
    "\n",
    "selector = SequentialFeatureSelector(model, forward=True, k_features=10)\n",
    "\n",
    "# Fit the selector to the training data\n",
    "selector.fit(X_train_full, y_train)\n",
    "\n",
    "# Get the selected feature indices\n",
    "selected_feature_indices = selector.k_feature_idx_"
   ]
  },
  {
   "cell_type": "code",
   "execution_count": null,
   "metadata": {},
   "outputs": [],
   "source": []
  },
  {
   "cell_type": "code",
   "execution_count": 52,
   "metadata": {},
   "outputs": [],
   "source": [
    "pca = PCA(n_components=250)  # Adjust the number of components as needed\n",
    "X_train_pca = pca.fit_transform(X_train)\n",
    "\n",
    "# Apply PCA on the scaled validation data\n",
    "X_val_pca = pca.transform(X_val)\n",
    "\n",
    "X_test_pca = pca.transform(X_test)"
   ]
  },
  {
   "cell_type": "code",
   "execution_count": 20,
   "metadata": {},
   "outputs": [],
   "source": [
    "model = LinearRegression()\n",
    "\n",
    "num_features_to_select = 30  # You can adjust the number of features you want to select\n",
    "rfe = RFE(model, n_features_to_select=num_features_to_select, step=2)\n",
    "\n",
    "# Fit the RFE to your data\n",
    "rfe.fit(X_train_pca, y_train)\n",
    "\n",
    "# Get the selected feature indices\n",
    "selected_feature_indices = np.where(rfe.support_)[0]"
   ]
  },
  {
   "cell_type": "code",
   "execution_count": 23,
   "metadata": {},
   "outputs": [
    {
     "name": "stdout",
     "output_type": "stream",
     "text": [
      "(172431, 30)\n",
      "(9076, 30)\n",
      "(77789, 30)\n"
     ]
    }
   ],
   "source": [
    "X_train_pca = X_train_pca[:, selected_feature_indices]\n",
    "X_val_pca = X_val_pca[:, selected_feature_indices]\n",
    "X_test_pca = X_test_pca[:, selected_feature_indices]\n",
    "\n",
    "print(X_train_pca.shape)\n",
    "print(X_val_pca.shape)\n",
    "print(X_test_pca.shape)"
   ]
  },
  {
   "cell_type": "code",
   "execution_count": 53,
   "metadata": {},
   "outputs": [
    {
     "name": "stdout",
     "output_type": "stream",
     "text": [
      "RMSE on validation set: 13374208.247026734\n"
     ]
    }
   ],
   "source": [
    "\n",
    "# Train the linear regression model\n",
    "model = LinearRegression()\n",
    "model.fit(X_train_pca, y_train)\n",
    "\n",
    "# Evaluate the model on the validation set\n",
    "predictions = model.predict(X_val_pca)\n",
    "rmse = np.sqrt(mean_squared_error(y_val, predictions))\n",
    "print(f\"RMSE on validation set:\", rmse)\n",
    "\n",
    "# Make predictions on the test data\n",
    "# test_predictions = model.predict(X_test)\n",
    "\n",
    "# # Create a DataFrame with 'row ID' and predictions\n",
    "# result_df = pd.DataFrame({'row ID': row_ids, 'price_doc': test_predictions})\n",
    "\n",
    "# # Save the results to a CSV file\n",
    "# result_df.to_csv('predictions_linear_regression.csv', index=False)\n"
   ]
  },
  {
   "cell_type": "code",
   "execution_count": 54,
   "metadata": {},
   "outputs": [],
   "source": [
    "\n",
    "# Make predictions on the test data\n",
    "test_predictions = model.predict(X_test_pca)\n",
    "\n",
    "# Create a DataFrame with 'row ID' and predictions\n",
    "result_df = pd.DataFrame({'row ID': row_ids, 'price_doc': test_predictions})\n",
    "\n",
    "# Save the results to a CSV file\n",
    "result_df.to_csv('predictions_22.csv', index=False)"
   ]
  }
 ],
 "metadata": {
  "kernelspec": {
   "display_name": "imlenv",
   "language": "python",
   "name": "python3"
  },
  "language_info": {
   "codemirror_mode": {
    "name": "ipython",
    "version": 3
   },
   "file_extension": ".py",
   "mimetype": "text/x-python",
   "name": "python",
   "nbconvert_exporter": "python",
   "pygments_lexer": "ipython3",
   "version": "3.10.12"
  }
 },
 "nbformat": 4,
 "nbformat_minor": 2
}
