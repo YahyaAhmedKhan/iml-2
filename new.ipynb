{
 "cells": [
  {
   "cell_type": "code",
   "execution_count": null,
   "metadata": {},
   "outputs": [],
   "source": [
    "import pandas as pd\n",
    "import numpy as np\n",
    "from sklearn.preprocessing import LabelEncoder, StandardScaler\n",
    "from sklearn.model_selection import train_test_split\n",
    "from sklearn.linear_model import LinearRegression\n",
    "from sklearn.metrics import mean_squared_error\n",
    "import pandas as pd\n",
    "import numpy as np\n",
    "from sklearn.model_selection import train_test_split\n",
    "from sklearn.preprocessing import PolynomialFeatures, StandardScaler, MinMaxScaler\n",
    "from sklearn.linear_model import LinearRegression\n"
   ]
  },
  {
   "cell_type": "code",
   "execution_count": 350,
   "metadata": {},
   "outputs": [
    {
     "ename": "KeyboardInterrupt",
     "evalue": "",
     "output_type": "error",
     "traceback": [
      "\u001b[0;31m---------------------------------------------------------------------------\u001b[0m",
      "\u001b[0;31mKeyboardInterrupt\u001b[0m                         Traceback (most recent call last)",
      "\u001b[1;32m/Users/yahyaahmedkhan/Downloads/iml-second-competition-regression-analysis/new.ipynb Cell 2\u001b[0m line \u001b[0;36m8\n\u001b[1;32m      <a href='vscode-notebook-cell:/Users/yahyaahmedkhan/Downloads/iml-second-competition-regression-analysis/new.ipynb#X52sZmlsZQ%3D%3D?line=5'>6</a>\u001b[0m \u001b[39m# Make a copy of the original data\u001b[39;00m\n\u001b[1;32m      <a href='vscode-notebook-cell:/Users/yahyaahmedkhan/Downloads/iml-second-competition-regression-analysis/new.ipynb#X52sZmlsZQ%3D%3D?line=6'>7</a>\u001b[0m df_train \u001b[39m=\u001b[39m df_train_orig\u001b[39m.\u001b[39mcopy()\n\u001b[0;32m----> <a href='vscode-notebook-cell:/Users/yahyaahmedkhan/Downloads/iml-second-competition-regression-analysis/new.ipynb#X52sZmlsZQ%3D%3D?line=7'>8</a>\u001b[0m df_test \u001b[39m=\u001b[39m df_test_orig\u001b[39m.\u001b[39;49mcopy()\n\u001b[1;32m      <a href='vscode-notebook-cell:/Users/yahyaahmedkhan/Downloads/iml-second-competition-regression-analysis/new.ipynb#X52sZmlsZQ%3D%3D?line=8'>9</a>\u001b[0m target_col \u001b[39m=\u001b[39m \u001b[39m'\u001b[39m\u001b[39mprice_doc\u001b[39m\u001b[39m'\u001b[39m\n\u001b[1;32m     <a href='vscode-notebook-cell:/Users/yahyaahmedkhan/Downloads/iml-second-competition-regression-analysis/new.ipynb#X52sZmlsZQ%3D%3D?line=9'>10</a>\u001b[0m row_id_col \u001b[39m=\u001b[39m \u001b[39m'\u001b[39m\u001b[39mrow ID\u001b[39m\u001b[39m'\u001b[39m\n",
      "File \u001b[0;32m/opt/homebrew/Caskroom/miniforge/base/envs/imlenv/lib/python3.10/site-packages/pandas/core/generic.py:6685\u001b[0m, in \u001b[0;36mNDFrame.copy\u001b[0;34m(self, deep)\u001b[0m\n\u001b[1;32m   6553\u001b[0m \u001b[39m@final\u001b[39m\n\u001b[1;32m   6554\u001b[0m \u001b[39mdef\u001b[39;00m \u001b[39mcopy\u001b[39m(\u001b[39mself\u001b[39m, deep: bool_t \u001b[39m|\u001b[39m \u001b[39mNone\u001b[39;00m \u001b[39m=\u001b[39m \u001b[39mTrue\u001b[39;00m) \u001b[39m-\u001b[39m\u001b[39m>\u001b[39m Self:\n\u001b[1;32m   6555\u001b[0m \u001b[39m    \u001b[39m\u001b[39m\"\"\"\u001b[39;00m\n\u001b[1;32m   6556\u001b[0m \u001b[39m    Make a copy of this object's indices and data.\u001b[39;00m\n\u001b[1;32m   6557\u001b[0m \n\u001b[0;32m   (...)\u001b[0m\n\u001b[1;32m   6683\u001b[0m \u001b[39m    dtype: int64\u001b[39;00m\n\u001b[1;32m   6684\u001b[0m \u001b[39m    \"\"\"\u001b[39;00m\n\u001b[0;32m-> 6685\u001b[0m     data \u001b[39m=\u001b[39m \u001b[39mself\u001b[39;49m\u001b[39m.\u001b[39;49m_mgr\u001b[39m.\u001b[39;49mcopy(deep\u001b[39m=\u001b[39;49mdeep)\n\u001b[1;32m   6686\u001b[0m     \u001b[39mself\u001b[39m\u001b[39m.\u001b[39m_clear_item_cache()\n\u001b[1;32m   6687\u001b[0m     \u001b[39mreturn\u001b[39;00m \u001b[39mself\u001b[39m\u001b[39m.\u001b[39m_constructor_from_mgr(data, axes\u001b[39m=\u001b[39mdata\u001b[39m.\u001b[39maxes)\u001b[39m.\u001b[39m__finalize__(\n\u001b[1;32m   6688\u001b[0m         \u001b[39mself\u001b[39m, method\u001b[39m=\u001b[39m\u001b[39m\"\u001b[39m\u001b[39mcopy\u001b[39m\u001b[39m\"\u001b[39m\n\u001b[1;32m   6689\u001b[0m     )\n",
      "File \u001b[0;32m/opt/homebrew/Caskroom/miniforge/base/envs/imlenv/lib/python3.10/site-packages/pandas/core/internals/managers.py:576\u001b[0m, in \u001b[0;36mBaseBlockManager.copy\u001b[0;34m(self, deep)\u001b[0m\n\u001b[1;32m    573\u001b[0m     \u001b[39melse\u001b[39;00m:\n\u001b[1;32m    574\u001b[0m         new_axes \u001b[39m=\u001b[39m \u001b[39mlist\u001b[39m(\u001b[39mself\u001b[39m\u001b[39m.\u001b[39maxes)\n\u001b[0;32m--> 576\u001b[0m res \u001b[39m=\u001b[39m \u001b[39mself\u001b[39;49m\u001b[39m.\u001b[39;49mapply(\u001b[39m\"\u001b[39;49m\u001b[39mcopy\u001b[39;49m\u001b[39m\"\u001b[39;49m, deep\u001b[39m=\u001b[39;49mdeep)\n\u001b[1;32m    577\u001b[0m res\u001b[39m.\u001b[39maxes \u001b[39m=\u001b[39m new_axes\n\u001b[1;32m    579\u001b[0m \u001b[39mif\u001b[39;00m \u001b[39mself\u001b[39m\u001b[39m.\u001b[39mndim \u001b[39m>\u001b[39m \u001b[39m1\u001b[39m:\n\u001b[1;32m    580\u001b[0m     \u001b[39m# Avoid needing to re-compute these\u001b[39;00m\n",
      "File \u001b[0;32m/opt/homebrew/Caskroom/miniforge/base/envs/imlenv/lib/python3.10/site-packages/pandas/core/internals/managers.py:354\u001b[0m, in \u001b[0;36mBaseBlockManager.apply\u001b[0;34m(self, f, align_keys, **kwargs)\u001b[0m\n\u001b[1;32m    352\u001b[0m         applied \u001b[39m=\u001b[39m b\u001b[39m.\u001b[39mapply(f, \u001b[39m*\u001b[39m\u001b[39m*\u001b[39mkwargs)\n\u001b[1;32m    353\u001b[0m     \u001b[39melse\u001b[39;00m:\n\u001b[0;32m--> 354\u001b[0m         applied \u001b[39m=\u001b[39m \u001b[39mgetattr\u001b[39;49m(b, f)(\u001b[39m*\u001b[39;49m\u001b[39m*\u001b[39;49mkwargs)\n\u001b[1;32m    355\u001b[0m     result_blocks \u001b[39m=\u001b[39m extend_blocks(applied, result_blocks)\n\u001b[1;32m    357\u001b[0m out \u001b[39m=\u001b[39m \u001b[39mtype\u001b[39m(\u001b[39mself\u001b[39m)\u001b[39m.\u001b[39mfrom_blocks(result_blocks, \u001b[39mself\u001b[39m\u001b[39m.\u001b[39maxes)\n",
      "File \u001b[0;32m/opt/homebrew/Caskroom/miniforge/base/envs/imlenv/lib/python3.10/site-packages/pandas/core/internals/blocks.py:645\u001b[0m, in \u001b[0;36mBlock.copy\u001b[0;34m(self, deep)\u001b[0m\n\u001b[1;32m    643\u001b[0m refs: BlockValuesRefs \u001b[39m|\u001b[39m \u001b[39mNone\u001b[39;00m\n\u001b[1;32m    644\u001b[0m \u001b[39mif\u001b[39;00m deep:\n\u001b[0;32m--> 645\u001b[0m     values \u001b[39m=\u001b[39m values\u001b[39m.\u001b[39;49mcopy()\n\u001b[1;32m    646\u001b[0m     refs \u001b[39m=\u001b[39m \u001b[39mNone\u001b[39;00m\n\u001b[1;32m    647\u001b[0m \u001b[39melse\u001b[39;00m:\n",
      "\u001b[0;31mKeyboardInterrupt\u001b[0m: "
     ]
    }
   ],
   "source": [
    "\n",
    "# Load the training and test data\n",
    "df_train_orig = pd.read_csv('train.csv')\n",
    "df_test_orig = pd.read_csv('test.csv')\n",
    "\n",
    "# Make a copy of the original data\n",
    "df_train = df_train_orig.copy()\n",
    "df_test = df_test_orig.copy()\n",
    "target_col = 'price_doc'\n",
    "row_id_col = 'row ID'\n",
    "\n",
    "# Label encode the 'sub_area' column\n",
    "label_encoder = LabelEncoder()\n",
    "df_train['sub_area'] = label_encoder.fit_transform(df_train['sub_area'])\n",
    "df_test['sub_area'] = label_encoder.transform(df_test['sub_area'])\n",
    "\n",
    "# Create dummy variables for categorical features\n",
    "X_train = pd.get_dummies(df_train.drop(columns=[target_col]), drop_first=True)\n",
    "X_test = pd.get_dummies(df_test, drop_first=True)\n",
    "\n",
    "# Extract the 'row ID' column for later use and remove it from X_test\n",
    "row_ids = df_test['row ID']\n",
    "X_test.drop(['row ID'], axis=1, inplace=True)\n",
    "\n",
    "# Extract the target variable\n",
    "y = df_train[target_col]\n",
    "\n",
    "# Scale the values\n",
    "scaler = StandardScaler()\n",
    "X_train = scaler.fit_transform(X_train)\n",
    "X_test = scaler.transform(X_test)\n",
    "\n",
    "# Split the data into training and validation sets\n",
    "X_train, X_val, y_train, y_val = train_test_split(X_train, y, test_size=0.05, random_state=42)\n",
    "\n",
    "# Train the linear regression model\n",
    "model = ()\n",
    "model.fit(X_train, y_train)\n",
    "\n",
    "# Evaluate the model on the validation set\n",
    "predictions = model.predict(X_val)\n",
    "rmse = np.sqrt(mean_squared_error(y_val, predictions))\n",
    "print(f\"RMSE on validation set:\", rmse)\n",
    "\n",
    "# Make predictions on the test data\n",
    "# test_predictions = model.predict(X_test)\n",
    "\n",
    "# # Create a DataFrame with 'row ID' and predictions\n",
    "# result_df = pd.DataFrame({'row ID': row_ids, 'price_doc': test_predictions})\n",
    "\n",
    "# # Save the results to a CSV file\n",
    "# result_df.to_csv('predictions_linear_regression.csv', index=False)\n"
   ]
  },
  {
   "cell_type": "code",
   "execution_count": null,
   "metadata": {},
   "outputs": [],
   "source": [
    "import pandas as pd\n",
    "import numpy as np\n",
    "from sklearn.preprocessing import LabelEncoder, StandardScaler\n",
    "from sklearn.model_selection import train_test_split\n",
    "from sklearn.linear_model import Ridge,Lasso\n",
    "from sklearn.metrics import mean_squared_error\n",
    "\n",
    "# Load the training and test data\n",
    "df_train_orig = pd.read_csv('train.csv')\n",
    "df_test_orig = pd.read_csv('test.csv')\n",
    "\n",
    "# Make a copy of the original data\n",
    "df_train = df_train_orig.copy()\n",
    "df_test = df_test_orig.copy()\n",
    "target_col = 'price_doc'\n",
    "row_id_col = 'row ID'\n",
    "\n",
    "# Label encode the 'sub_area' column\n",
    "label_encoder = LabelEncoder()\n",
    "df_train['sub_area'] = label_encoder.fit_transform(df_train['sub_area'])\n",
    "df_test['sub_area'] = label_encoder.transform(df_test['sub_area'])\n",
    "\n",
    "# Create dummy variables for categorical features\n",
    "X_train = pd.get_dummies(df_train.drop(columns=[target_col]), drop_first=True)\n",
    "X_test = pd.get_dummies(df_test, drop_first=True)\n",
    "\n",
    "# Extract the 'row ID' column for later use and remove it from X_test\n",
    "row_ids = df_test['row ID']\n",
    "X_test.drop(['row ID'], axis=1, inplace=True)\n",
    "\n",
    "# Extract the target variable\n",
    "y = df_train[target_col]\n",
    "\n",
    "# Scale the values\n",
    "scaler = StandardScaler()\n",
    "X_train = scaler.fit_transform(X_train)\n",
    "X_test = scaler.transform(X_test)\n",
    "\n",
    "# Split the data into training and validation sets\n",
    "X_train, X_val, y_train, y_val = train_test_split(X_train, y, test_size=0.05, random_state=42)\n",
    "\n",
    "# Initialize the Ridge Regression model with your desired hyperparameters\n",
    "alpha = 1.0  # You can adjust the regularization strength (alpha) as needed\n",
    "ridge_model = Lasso(alpha=alpha, max_iter=10000, tol=0.01)\n",
    "\n",
    "# Train the Ridge Regression model\n",
    "ridge_model.fit(X_train, y_train)\n",
    "\n",
    "# Evaluate the model on the validation set\n",
    "predictions = ridge_model.predict(X_val)\n",
    "rmse = np.sqrt(mean_squared_error(y_val, predictions))\n",
    "print(f\"RMSE on validation set:\", rmse)\n",
    "\n",
    "# Make predictions on the test data\n",
    "# test_predictions = ridge_model.predict(X_test)\n",
    "\n",
    "# # Create a DataFrame with 'row ID' and predictions\n",
    "# result_df = pd.DataFrame({'row ID': row_ids, 'price_doc': test_predictions})\n",
    "\n",
    "# # Save the results to a CSV file\n",
    "# result_df.to_csv('predictions_ridge_regression.csv', index=False)\n"
   ]
  },
  {
   "cell_type": "code",
   "execution_count": null,
   "metadata": {},
   "outputs": [],
   "source": [
    "import pandas as pd\n",
    "import numpy as np\n",
    "from sklearn.preprocessing import LabelEncoder, StandardScaler\n",
    "from sklearn.model_selection import train_test_split\n",
    "from sklearn.linear_model import LinearRegression\n",
    "from sklearn.feature_selection import RFE\n",
    "from sklearn.metrics import mean_squared_error\n",
    "\n",
    "# Load the training and test data\n",
    "df_train_orig = pd.read_csv('train.csv')\n",
    "df_test_orig = pd.read_csv('test.csv')\n",
    "\n",
    "# Make a copy of the original data\n",
    "df_train = df_train_orig.copy()\n",
    "df_test = df_test_orig.copy()\n",
    "target_col = 'price_doc'\n",
    "row_id_col = 'row ID'\n",
    "\n",
    "# Label encode the 'sub_area' column\n",
    "label_encoder = LabelEncoder()\n",
    "df_train['sub_area'] = label_encoder.fit_transform(df_train['sub_area'])\n",
    "df_test['sub_area'] = label_encoder.transform(df_test['sub_area'])\n",
    "\n",
    "# Create dummy variables for categorical features\n",
    "X_train = pd.get_dummies(df_train.drop(columns=[target_col]), drop_first=True)\n",
    "X_test = pd.get_dummies(df_test, drop_first=True)\n",
    "\n",
    "# Extract the 'row ID' column for later use and remove it from X_test\n",
    "row_ids = df_test['row ID']\n",
    "X_test.drop(['row ID'], axis=1, inplace=True)\n",
    "\n",
    "# Extract the target variable\n",
    "y = df_train[target_col]\n",
    "\n",
    "# Scale the values\n",
    "scaler = StandardScaler()\n",
    "X_train = scaler.fit_transform(X_train)\n",
    "X_test = scaler.transform(X_test)\n",
    "\n",
    "# Split the data into training and validation sets\n",
    "X_train, X_val, y_train, y_val = train_test_split(X_train, y, test_size=0.05, random_state=42)\n",
    "\n",
    "# Initialize the linear regression model\n",
    "model = LinearRegression()\n",
    "\n",
    "# Initialize the RFE model for feature selection\n",
    "num_features_to_select = 10  # You can adjust the number of features you want to select\n",
    "rfe = RFE(model, n_features_to_select = num_features_to_select)\n",
    "\n",
    "# Fit RFE to the training data\n",
    "rfe.fit(X_train, y_train)\n"
   ]
  },
  {
   "cell_type": "code",
   "execution_count": null,
   "metadata": {},
   "outputs": [],
   "source": [
    "import pandas as pd\n",
    "import numpy as np\n",
    "from sklearn.preprocessing import LabelEncoder, StandardScaler\n",
    "from sklearn.model_selection import train_test_split\n",
    "from sklearn.ensemble import RandomForestRegressor  # Import Random Forest Regressor\n",
    "from sklearn.metrics import mean_squared_error\n",
    "from sklearn.tree import DecisionTreeRegressor\n",
    "\n",
    "\n",
    "# Load the training and test data\n",
    "df_train_orig = pd.read_csv('train.csv')\n",
    "df_test_orig = pd.read_csv('test.csv')\n"
   ]
  },
  {
   "cell_type": "code",
   "execution_count": null,
   "metadata": {},
   "outputs": [],
   "source": [
    "\n",
    "# Make a copy of the original data\n",
    "df_train = df_train_orig.copy()\n",
    "df_test = df_test_orig.copy()\n",
    "target_col = 'price_doc'\n",
    "row_id_col = 'row ID'\n"
   ]
  },
  {
   "cell_type": "code",
   "execution_count": null,
   "metadata": {},
   "outputs": [],
   "source": [
    "print(df_train.shape)\n",
    "print()\n",
    "print(df_train.columns)\n",
    "print()\n",
    "print(df_train.dtypes)"
   ]
  },
  {
   "cell_type": "code",
   "execution_count": null,
   "metadata": {},
   "outputs": [],
   "source": [
    "# Calculate the counts of each category in the \"sub_area\" column\n",
    "category_counts = df_train['sub_area'].value_counts()\n",
    "\n",
    "# Identify the top 10 categories\n",
    "top_categories = category_counts.head(10).index\n",
    "\n",
    "# Replace categories not in the top 10 with \"Other\"\n",
    "df_train.loc[~df_train['sub_area'].isin(top_categories), 'sub_area'] = 'Other'\n",
    "\n",
    "# Display the modified DataFrame\n",
    "print(df_train.shape )"
   ]
  },
  {
   "cell_type": "code",
   "execution_count": null,
   "metadata": {},
   "outputs": [],
   "source": [
    "category_counts = df_train['sub_area'].value_counts()\n",
    "\n",
    "# Display the counts of each category\n",
    "category_counts_after_replacement = df_train['sub_area'].value_counts()\n",
    "print(category_counts_after_replacement)"
   ]
  },
  {
   "cell_type": "code",
   "execution_count": null,
   "metadata": {},
   "outputs": [],
   "source": [
    "df_train = pd.get_dummies(df_train, drop_first=True)"
   ]
  },
  {
   "cell_type": "code",
   "execution_count": null,
   "metadata": {},
   "outputs": [],
   "source": [
    "df_train.shape"
   ]
  },
  {
   "cell_type": "code",
   "execution_count": null,
   "metadata": {},
   "outputs": [],
   "source": [
    "# subset_fraction = 0.2  # 20% of the data\n",
    "# df_train_subset = df_train.sample(frac=subset_fraction, random_state=42)\n",
    "\n",
    "y = df_train[target_col] # 20 percent of the data\n",
    "X = df_train.drop(columns=[target_col]) # 20 percent of the data\n",
    "\n",
    "\n",
    "X_train, X_val, y_train, y_val = train_test_split(X, y, test_size=0.05, random_state=42)\n"
   ]
  },
  {
   "cell_type": "code",
   "execution_count": null,
   "metadata": {},
   "outputs": [],
   "source": [
    "tree = DecisionTreeRegressor(max_depth=7, random_state=42)\n",
    "\n",
    "tree.fit(X, y)"
   ]
  },
  {
   "cell_type": "code",
   "execution_count": null,
   "metadata": {},
   "outputs": [],
   "source": [
    "df_train .shape"
   ]
  },
  {
   "cell_type": "code",
   "execution_count": null,
   "metadata": {},
   "outputs": [],
   "source": [
    "feature_importances = model.feature_importances_\n",
    "\n",
    "# Assuming you want to select the top N important features, e.g., top 3\n",
    "top_n = 282\n",
    "top_feature_indices = np.argsort(feature_importances)[-top_n:]\n",
    "top_feature_indices\n",
    "\n"
   ]
  },
  {
   "cell_type": "code",
   "execution_count": 338,
   "metadata": {},
   "outputs": [
    {
     "data": {
      "text/plain": [
       "(181507, 284)"
      ]
     },
     "execution_count": 338,
     "metadata": {},
     "output_type": "execute_result"
    }
   ],
   "source": [
    "df_train.copy().shape"
   ]
  },
  {
   "cell_type": "code",
   "execution_count": 324,
   "metadata": {},
   "outputs": [
    {
     "data": {
      "text/plain": [
       "nuclear_reactor_raion\n",
       "no     162513\n",
       "yes     18994\n",
       "Name: count, dtype: int64"
      ]
     },
     "execution_count": 324,
     "metadata": {},
     "output_type": "execute_result"
    }
   ],
   "source": [
    "df_train_orig.copy()['nuclear_reactor_raion'].value_counts()"
   ]
  },
  {
   "cell_type": "code",
   "execution_count": 325,
   "metadata": {},
   "outputs": [
    {
     "name": "stdout",
     "output_type": "stream",
     "text": [
      "15\n"
     ]
    }
   ],
   "source": [
    "non_numeric_columns = df_train_orig.copy().select_dtypes(exclude='number').columns\n",
    "print(non_numeric_columns.size)\n"
   ]
  },
  {
   "cell_type": "code",
   "execution_count": null,
   "metadata": {},
   "outputs": [],
   "source": []
  },
  {
   "cell_type": "code",
   "execution_count": 340,
   "metadata": {},
   "outputs": [
    {
     "name": "stdout",
     "output_type": "stream",
     "text": [
      "Index(['cafe_count_500_price_high', 'leisure_count_1000', 'sport_count_1000',\n",
      "       'market_count_1000', 'prom_part_1500', 'office_count_1500',\n",
      "       'office_sqm_1500', 'trc_count_1500', 'trc_sqm_1500', 'cafe_count_1500',\n",
      "       'cafe_count_1500_na_price', 'cafe_count_1500_price_500',\n",
      "       'cafe_count_1500_price_1000', 'cafe_count_1500_price_1500',\n",
      "       'cafe_count_1500_price_2500', 'cafe_count_1500_price_4000',\n",
      "       'mosque_count_1500', 'sport_count_1500', 'market_count_1500',\n",
      "       'prom_part_2000', 'office_count_2000', 'office_sqm_2000',\n",
      "       'cafe_sum_2000_min_price_avg', 'cafe_sum_2000_max_price_avg',\n",
      "       'cafe_count_2000_na_price', 'cafe_count_2000_price_500',\n",
      "       'mosque_count_1000', 'cafe_count_2000_price_1000',\n",
      "       'big_church_count_1000', 'cafe_count_1000_price_4000', 'big_church_km',\n",
      "       'museum_km', 'green_part_500', 'trc_count_500', 'trc_sqm_500',\n",
      "       'cafe_count_500', 'cafe_count_500_na_price', 'cafe_count_500_price_500',\n",
      "       'cafe_count_500_price_1000', 'cafe_count_500_price_2500',\n",
      "       'sub_area_Alekseesvkoe', 'big_church_count_500', 'church_count_500',\n",
      "       'leisure_count_500', 'sport_count_500', 'market_count_500',\n",
      "       'green_part_1000', 'office_count_1000', 'office_sqm_1000',\n",
      "       'trc_count_1000', 'trc_sqm_1000', 'cafe_count_1000_na_price',\n",
      "       'cafe_count_1000_price_500', 'cafe_count_1000_price_1000',\n",
      "       'cafe_count_1000_price_2500', 'cafe_count_1000_price_high',\n",
      "       'cafe_count_2000_price_1500', 'cafe_count_2000_price_2500',\n",
      "       'cafe_count_2000_price_high', 'sport_count_5000', 'market_count_5000',\n",
      "       'product_type_OwnerOccupier', 'sub_area_Abrat', 'sub_area_Aejroport',\n",
      "       'sub_area_Aelkseevskoe', 'sub_area_Ajeorport', 'sub_area_Ajerooprt',\n",
      "       'sub_area_Ajeroport', 'sub_area_Ajeropotr', 'sub_area_Ajeroprot',\n",
      "       'sub_area_Ajerpoort', 'sub_area_Akadeimcheskoe',\n",
      "       'sub_area_Akademciheskoe', 'sub_area_Akademicehskoe',\n",
      "       'sub_area_Akademicheksoe', 'sub_area_Akademicheskeo',\n",
      "       'sub_area_Akademicheskoe', 'sub_area_Akademichesoke',\n",
      "       'sub_area_Akademichsekoe', 'sub_area_Akademihceskoe',\n",
      "       'sub_area_Akadmeicheskoe', 'sub_area_Akaedmicheskoe',\n",
      "       'sub_area_Akdaemicheskoe', 'sub_area_Alekesevskoe',\n",
      "       'leisure_count_5000', 'mosque_count_5000', 'big_church_count_5000',\n",
      "       'cafe_count_5000_price_4000', 'big_church_count_2000',\n",
      "       'church_count_2000', 'mosque_count_2000', 'leisure_count_2000',\n",
      "       'office_count_3000', 'office_sqm_3000', 'trc_count_3000',\n",
      "       'trc_sqm_3000', 'cafe_sum_3000_min_price_avg',\n",
      "       'cafe_sum_3000_max_price_avg', 'cafe_avg_price_3000',\n",
      "       'cafe_count_3000_price_500'],\n",
      "      dtype='object')\n"
     ]
    }
   ],
   "source": [
    "# top feauture indices is all 284 indices ordered in descending order of importance,\n",
    "# 284 featurres afte getting dummies, with 10 categories in sub_area\n",
    "top_n = 100\n",
    "top_n_indices = top_feature_indices[:top_n]\n",
    "\n",
    "X = pd.get_dummies(df_train_orig.drop(columns=[target_col]), drop_first=True)\n",
    "y = df_train_orig[target_col]\n",
    "\n",
    "top_n_features_names = X.columns[top_n_indices]\n",
    "print(top_n_features_names)"
   ]
  },
  {
   "cell_type": "code",
   "execution_count": null,
   "metadata": {},
   "outputs": [],
   "source": [
    "# selected_column_names = df_train.copy().columns[top_feature_indices]\n",
    "# selected_column_names.shape"
   ]
  },
  {
   "cell_type": "code",
   "execution_count": 341,
   "metadata": {},
   "outputs": [
    {
     "name": "stdout",
     "output_type": "stream",
     "text": [
      "(163356, 100)\n",
      "(18151, 100)\n"
     ]
    }
   ],
   "source": [
    "\n",
    "# Select the top N features from your original X_train\n",
    "X_train, X_val, y_train, y_val = train_test_split(X, y, test_size=0.1, random_state=42)\n",
    "\n",
    "X_train_top_features = X_train[top_n_features_names]\n",
    "X_val_top_features = X_val[top_n_features_names]\n",
    "\n",
    "print(X_train_top_features.shape)\n",
    "print(X_val_top_features.shape)"
   ]
  },
  {
   "cell_type": "code",
   "execution_count": null,
   "metadata": {},
   "outputs": [],
   "source": [
    "# selected_column_names\n",
    "\n",
    "# print(X.shape)"
   ]
  },
  {
   "cell_type": "code",
   "execution_count": 342,
   "metadata": {},
   "outputs": [],
   "source": [
    "from sklearn.preprocessing import StandardScaler\n",
    "from sklearn.linear_model import LinearRegression\n",
    "from sklearn.metrics import mean_squared_error\n",
    "from sklearn.feature_selection import RFE\n",
    "import numpy as np\n",
    "\n",
    "# Initialize the RFE with the model and the number of features to select\n",
    "num_features_to_select = 30  # You can adjust this number as needed\n",
    "rfe = RFE(model, n_features_to_select=num_features_to_select, step=2)\n",
    "\n",
    "# Fit the RFE to your data\n",
    "rfe.fit(X_train_top_features, y_train)\n",
    "\n",
    "# Get the selected feature indices\n",
    "selected_feature_indices = np.where(rfe.support_)[0]\n"
   ]
  },
  {
   "cell_type": "code",
   "execution_count": 343,
   "metadata": {},
   "outputs": [
    {
     "name": "stdout",
     "output_type": "stream",
     "text": [
      "Index(['cafe_count_500_price_high', 'market_count_1000', 'mosque_count_1500',\n",
      "       'mosque_count_1000', 'cafe_count_500_na_price', 'sub_area_Alekseesvkoe',\n",
      "       'big_church_count_500', 'leisure_count_500', 'sport_count_500',\n",
      "       'market_count_500', 'cafe_count_1000_price_high',\n",
      "       'product_type_OwnerOccupier', 'sub_area_Aelkseevskoe',\n",
      "       'sub_area_Ajeorport', 'sub_area_Ajerooprt', 'sub_area_Ajeroport',\n",
      "       'sub_area_Ajeroprot', 'sub_area_Ajerpoort', 'sub_area_Akadeimcheskoe',\n",
      "       'sub_area_Akademciheskoe', 'sub_area_Akademicehskoe',\n",
      "       'sub_area_Akademicheksoe', 'sub_area_Akademicheskeo',\n",
      "       'sub_area_Akademicheskoe', 'sub_area_Akademichesoke',\n",
      "       'sub_area_Akademichsekoe', 'sub_area_Akademihceskoe',\n",
      "       'sub_area_Akaedmicheskoe', 'sub_area_Alekesevskoe',\n",
      "       'mosque_count_2000'],\n",
      "      dtype='object')\n"
     ]
    }
   ],
   "source": [
    "bs_feature_names = X_train_top_features.columns[selected_feature_indices]\n",
    "print(bs_feature_names)"
   ]
  },
  {
   "cell_type": "code",
   "execution_count": 344,
   "metadata": {},
   "outputs": [],
   "source": [
    "X_train_top_features = X_train_top_features[bs_feature_names]\n",
    "X_val_top_features = X_val_top_features[bs_feature_names]\n"
   ]
  },
  {
   "cell_type": "code",
   "execution_count": 345,
   "metadata": {},
   "outputs": [
    {
     "name": "stdout",
     "output_type": "stream",
     "text": [
      "(163356, 30)\n",
      "(18151, 30)\n"
     ]
    }
   ],
   "source": [
    "\n",
    "print(X_train_top_features.shape)\n",
    "print(X_val_top_features.shape)\n"
   ]
  },
  {
   "cell_type": "code",
   "execution_count": 346,
   "metadata": {},
   "outputs": [],
   "source": [
    "\n",
    "# Create polynomial features\n",
    "degree = 2  # Adjust the degree as needed\n",
    "poly_features = PolynomialFeatures(degree=degree, interaction_only=False )\n",
    "X_train_poly = poly_features.fit_transform(X_train_top_features)\n",
    "X_val_poly = poly_features.transform(X_val_top_features)"
   ]
  },
  {
   "cell_type": "code",
   "execution_count": 347,
   "metadata": {},
   "outputs": [
    {
     "name": "stdout",
     "output_type": "stream",
     "text": [
      "(163356, 496)\n",
      "(18151, 496)\n"
     ]
    }
   ],
   "source": [
    "print(X_train_poly.shape)\n",
    "print(X_val_poly.shape)"
   ]
  },
  {
   "cell_type": "code",
   "execution_count": 348,
   "metadata": {},
   "outputs": [
    {
     "data": {
      "text/html": [
       "<style>#sk-container-id-12 {color: black;}#sk-container-id-12 pre{padding: 0;}#sk-container-id-12 div.sk-toggleable {background-color: white;}#sk-container-id-12 label.sk-toggleable__label {cursor: pointer;display: block;width: 100%;margin-bottom: 0;padding: 0.3em;box-sizing: border-box;text-align: center;}#sk-container-id-12 label.sk-toggleable__label-arrow:before {content: \"▸\";float: left;margin-right: 0.25em;color: #696969;}#sk-container-id-12 label.sk-toggleable__label-arrow:hover:before {color: black;}#sk-container-id-12 div.sk-estimator:hover label.sk-toggleable__label-arrow:before {color: black;}#sk-container-id-12 div.sk-toggleable__content {max-height: 0;max-width: 0;overflow: hidden;text-align: left;background-color: #f0f8ff;}#sk-container-id-12 div.sk-toggleable__content pre {margin: 0.2em;color: black;border-radius: 0.25em;background-color: #f0f8ff;}#sk-container-id-12 input.sk-toggleable__control:checked~div.sk-toggleable__content {max-height: 200px;max-width: 100%;overflow: auto;}#sk-container-id-12 input.sk-toggleable__control:checked~label.sk-toggleable__label-arrow:before {content: \"▾\";}#sk-container-id-12 div.sk-estimator input.sk-toggleable__control:checked~label.sk-toggleable__label {background-color: #d4ebff;}#sk-container-id-12 div.sk-label input.sk-toggleable__control:checked~label.sk-toggleable__label {background-color: #d4ebff;}#sk-container-id-12 input.sk-hidden--visually {border: 0;clip: rect(1px 1px 1px 1px);clip: rect(1px, 1px, 1px, 1px);height: 1px;margin: -1px;overflow: hidden;padding: 0;position: absolute;width: 1px;}#sk-container-id-12 div.sk-estimator {font-family: monospace;background-color: #f0f8ff;border: 1px dotted black;border-radius: 0.25em;box-sizing: border-box;margin-bottom: 0.5em;}#sk-container-id-12 div.sk-estimator:hover {background-color: #d4ebff;}#sk-container-id-12 div.sk-parallel-item::after {content: \"\";width: 100%;border-bottom: 1px solid gray;flex-grow: 1;}#sk-container-id-12 div.sk-label:hover label.sk-toggleable__label {background-color: #d4ebff;}#sk-container-id-12 div.sk-serial::before {content: \"\";position: absolute;border-left: 1px solid gray;box-sizing: border-box;top: 0;bottom: 0;left: 50%;z-index: 0;}#sk-container-id-12 div.sk-serial {display: flex;flex-direction: column;align-items: center;background-color: white;padding-right: 0.2em;padding-left: 0.2em;position: relative;}#sk-container-id-12 div.sk-item {position: relative;z-index: 1;}#sk-container-id-12 div.sk-parallel {display: flex;align-items: stretch;justify-content: center;background-color: white;position: relative;}#sk-container-id-12 div.sk-item::before, #sk-container-id-12 div.sk-parallel-item::before {content: \"\";position: absolute;border-left: 1px solid gray;box-sizing: border-box;top: 0;bottom: 0;left: 50%;z-index: -1;}#sk-container-id-12 div.sk-parallel-item {display: flex;flex-direction: column;z-index: 1;position: relative;background-color: white;}#sk-container-id-12 div.sk-parallel-item:first-child::after {align-self: flex-end;width: 50%;}#sk-container-id-12 div.sk-parallel-item:last-child::after {align-self: flex-start;width: 50%;}#sk-container-id-12 div.sk-parallel-item:only-child::after {width: 0;}#sk-container-id-12 div.sk-dashed-wrapped {border: 1px dashed gray;margin: 0 0.4em 0.5em 0.4em;box-sizing: border-box;padding-bottom: 0.4em;background-color: white;}#sk-container-id-12 div.sk-label label {font-family: monospace;font-weight: bold;display: inline-block;line-height: 1.2em;}#sk-container-id-12 div.sk-label-container {text-align: center;}#sk-container-id-12 div.sk-container {/* jupyter's `normalize.less` sets `[hidden] { display: none; }` but bootstrap.min.css set `[hidden] { display: none !important; }` so we also need the `!important` here to be able to override the default hidden behavior on the sphinx rendered scikit-learn.org. See: https://github.com/scikit-learn/scikit-learn/issues/21755 */display: inline-block !important;position: relative;}#sk-container-id-12 div.sk-text-repr-fallback {display: none;}</style><div id=\"sk-container-id-12\" class=\"sk-top-container\"><div class=\"sk-text-repr-fallback\"><pre>LinearRegression()</pre><b>In a Jupyter environment, please rerun this cell to show the HTML representation or trust the notebook. <br />On GitHub, the HTML representation is unable to render, please try loading this page with nbviewer.org.</b></div><div class=\"sk-container\" hidden><div class=\"sk-item\"><div class=\"sk-estimator sk-toggleable\"><input class=\"sk-toggleable__control sk-hidden--visually\" id=\"sk-estimator-id-12\" type=\"checkbox\" checked><label for=\"sk-estimator-id-12\" class=\"sk-toggleable__label sk-toggleable__label-arrow\">LinearRegression</label><div class=\"sk-toggleable__content\"><pre>LinearRegression()</pre></div></div></div></div></div>"
      ],
      "text/plain": [
       "LinearRegression()"
      ]
     },
     "execution_count": 348,
     "metadata": {},
     "output_type": "execute_result"
    }
   ],
   "source": [
    "\n",
    "# Use the selected feature indices to subset X_train_poly and X_val_poly\n",
    "# X_train_selected = X_train_poly[:, selected_feature_indices]\n",
    "# X_val_selected = X_val_poly[:, selected_feature_indices]\n",
    "\n",
    "# Scale the selected features\n",
    "scaler = StandardScaler()\n",
    "X_train_selected_scaled = scaler.fit_transform(X_train_poly)\n",
    "X_val_selected_scaled = scaler.transform(X_val_poly)\n",
    "\n",
    "# Train a linear regression model on the selected and scaled features\n",
    "model = LinearRegression()\n",
    "model.fit(X_train_selected_scaled, y_train)\n"
   ]
  },
  {
   "cell_type": "code",
   "execution_count": null,
   "metadata": {},
   "outputs": [],
   "source": [
    "# pca = PCA(n_components=300)  # Adjust the number of components as needed\n",
    "# X_train_pca = pca.fit_transform(X_train_scaled)\n",
    "\n",
    "# # Apply PCA on the scaled validation data\n",
    "# X_val_pca = pca.transform(X_val_scaled)"
   ]
  },
  {
   "cell_type": "code",
   "execution_count": null,
   "metadata": {},
   "outputs": [],
   "source": [
    "pca = PCA(n_components=300)  # Adjust the number of components as needed\n",
    "X_train_pca = pca.fit_transform(X_train_scaled)\n",
    "\n",
    "# Apply PCA on the scaled validation data\n",
    "X_val_pca = pca.transform(X_val_scaled)"
   ]
  },
  {
   "cell_type": "code",
   "execution_count": 349,
   "metadata": {},
   "outputs": [
    {
     "name": "stdout",
     "output_type": "stream",
     "text": [
      "RMSE on validation set: 1.2580397756405228e+19\n"
     ]
    }
   ],
   "source": [
    "\n",
    "\n",
    "predictions = model.predict(X_val_selected_scaled)\n",
    "rmse = np.sqrt(mean_squared_error(y_val, predictions))\n",
    "print(f\"RMSE on validation set:\", rmse)\n",
    "\n"
   ]
  },
  {
   "cell_type": "code",
   "execution_count": null,
   "metadata": {},
   "outputs": [],
   "source": [
    "# selected_column_names = df_train.copy().columns[top_feature_indices]\n",
    "# selected_column_names.shape"
   ]
  },
  {
   "cell_type": "code",
   "execution_count": null,
   "metadata": {},
   "outputs": [],
   "source": [
    "X_test = df_test_orig.copy()\n",
    "X_test_dummies = pd.get_dummies(X_test, drop_first=True)\n",
    "X_test_selected = X_test_dummies[top_n_features_names]\n",
    "X_test_selected.shape"
   ]
  },
  {
   "cell_type": "code",
   "execution_count": null,
   "metadata": {},
   "outputs": [],
   "source": [
    "X_test_selected_poly = poly_features.transform(X_test_selected)\n",
    "X_test_selected_poly = pca.transform(X_test_selected_poly)\n",
    "X_test_selected_poly_scaled = scaler.transform(X_test_selected_poly)\n"
   ]
  },
  {
   "cell_type": "code",
   "execution_count": null,
   "metadata": {},
   "outputs": [],
   "source": [
    "X_test_selected_poly_scaled.shape"
   ]
  },
  {
   "cell_type": "code",
   "execution_count": null,
   "metadata": {},
   "outputs": [],
   "source": [
    "\n",
    "\n",
    "# Make predictions on the test data\n",
    "test_predictions = model.predict(X_test_selected_poly_scaled)\n",
    "\n",
    "# Create a DataFrame with 'row ID' and predictions\n",
    "result_df = pd.DataFrame({'row ID': row_ids, 'price_doc': test_predictions})\n",
    "\n",
    "# Save the results to a CSV file\n",
    "result_df.to_csv('predictions_20.csv', index=False)"
   ]
  },
  {
   "cell_type": "markdown",
   "metadata": {},
   "source": [
    "# fin.\n",
    "\n"
   ]
  },
  {
   "cell_type": "code",
   "execution_count": null,
   "metadata": {},
   "outputs": [],
   "source": [
    "\n",
    "# X_test_selected = X_test[:, selected_feature_indices]\n",
    "# test_predictions = model.predict(X_test_selected)\n",
    "\n",
    "# # Create a DataFrame with 'row ID' and predictions\n",
    "# result_df = pd.DataFrame({'row ID': row_ids, 'price_doc': test_predictions})\n",
    "\n",
    "# # Save the results to a CSV file\n",
    "# result_df.to_csv('prediction_11.csv', index=False)\n"
   ]
  },
  {
   "cell_type": "code",
   "execution_count": null,
   "metadata": {},
   "outputs": [],
   "source": [
    "import pandas as pd\n",
    "import numpy as np\n",
    "from sklearn.preprocessing import LabelEncoder, StandardScaler\n",
    "from sklearn.model_selection import train_test_split\n",
    "from sklearn.tree import DecisionTreeRegressor\n",
    "\n",
    "# Load the training and test data\n",
    "df_train_orig = pd.read_csv('train.csv')\n",
    "df_test_orig = pd.read_csv('test.csv')\n",
    "\n",
    "# Make a copy of the original data\n",
    "df_train = df_train_orig.copy()\n",
    "df_test = df_test_orig.copy()\n",
    "target_col = 'price_doc'\n",
    "\n",
    "# Label encode the 'sub_area' column\n",
    "label_encoder = LabelEncoder()\n",
    "df_train['sub_area'] = label_encoder.fit_transform(df_train['sub_area'])\n",
    "df_test['sub_area'] = label_encoder.transform(df_test['sub_area'])\n",
    "\n",
    "# Create dummy variables for categorical features\n",
    "X_train = pd.get_dummies(df_train.drop(columns=[target_col]), drop_first=True)\n",
    "X_test = pd.get_dummies(df_test, drop_first=True)\n",
    "\n",
    "row_ids = df_test['row ID']\n",
    "X_test.drop(['row ID'], axis=1, inplace=True)\n",
    "\n",
    "# Extract the target variable\n",
    "y = df_train[target_col]\n",
    "\n",
    "# Scale the values\n",
    "scaler = StandardScaler()\n",
    "X_train = scaler.fit_transform(X_train)\n",
    "X_test = scaler.transform(X_test)\n",
    "\n",
    "# Convert X_train and X_test back to DataFrame for correlation analysis\n",
    "X_train = pd.DataFrame(X_train)\n",
    "X_test = pd.DataFrame(X_test)\n",
    "\n",
    "# Calculate the correlation matrix\n",
    "corr_matrix = X_train.corr()\n",
    "\n",
    "# Set the threshold\n",
    "threshold = 0.9\n",
    "\n",
    "# Find columns to drop\n",
    "columns_to_drop = set()\n",
    "for i in range(len(corr_matrix.columns)):\n",
    "    for j in range(i):\n",
    "        if abs(corr_matrix.iloc[i, j]) > threshold:\n",
    "            colname = corr_matrix.columns[i]\n",
    "            columns_to_drop.add(colname)\n",
    "\n",
    "# Drop columns from X_train and X_test\n",
    "X_train = X_train.drop(columns=columns_to_drop, axis=1)\n",
    "X_test = X_test.drop(columns=columns_to_drop, axis=1)\n",
    "\n",
    "# Split the data into training and validation sets\n",
    "X_train, X_val, y_train, y_val = train_test_split(X_train, y, test_size=0.5, random_state=42)\n",
    "\n",
    "# Initialize the Decision Tree Regressor model\n",
    "model = DecisionTreeRegressor(max_depth=10, random_state=42)\n",
    "\n",
    "# Fit the model to the training data\n",
    "model.fit(X_train, y_train)\n",
    "\n",
    "# Get feature importances\n",
    "feature_importances = model.feature_importances_\n",
    "\n",
    "# Sort features by importance\n",
    "sorted_indices = np.argsort(feature_importances)[::-1]\n",
    "\n"
   ]
  },
  {
   "cell_type": "markdown",
   "metadata": {},
   "source": [
    "# Polynomial\n",
    "\n"
   ]
  },
  {
   "cell_type": "code",
   "execution_count": null,
   "metadata": {},
   "outputs": [],
   "source": [
    "df = df_train_orig.copy()\n",
    "\n",
    "# Sample the dataset to 30% of the original\n",
    "sampled_df = df.sample(frac=0.6, random_state=42)\n",
    "\n",
    "# Split the sampled dataset into train and validation sets (2/3 train, 1/3 validation)\n",
    "X = sampled_df.drop(columns=[target_col])  # Assuming 'target' is the name of the target variable\n",
    "y = sampled_df[target_col]\n",
    "\n",
    "X = pd.get_dummies(X, drop_first=True)\n",
    "X = X[selected_column_names]\n",
    "\n",
    "X_train, X_val, y_train, y_val = train_test_split(X, y, test_size=1/6, random_state=42)\n"
   ]
  },
  {
   "cell_type": "code",
   "execution_count": null,
   "metadata": {},
   "outputs": [],
   "source": [
    "X_train.shape"
   ]
  },
  {
   "cell_type": "code",
   "execution_count": null,
   "metadata": {},
   "outputs": [],
   "source": [
    "\n",
    "# Create polynomial features\n",
    "degree = 3  # Adjust the degree as needed\n",
    "poly_features = PolynomialFeatures(degree=degree, interaction_only=True )\n",
    "X_train_poly = poly_features.fit_transform(X_train)\n",
    "X_val_poly = poly_features.transform(X_val)\n",
    "\n"
   ]
  },
  {
   "cell_type": "code",
   "execution_count": null,
   "metadata": {},
   "outputs": [],
   "source": [
    "X_train_poly.shape"
   ]
  },
  {
   "cell_type": "code",
   "execution_count": null,
   "metadata": {},
   "outputs": [],
   "source": [
    "from sklearn.decomposition import PCA\n",
    "\n",
    "scaler = StandardScaler()\n",
    "X_train_scaled = scaler.fit_transform(X_train_poly)\n",
    "X_val_scaled = scaler.transform(X_val_poly)\n",
    "\n",
    "\n",
    "# Apply PCA on the scaled training data\n",
    "pca = PCA(n_components=300)  # Adjust the number of components as needed\n",
    "X_train_pca = pca.fit_transform(X_train_scaled)\n",
    "\n",
    "# Apply PCA on the scaled validation data\n",
    "X_val_pca = pca.transform(X_val_scaled)\n"
   ]
  },
  {
   "cell_type": "code",
   "execution_count": null,
   "metadata": {},
   "outputs": [],
   "source": [
    "print(X_val_pca.shape)\n",
    "print(y_train.shape)"
   ]
  },
  {
   "cell_type": "code",
   "execution_count": null,
   "metadata": {},
   "outputs": [],
   "source": [
    "model = LinearRegression()\n",
    "model.fit(X_train_pca, y_train)\n"
   ]
  },
  {
   "cell_type": "code",
   "execution_count": null,
   "metadata": {},
   "outputs": [],
   "source": [
    "\n",
    "\n",
    "predictions = model.predict(X_val_pca)\n",
    "rmse = np.sqrt(mean_squared_error(y_val, predictions))\n",
    "print(f\"RMSE on validation set:\", rmse)"
   ]
  },
  {
   "cell_type": "code",
   "execution_count": null,
   "metadata": {},
   "outputs": [],
   "source": [
    "\n",
    "X_test = df_test_orig.copy()\n",
    "\n",
    "row_ids = df_test['row ID']\n",
    "X_test.drop(['row ID'], axis=1, inplace=True)\n",
    "\n",
    "X_test = pd.get_dummies(X_test, drop_first=True)\n",
    "X_test = X_test[selected_column_names]\n",
    "\n",
    "# Create polynomial features (use the same degree as before)\n",
    "X_test_poly = poly_features.transform(X_test)\n",
    "\n",
    "# Scale the features (use the same scaler as before)\n",
    "X_test_scaled = scaler.transform(X_test_poly)\n",
    "\n",
    "X_test_scaled = pca.transform(X_test_scaled)"
   ]
  },
  {
   "cell_type": "code",
   "execution_count": null,
   "metadata": {},
   "outputs": [],
   "source": [
    "X_test_scaled.shape"
   ]
  },
  {
   "cell_type": "code",
   "execution_count": null,
   "metadata": {},
   "outputs": [],
   "source": [
    "# Make predictions on the test data\n",
    "test_predictions = model.predict(X_test_scaled)\n",
    "\n",
    "# Create a DataFrame with 'row ID' and predictions\n",
    "result_df = pd.DataFrame({'row ID': row_ids, 'price_doc': test_predictions})\n",
    "\n",
    "# Save the results to a CSV file\n",
    "result_df.to_csv('predictions_17.csv', index=False)"
   ]
  }
 ],
 "metadata": {
  "kernelspec": {
   "display_name": "imlenv",
   "language": "python",
   "name": "python3"
  },
  "language_info": {
   "codemirror_mode": {
    "name": "ipython",
    "version": 3
   },
   "file_extension": ".py",
   "mimetype": "text/x-python",
   "name": "python",
   "nbconvert_exporter": "python",
   "pygments_lexer": "ipython3",
   "version": "3.10.12"
  }
 },
 "nbformat": 4,
 "nbformat_minor": 2
}
