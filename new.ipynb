{
 "cells": [
  {
   "cell_type": "code",
   "execution_count": 108,
   "metadata": {},
   "outputs": [],
   "source": [
    "import pandas as pd\n",
    "import numpy as np\n",
    "from sklearn.preprocessing import LabelEncoder, StandardScaler\n",
    "from sklearn.model_selection import train_test_split\n",
    "from sklearn.linear_model import LinearRegression\n",
    "from sklearn.metrics import mean_squared_error\n",
    "import pandas as pd\n",
    "import numpy as np\n",
    "from sklearn.model_selection import train_test_split\n",
    "from sklearn.preprocessing import PolynomialFeatures, StandardScaler\n",
    "from sklearn.linear_model import LinearRegression\n"
   ]
  },
  {
   "cell_type": "code",
   "execution_count": null,
   "metadata": {},
   "outputs": [],
   "source": [
    "\n",
    "# Load the training and test data\n",
    "df_train_orig = pd.read_csv('train.csv')\n",
    "df_test_orig = pd.read_csv('test.csv')\n",
    "\n",
    "# Make a copy of the original data\n",
    "df_train = df_train_orig.copy()\n",
    "df_test = df_test_orig.copy()\n",
    "target_col = 'price_doc'\n",
    "row_id_col = 'row ID'\n",
    "\n",
    "# Label encode the 'sub_area' column\n",
    "label_encoder = LabelEncoder()\n",
    "df_train['sub_area'] = label_encoder.fit_transform(df_train['sub_area'])\n",
    "df_test['sub_area'] = label_encoder.transform(df_test['sub_area'])\n",
    "\n",
    "# Create dummy variables for categorical features\n",
    "X_train = pd.get_dummies(df_train.drop(columns=[target_col]), drop_first=True)\n",
    "X_test = pd.get_dummies(df_test, drop_first=True)\n",
    "\n",
    "# Extract the 'row ID' column for later use and remove it from X_test\n",
    "row_ids = df_test['row ID']\n",
    "X_test.drop(['row ID'], axis=1, inplace=True)\n",
    "\n",
    "# Extract the target variable\n",
    "y = df_train[target_col]\n",
    "\n",
    "# Scale the values\n",
    "scaler = StandardScaler()\n",
    "X_train = scaler.fit_transform(X_train)\n",
    "X_test = scaler.transform(X_test)\n",
    "\n",
    "# Split the data into training and validation sets\n",
    "X_train, X_val, y_train, y_val = train_test_split(X_train, y, test_size=0.05, random_state=42)\n",
    "\n",
    "# Train the linear regression model\n",
    "model = ()\n",
    "model.fit(X_train, y_train)\n",
    "\n",
    "# Evaluate the model on the validation set\n",
    "predictions = model.predict(X_val)\n",
    "rmse = np.sqrt(mean_squared_error(y_val, predictions))\n",
    "print(f\"RMSE on validation set:\", rmse)\n",
    "\n",
    "# Make predictions on the test data\n",
    "# test_predictions = model.predict(X_test)\n",
    "\n",
    "# # Create a DataFrame with 'row ID' and predictions\n",
    "# result_df = pd.DataFrame({'row ID': row_ids, 'price_doc': test_predictions})\n",
    "\n",
    "# # Save the results to a CSV file\n",
    "# result_df.to_csv('predictions_linear_regression.csv', index=False)\n"
   ]
  },
  {
   "cell_type": "code",
   "execution_count": null,
   "metadata": {},
   "outputs": [],
   "source": [
    "import pandas as pd\n",
    "import numpy as np\n",
    "from sklearn.preprocessing import LabelEncoder, StandardScaler\n",
    "from sklearn.model_selection import train_test_split\n",
    "from sklearn.linear_model import Ridge,Lasso\n",
    "from sklearn.metrics import mean_squared_error\n",
    "\n",
    "# Load the training and test data\n",
    "df_train_orig = pd.read_csv('train.csv')\n",
    "df_test_orig = pd.read_csv('test.csv')\n",
    "\n",
    "# Make a copy of the original data\n",
    "df_train = df_train_orig.copy()\n",
    "df_test = df_test_orig.copy()\n",
    "target_col = 'price_doc'\n",
    "row_id_col = 'row ID'\n",
    "\n",
    "# Label encode the 'sub_area' column\n",
    "label_encoder = LabelEncoder()\n",
    "df_train['sub_area'] = label_encoder.fit_transform(df_train['sub_area'])\n",
    "df_test['sub_area'] = label_encoder.transform(df_test['sub_area'])\n",
    "\n",
    "# Create dummy variables for categorical features\n",
    "X_train = pd.get_dummies(df_train.drop(columns=[target_col]), drop_first=True)\n",
    "X_test = pd.get_dummies(df_test, drop_first=True)\n",
    "\n",
    "# Extract the 'row ID' column for later use and remove it from X_test\n",
    "row_ids = df_test['row ID']\n",
    "X_test.drop(['row ID'], axis=1, inplace=True)\n",
    "\n",
    "# Extract the target variable\n",
    "y = df_train[target_col]\n",
    "\n",
    "# Scale the values\n",
    "scaler = StandardScaler()\n",
    "X_train = scaler.fit_transform(X_train)\n",
    "X_test = scaler.transform(X_test)\n",
    "\n",
    "# Split the data into training and validation sets\n",
    "X_train, X_val, y_train, y_val = train_test_split(X_train, y, test_size=0.05, random_state=42)\n",
    "\n",
    "# Initialize the Ridge Regression model with your desired hyperparameters\n",
    "alpha = 1.0  # You can adjust the regularization strength (alpha) as needed\n",
    "ridge_model = Lasso(alpha=alpha, max_iter=10000, tol=0.01)\n",
    "\n",
    "# Train the Ridge Regression model\n",
    "ridge_model.fit(X_train, y_train)\n",
    "\n",
    "# Evaluate the model on the validation set\n",
    "predictions = ridge_model.predict(X_val)\n",
    "rmse = np.sqrt(mean_squared_error(y_val, predictions))\n",
    "print(f\"RMSE on validation set:\", rmse)\n",
    "\n",
    "# Make predictions on the test data\n",
    "# test_predictions = ridge_model.predict(X_test)\n",
    "\n",
    "# # Create a DataFrame with 'row ID' and predictions\n",
    "# result_df = pd.DataFrame({'row ID': row_ids, 'price_doc': test_predictions})\n",
    "\n",
    "# # Save the results to a CSV file\n",
    "# result_df.to_csv('predictions_ridge_regression.csv', index=False)\n"
   ]
  },
  {
   "cell_type": "code",
   "execution_count": null,
   "metadata": {},
   "outputs": [],
   "source": [
    "import pandas as pd\n",
    "import numpy as np\n",
    "from sklearn.preprocessing import LabelEncoder, StandardScaler\n",
    "from sklearn.model_selection import train_test_split\n",
    "from sklearn.linear_model import LinearRegression\n",
    "from sklearn.feature_selection import RFE\n",
    "from sklearn.metrics import mean_squared_error\n",
    "\n",
    "# Load the training and test data\n",
    "df_train_orig = pd.read_csv('train.csv')\n",
    "df_test_orig = pd.read_csv('test.csv')\n",
    "\n",
    "# Make a copy of the original data\n",
    "df_train = df_train_orig.copy()\n",
    "df_test = df_test_orig.copy()\n",
    "target_col = 'price_doc'\n",
    "row_id_col = 'row ID'\n",
    "\n",
    "# Label encode the 'sub_area' column\n",
    "label_encoder = LabelEncoder()\n",
    "df_train['sub_area'] = label_encoder.fit_transform(df_train['sub_area'])\n",
    "df_test['sub_area'] = label_encoder.transform(df_test['sub_area'])\n",
    "\n",
    "# Create dummy variables for categorical features\n",
    "X_train = pd.get_dummies(df_train.drop(columns=[target_col]), drop_first=True)\n",
    "X_test = pd.get_dummies(df_test, drop_first=True)\n",
    "\n",
    "# Extract the 'row ID' column for later use and remove it from X_test\n",
    "row_ids = df_test['row ID']\n",
    "X_test.drop(['row ID'], axis=1, inplace=True)\n",
    "\n",
    "# Extract the target variable\n",
    "y = df_train[target_col]\n",
    "\n",
    "# Scale the values\n",
    "scaler = StandardScaler()\n",
    "X_train = scaler.fit_transform(X_train)\n",
    "X_test = scaler.transform(X_test)\n",
    "\n",
    "# Split the data into training and validation sets\n",
    "X_train, X_val, y_train, y_val = train_test_split(X_train, y, test_size=0.05, random_state=42)\n",
    "\n",
    "# Initialize the linear regression model\n",
    "model = LinearRegression()\n",
    "\n",
    "# Initialize the RFE model for feature selection\n",
    "num_features_to_select = 10  # You can adjust the number of features you want to select\n",
    "rfe = RFE(model, n_features_to_select = num_features_to_select)\n",
    "\n",
    "# Fit RFE to the training data\n",
    "rfe.fit(X_train, y_train)\n"
   ]
  },
  {
   "cell_type": "code",
   "execution_count": 30,
   "metadata": {},
   "outputs": [],
   "source": [
    "import pandas as pd\n",
    "import numpy as np\n",
    "from sklearn.preprocessing import LabelEncoder, StandardScaler\n",
    "from sklearn.model_selection import train_test_split\n",
    "from sklearn.ensemble import RandomForestRegressor  # Import Random Forest Regressor\n",
    "from sklearn.metrics import mean_squared_error\n",
    "from sklearn.tree import DecisionTreeRegressor\n",
    "\n",
    "\n",
    "# Load the training and test data\n",
    "df_train_orig = pd.read_csv('train.csv')\n",
    "df_test_orig = pd.read_csv('test.csv')\n"
   ]
  },
  {
   "cell_type": "code",
   "execution_count": 49,
   "metadata": {},
   "outputs": [],
   "source": [
    "\n",
    "# Make a copy of the original data\n",
    "df_train = df_train_orig.copy()\n",
    "df_test = df_test_orig.copy()\n",
    "target_col = 'price_doc'\n",
    "row_id_col = 'row ID'\n"
   ]
  },
  {
   "cell_type": "code",
   "execution_count": 50,
   "metadata": {},
   "outputs": [
    {
     "name": "stdout",
     "output_type": "stream",
     "text": [
      "(181507, 272)\n",
      "\n",
      "Index(['full_sq', 'life_sq', 'floor', 'product_type', 'sub_area', 'area_m',\n",
      "       'raion_popul', 'green_zone_part', 'indust_part', 'children_preschool',\n",
      "       ...\n",
      "       'cafe_count_5000_price_2500', 'cafe_count_5000_price_4000',\n",
      "       'cafe_count_5000_price_high', 'big_church_count_5000',\n",
      "       'church_count_5000', 'mosque_count_5000', 'leisure_count_5000',\n",
      "       'sport_count_5000', 'market_count_5000', 'price_doc'],\n",
      "      dtype='object', length=272)\n",
      "\n",
      "full_sq               float64\n",
      "life_sq               float64\n",
      "floor                 float64\n",
      "product_type           object\n",
      "sub_area               object\n",
      "                       ...   \n",
      "mosque_count_5000     float64\n",
      "leisure_count_5000    float64\n",
      "sport_count_5000      float64\n",
      "market_count_5000     float64\n",
      "price_doc             float64\n",
      "Length: 272, dtype: object\n"
     ]
    }
   ],
   "source": [
    "print(df_train.shape)\n",
    "print()\n",
    "print(df_train.columns)\n",
    "print()\n",
    "print(df_train.dtypes)"
   ]
  },
  {
   "cell_type": "code",
   "execution_count": null,
   "metadata": {},
   "outputs": [],
   "source": [
    "# Calculate the counts of each category in the \"sub_area\" column\n",
    "category_counts = df_train['sub_area'].value_counts()\n",
    "\n",
    "# Identify the top 10 categories\n",
    "top_categories = category_counts.head(10).index\n",
    "\n",
    "# Replace categories not in the top 10 with \"Other\"\n",
    "df_train.loc[~df_train['sub_area'].isin(top_categories), 'sub_area'] = 'Other'\n",
    "\n",
    "# Display the modified DataFrame\n",
    "# print(df_train)"
   ]
  },
  {
   "cell_type": "code",
   "execution_count": 53,
   "metadata": {},
   "outputs": [
    {
     "name": "stdout",
     "output_type": "stream",
     "text": [
      "sub_area\n",
      "Other                      170534\n",
      "Poselenie Shhapovskoe        1105\n",
      "Alekseevskoe                 1104\n",
      "Tverskoe                     1101\n",
      "Poselenie Mosrentgen         1099\n",
      "Caricyno                     1097\n",
      "Chertanovo Central'noe       1096\n",
      "Losinoostrovskoe             1095\n",
      "Poselenie Voskresenskoe      1093\n",
      "Prospekt Vernadskogo         1092\n",
      "Shhukino                     1091\n",
      "Name: count, dtype: int64\n"
     ]
    }
   ],
   "source": [
    "category_counts = df_train['sub_area'].value_counts()\n",
    "\n",
    "# Display the counts of each category\n",
    "category_counts_after_replacement = df_train['sub_area'].value_counts()\n",
    "print(category_counts_after_replacement)"
   ]
  },
  {
   "cell_type": "code",
   "execution_count": 54,
   "metadata": {},
   "outputs": [],
   "source": [
    "df_train = pd.get_dummies(df_train, drop_first=True)"
   ]
  },
  {
   "cell_type": "code",
   "execution_count": 55,
   "metadata": {},
   "outputs": [
    {
     "data": {
      "text/plain": [
       "(181507, 284)"
      ]
     },
     "execution_count": 55,
     "metadata": {},
     "output_type": "execute_result"
    }
   ],
   "source": [
    "df_train.shape"
   ]
  },
  {
   "cell_type": "code",
   "execution_count": 56,
   "metadata": {},
   "outputs": [],
   "source": [
    "# subset_fraction = 0.2  # 20% of the data\n",
    "# df_train_subset = df_train.sample(frac=subset_fraction, random_state=42)\n",
    "\n",
    "y = df_train[target_col] # 20 percent of the data\n",
    "X = df_train.drop(columns=[target_col]) # 20 percent of the data\n",
    "\n",
    "\n",
    "X_train, X_val, y_train, y_val = train_test_split(X, y, test_size=0.05, random_state=42)\n"
   ]
  },
  {
   "cell_type": "code",
   "execution_count": 57,
   "metadata": {},
   "outputs": [
    {
     "data": {
      "text/html": [
       "<style>#sk-container-id-3 {color: black;}#sk-container-id-3 pre{padding: 0;}#sk-container-id-3 div.sk-toggleable {background-color: white;}#sk-container-id-3 label.sk-toggleable__label {cursor: pointer;display: block;width: 100%;margin-bottom: 0;padding: 0.3em;box-sizing: border-box;text-align: center;}#sk-container-id-3 label.sk-toggleable__label-arrow:before {content: \"▸\";float: left;margin-right: 0.25em;color: #696969;}#sk-container-id-3 label.sk-toggleable__label-arrow:hover:before {color: black;}#sk-container-id-3 div.sk-estimator:hover label.sk-toggleable__label-arrow:before {color: black;}#sk-container-id-3 div.sk-toggleable__content {max-height: 0;max-width: 0;overflow: hidden;text-align: left;background-color: #f0f8ff;}#sk-container-id-3 div.sk-toggleable__content pre {margin: 0.2em;color: black;border-radius: 0.25em;background-color: #f0f8ff;}#sk-container-id-3 input.sk-toggleable__control:checked~div.sk-toggleable__content {max-height: 200px;max-width: 100%;overflow: auto;}#sk-container-id-3 input.sk-toggleable__control:checked~label.sk-toggleable__label-arrow:before {content: \"▾\";}#sk-container-id-3 div.sk-estimator input.sk-toggleable__control:checked~label.sk-toggleable__label {background-color: #d4ebff;}#sk-container-id-3 div.sk-label input.sk-toggleable__control:checked~label.sk-toggleable__label {background-color: #d4ebff;}#sk-container-id-3 input.sk-hidden--visually {border: 0;clip: rect(1px 1px 1px 1px);clip: rect(1px, 1px, 1px, 1px);height: 1px;margin: -1px;overflow: hidden;padding: 0;position: absolute;width: 1px;}#sk-container-id-3 div.sk-estimator {font-family: monospace;background-color: #f0f8ff;border: 1px dotted black;border-radius: 0.25em;box-sizing: border-box;margin-bottom: 0.5em;}#sk-container-id-3 div.sk-estimator:hover {background-color: #d4ebff;}#sk-container-id-3 div.sk-parallel-item::after {content: \"\";width: 100%;border-bottom: 1px solid gray;flex-grow: 1;}#sk-container-id-3 div.sk-label:hover label.sk-toggleable__label {background-color: #d4ebff;}#sk-container-id-3 div.sk-serial::before {content: \"\";position: absolute;border-left: 1px solid gray;box-sizing: border-box;top: 0;bottom: 0;left: 50%;z-index: 0;}#sk-container-id-3 div.sk-serial {display: flex;flex-direction: column;align-items: center;background-color: white;padding-right: 0.2em;padding-left: 0.2em;position: relative;}#sk-container-id-3 div.sk-item {position: relative;z-index: 1;}#sk-container-id-3 div.sk-parallel {display: flex;align-items: stretch;justify-content: center;background-color: white;position: relative;}#sk-container-id-3 div.sk-item::before, #sk-container-id-3 div.sk-parallel-item::before {content: \"\";position: absolute;border-left: 1px solid gray;box-sizing: border-box;top: 0;bottom: 0;left: 50%;z-index: -1;}#sk-container-id-3 div.sk-parallel-item {display: flex;flex-direction: column;z-index: 1;position: relative;background-color: white;}#sk-container-id-3 div.sk-parallel-item:first-child::after {align-self: flex-end;width: 50%;}#sk-container-id-3 div.sk-parallel-item:last-child::after {align-self: flex-start;width: 50%;}#sk-container-id-3 div.sk-parallel-item:only-child::after {width: 0;}#sk-container-id-3 div.sk-dashed-wrapped {border: 1px dashed gray;margin: 0 0.4em 0.5em 0.4em;box-sizing: border-box;padding-bottom: 0.4em;background-color: white;}#sk-container-id-3 div.sk-label label {font-family: monospace;font-weight: bold;display: inline-block;line-height: 1.2em;}#sk-container-id-3 div.sk-label-container {text-align: center;}#sk-container-id-3 div.sk-container {/* jupyter's `normalize.less` sets `[hidden] { display: none; }` but bootstrap.min.css set `[hidden] { display: none !important; }` so we also need the `!important` here to be able to override the default hidden behavior on the sphinx rendered scikit-learn.org. See: https://github.com/scikit-learn/scikit-learn/issues/21755 */display: inline-block !important;position: relative;}#sk-container-id-3 div.sk-text-repr-fallback {display: none;}</style><div id=\"sk-container-id-3\" class=\"sk-top-container\"><div class=\"sk-text-repr-fallback\"><pre>DecisionTreeRegressor(max_depth=5, random_state=42)</pre><b>In a Jupyter environment, please rerun this cell to show the HTML representation or trust the notebook. <br />On GitHub, the HTML representation is unable to render, please try loading this page with nbviewer.org.</b></div><div class=\"sk-container\" hidden><div class=\"sk-item\"><div class=\"sk-estimator sk-toggleable\"><input class=\"sk-toggleable__control sk-hidden--visually\" id=\"sk-estimator-id-3\" type=\"checkbox\" checked><label for=\"sk-estimator-id-3\" class=\"sk-toggleable__label sk-toggleable__label-arrow\">DecisionTreeRegressor</label><div class=\"sk-toggleable__content\"><pre>DecisionTreeRegressor(max_depth=5, random_state=42)</pre></div></div></div></div></div>"
      ],
      "text/plain": [
       "DecisionTreeRegressor(max_depth=5, random_state=42)"
      ]
     },
     "execution_count": 57,
     "metadata": {},
     "output_type": "execute_result"
    }
   ],
   "source": [
    "model = DecisionTreeRegressor(max_depth=5, random_state=42)\n",
    "\n",
    "model.fit(X_train, y_train)"
   ]
  },
  {
   "cell_type": "code",
   "execution_count": null,
   "metadata": {},
   "outputs": [],
   "source": [
    "feature_importances = model.feature_importances_\n",
    "\n",
    "# Assuming you want to select the top N important features, e.g., top 3\n",
    "top_n = 20\n",
    "top_feature_indices = np.argsort(feature_importances)[-top_n:]\n",
    "top_feature_indices\n",
    "\n"
   ]
  },
  {
   "cell_type": "code",
   "execution_count": 96,
   "metadata": {},
   "outputs": [
    {
     "data": {
      "text/plain": [
       "(172431, 20)"
      ]
     },
     "execution_count": 96,
     "metadata": {},
     "output_type": "execute_result"
    }
   ],
   "source": [
    "\n",
    "# Select the top N features from your original X_train\n",
    "X_train_top_features = X_train[selected_column_names]\n",
    "\n",
    "X_train_top_features.shape"
   ]
  },
  {
   "cell_type": "code",
   "execution_count": 97,
   "metadata": {},
   "outputs": [
    {
     "data": {
      "text/plain": [
       "Index(['preschool_km', 'build_count_wood', '0_17_male', 'green_zone_part',\n",
       "       'church_count_1500', 'young_all', 'sport_count_2000',\n",
       "       'additional_education_raion', 'cafe_count_2000_price_4000',\n",
       "       'cafe_count_3000_price_high', 'indust_part', 'life_sq',\n",
       "       'sport_count_3000', 'cafe_count_3000_price_2500', 'sub_area_Tverskoe',\n",
       "       'cafe_count_3000', 'cafe_count_5000_price_high', 'full_sq',\n",
       "       'culture_objects_top_25_raion', 'mosque_count_500'],\n",
       "      dtype='object')"
      ]
     },
     "execution_count": 97,
     "metadata": {},
     "output_type": "execute_result"
    }
   ],
   "source": [
    "selected_column_names"
   ]
  },
  {
   "cell_type": "code",
   "execution_count": 102,
   "metadata": {},
   "outputs": [
    {
     "name": "stdout",
     "output_type": "stream",
     "text": [
      "RMSE on validation set: 13965244.867102837\n"
     ]
    }
   ],
   "source": [
    "model = LinearRegression()\n",
    "\n",
    "scaler = StandardScaler()\n",
    "X_train_top_features = scaler.fit_transform(X_train_top_features)\n",
    "\n",
    "\n",
    "model.fit(X_train_top_features, y_train)\n",
    "\n",
    "X_val_top_features = X_val[selected_column_names]\n",
    "X_val_top_features = scaler.transform(X_val_top_features)\n",
    "\n",
    "\n",
    "\n",
    "\n",
    "predictions = model.predict(X_val_top_features)\n",
    "rmse = np.sqrt(mean_squared_error(y_val, predictions))\n",
    "print(f\"RMSE on validation set:\", rmse)\n",
    "\n"
   ]
  },
  {
   "cell_type": "code",
   "execution_count": 94,
   "metadata": {},
   "outputs": [
    {
     "data": {
      "text/plain": [
       "(20,)"
      ]
     },
     "execution_count": 94,
     "metadata": {},
     "output_type": "execute_result"
    }
   ],
   "source": [
    "selected_column_names = df_train.copy().columns[top_feature_indices]\n",
    "selected_column_names.shape"
   ]
  },
  {
   "cell_type": "code",
   "execution_count": 103,
   "metadata": {},
   "outputs": [
    {
     "data": {
      "text/plain": [
       "(77789, 20)"
      ]
     },
     "execution_count": 103,
     "metadata": {},
     "output_type": "execute_result"
    }
   ],
   "source": [
    "\n",
    "X_test_selected = pd.get_dummies(X_test)[selected_column_names]\n",
    "X_test_selected.shape"
   ]
  },
  {
   "cell_type": "code",
   "execution_count": 106,
   "metadata": {},
   "outputs": [],
   "source": [
    "X_test_selected = scaler.transform(X_test_selected)"
   ]
  },
  {
   "cell_type": "code",
   "execution_count": 107,
   "metadata": {},
   "outputs": [],
   "source": [
    "\n",
    "\n",
    "# Make predictions on the test data\n",
    "test_predictions = model.predict(X_test_selected)\n",
    "\n",
    "# Create a DataFrame with 'row ID' and predictions\n",
    "result_df = pd.DataFrame({'row ID': row_ids, 'price_doc': test_predictions})\n",
    "\n",
    "# Save the results to a CSV file\n",
    "result_df.to_csv('predictions13.csv', index=False)"
   ]
  },
  {
   "cell_type": "code",
   "execution_count": null,
   "metadata": {},
   "outputs": [],
   "source": [
    "\n",
    "X_test_selected = X_test[:, selected_feature_indices]\n",
    "test_predictions = model.predict(X_test_selected)\n",
    "\n",
    "# Create a DataFrame with 'row ID' and predictions\n",
    "result_df = pd.DataFrame({'row ID': row_ids, 'price_doc': test_predictions})\n",
    "\n",
    "# Save the results to a CSV file\n",
    "result_df.to_csv('prediction_11.csv', index=False)\n"
   ]
  },
  {
   "cell_type": "code",
   "execution_count": null,
   "metadata": {},
   "outputs": [],
   "source": [
    "import pandas as pd\n",
    "import numpy as np\n",
    "from sklearn.preprocessing import LabelEncoder, StandardScaler\n",
    "from sklearn.model_selection import train_test_split\n",
    "from sklearn.tree import DecisionTreeRegressor\n",
    "\n",
    "# Load the training and test data\n",
    "df_train_orig = pd.read_csv('train.csv')\n",
    "df_test_orig = pd.read_csv('test.csv')\n",
    "\n",
    "# Make a copy of the original data\n",
    "df_train = df_train_orig.copy()\n",
    "df_test = df_test_orig.copy()\n",
    "target_col = 'price_doc'\n",
    "\n",
    "# Label encode the 'sub_area' column\n",
    "label_encoder = LabelEncoder()\n",
    "df_train['sub_area'] = label_encoder.fit_transform(df_train['sub_area'])\n",
    "df_test['sub_area'] = label_encoder.transform(df_test['sub_area'])\n",
    "\n",
    "# Create dummy variables for categorical features\n",
    "X_train = pd.get_dummies(df_train.drop(columns=[target_col]), drop_first=True)\n",
    "X_test = pd.get_dummies(df_test, drop_first=True)\n",
    "\n",
    "row_ids = df_test['row ID']\n",
    "X_test.drop(['row ID'], axis=1, inplace=True)\n",
    "\n",
    "# Extract the target variable\n",
    "y = df_train[target_col]\n",
    "\n",
    "# Scale the values\n",
    "scaler = StandardScaler()\n",
    "X_train = scaler.fit_transform(X_train)\n",
    "X_test = scaler.transform(X_test)\n",
    "\n",
    "# Convert X_train and X_test back to DataFrame for correlation analysis\n",
    "X_train = pd.DataFrame(X_train)\n",
    "X_test = pd.DataFrame(X_test)\n",
    "\n",
    "# Calculate the correlation matrix\n",
    "corr_matrix = X_train.corr()\n",
    "\n",
    "# Set the threshold\n",
    "threshold = 0.9\n",
    "\n",
    "# Find columns to drop\n",
    "columns_to_drop = set()\n",
    "for i in range(len(corr_matrix.columns)):\n",
    "    for j in range(i):\n",
    "        if abs(corr_matrix.iloc[i, j]) > threshold:\n",
    "            colname = corr_matrix.columns[i]\n",
    "            columns_to_drop.add(colname)\n",
    "\n",
    "# Drop columns from X_train and X_test\n",
    "X_train = X_train.drop(columns=columns_to_drop, axis=1)\n",
    "X_test = X_test.drop(columns=columns_to_drop, axis=1)\n",
    "\n",
    "# Split the data into training and validation sets\n",
    "X_train, X_val, y_train, y_val = train_test_split(X_train, y, test_size=0.5, random_state=42)\n",
    "\n",
    "# Initialize the Decision Tree Regressor model\n",
    "model = DecisionTreeRegressor(max_depth=10, random_state=42)\n",
    "\n",
    "# Fit the model to the training data\n",
    "model.fit(X_train, y_train)\n",
    "\n",
    "# Get feature importances\n",
    "feature_importances = model.feature_importances_\n",
    "\n",
    "# Sort features by importance\n",
    "sorted_indices = np.argsort(feature_importances)[::-1]\n",
    "\n"
   ]
  },
  {
   "cell_type": "markdown",
   "metadata": {},
   "source": [
    "# Polynomial\n",
    "\n"
   ]
  },
  {
   "cell_type": "code",
   "execution_count": 159,
   "metadata": {},
   "outputs": [],
   "source": [
    "df = df_train_orig.copy()\n",
    "\n",
    "# Sample the dataset to 30% of the original\n",
    "sampled_df = df.sample(frac=0.6, random_state=42)\n",
    "\n",
    "# Split the sampled dataset into train and validation sets (2/3 train, 1/3 validation)\n",
    "X = sampled_df.drop(columns=[target_col])  # Assuming 'target' is the name of the target variable\n",
    "y = sampled_df[target_col]\n",
    "\n",
    "X = pd.get_dummies(X, drop_first=True)\n",
    "X = X[selected_column_names]\n",
    "\n",
    "X_train, X_val, y_train, y_val = train_test_split(X, y, test_size=1/6, random_state=42)\n"
   ]
  },
  {
   "cell_type": "code",
   "execution_count": 160,
   "metadata": {},
   "outputs": [
    {
     "data": {
      "text/plain": [
       "(90753, 20)"
      ]
     },
     "execution_count": 160,
     "metadata": {},
     "output_type": "execute_result"
    }
   ],
   "source": [
    "X_train.shape"
   ]
  },
  {
   "cell_type": "code",
   "execution_count": 161,
   "metadata": {},
   "outputs": [],
   "source": [
    "\n",
    "# Create polynomial features\n",
    "degree = 3  # Adjust the degree as needed\n",
    "poly_features = PolynomialFeatures(degree=degree, interaction_only=True )\n",
    "X_train_poly = poly_features.fit_transform(X_train)\n",
    "X_val_poly = poly_features.transform(X_val)\n",
    "\n"
   ]
  },
  {
   "cell_type": "code",
   "execution_count": 166,
   "metadata": {},
   "outputs": [
    {
     "data": {
      "text/plain": [
       "(90753, 1351)"
      ]
     },
     "execution_count": 166,
     "metadata": {},
     "output_type": "execute_result"
    }
   ],
   "source": [
    "X_train_poly.shape"
   ]
  },
  {
   "cell_type": "code",
   "execution_count": 167,
   "metadata": {},
   "outputs": [],
   "source": [
    "from sklearn.decomposition import PCA\n",
    "\n",
    "scaler = StandardScaler()\n",
    "X_train_scaled = scaler.fit_transform(X_train_poly)\n",
    "X_val_scaled = scaler.transform(X_val_poly)\n",
    "\n",
    "\n",
    "# Apply PCA on the scaled training data\n",
    "pca = PCA(n_components=300)  # Adjust the number of components as needed\n",
    "X_train_pca = pca.fit_transform(X_train_scaled)\n",
    "\n",
    "# Apply PCA on the scaled validation data\n",
    "X_val_pca = pca.transform(X_val_scaled)\n"
   ]
  },
  {
   "cell_type": "code",
   "execution_count": 176,
   "metadata": {},
   "outputs": [
    {
     "name": "stdout",
     "output_type": "stream",
     "text": [
      "(18151, 300)\n",
      "(90753,)\n"
     ]
    }
   ],
   "source": [
    "print(X_val_pca.shape)\n",
    "print(y_train.shape)"
   ]
  },
  {
   "cell_type": "code",
   "execution_count": 177,
   "metadata": {},
   "outputs": [
    {
     "data": {
      "text/html": [
       "<style>#sk-container-id-9 {color: black;}#sk-container-id-9 pre{padding: 0;}#sk-container-id-9 div.sk-toggleable {background-color: white;}#sk-container-id-9 label.sk-toggleable__label {cursor: pointer;display: block;width: 100%;margin-bottom: 0;padding: 0.3em;box-sizing: border-box;text-align: center;}#sk-container-id-9 label.sk-toggleable__label-arrow:before {content: \"▸\";float: left;margin-right: 0.25em;color: #696969;}#sk-container-id-9 label.sk-toggleable__label-arrow:hover:before {color: black;}#sk-container-id-9 div.sk-estimator:hover label.sk-toggleable__label-arrow:before {color: black;}#sk-container-id-9 div.sk-toggleable__content {max-height: 0;max-width: 0;overflow: hidden;text-align: left;background-color: #f0f8ff;}#sk-container-id-9 div.sk-toggleable__content pre {margin: 0.2em;color: black;border-radius: 0.25em;background-color: #f0f8ff;}#sk-container-id-9 input.sk-toggleable__control:checked~div.sk-toggleable__content {max-height: 200px;max-width: 100%;overflow: auto;}#sk-container-id-9 input.sk-toggleable__control:checked~label.sk-toggleable__label-arrow:before {content: \"▾\";}#sk-container-id-9 div.sk-estimator input.sk-toggleable__control:checked~label.sk-toggleable__label {background-color: #d4ebff;}#sk-container-id-9 div.sk-label input.sk-toggleable__control:checked~label.sk-toggleable__label {background-color: #d4ebff;}#sk-container-id-9 input.sk-hidden--visually {border: 0;clip: rect(1px 1px 1px 1px);clip: rect(1px, 1px, 1px, 1px);height: 1px;margin: -1px;overflow: hidden;padding: 0;position: absolute;width: 1px;}#sk-container-id-9 div.sk-estimator {font-family: monospace;background-color: #f0f8ff;border: 1px dotted black;border-radius: 0.25em;box-sizing: border-box;margin-bottom: 0.5em;}#sk-container-id-9 div.sk-estimator:hover {background-color: #d4ebff;}#sk-container-id-9 div.sk-parallel-item::after {content: \"\";width: 100%;border-bottom: 1px solid gray;flex-grow: 1;}#sk-container-id-9 div.sk-label:hover label.sk-toggleable__label {background-color: #d4ebff;}#sk-container-id-9 div.sk-serial::before {content: \"\";position: absolute;border-left: 1px solid gray;box-sizing: border-box;top: 0;bottom: 0;left: 50%;z-index: 0;}#sk-container-id-9 div.sk-serial {display: flex;flex-direction: column;align-items: center;background-color: white;padding-right: 0.2em;padding-left: 0.2em;position: relative;}#sk-container-id-9 div.sk-item {position: relative;z-index: 1;}#sk-container-id-9 div.sk-parallel {display: flex;align-items: stretch;justify-content: center;background-color: white;position: relative;}#sk-container-id-9 div.sk-item::before, #sk-container-id-9 div.sk-parallel-item::before {content: \"\";position: absolute;border-left: 1px solid gray;box-sizing: border-box;top: 0;bottom: 0;left: 50%;z-index: -1;}#sk-container-id-9 div.sk-parallel-item {display: flex;flex-direction: column;z-index: 1;position: relative;background-color: white;}#sk-container-id-9 div.sk-parallel-item:first-child::after {align-self: flex-end;width: 50%;}#sk-container-id-9 div.sk-parallel-item:last-child::after {align-self: flex-start;width: 50%;}#sk-container-id-9 div.sk-parallel-item:only-child::after {width: 0;}#sk-container-id-9 div.sk-dashed-wrapped {border: 1px dashed gray;margin: 0 0.4em 0.5em 0.4em;box-sizing: border-box;padding-bottom: 0.4em;background-color: white;}#sk-container-id-9 div.sk-label label {font-family: monospace;font-weight: bold;display: inline-block;line-height: 1.2em;}#sk-container-id-9 div.sk-label-container {text-align: center;}#sk-container-id-9 div.sk-container {/* jupyter's `normalize.less` sets `[hidden] { display: none; }` but bootstrap.min.css set `[hidden] { display: none !important; }` so we also need the `!important` here to be able to override the default hidden behavior on the sphinx rendered scikit-learn.org. See: https://github.com/scikit-learn/scikit-learn/issues/21755 */display: inline-block !important;position: relative;}#sk-container-id-9 div.sk-text-repr-fallback {display: none;}</style><div id=\"sk-container-id-9\" class=\"sk-top-container\"><div class=\"sk-text-repr-fallback\"><pre>LinearRegression()</pre><b>In a Jupyter environment, please rerun this cell to show the HTML representation or trust the notebook. <br />On GitHub, the HTML representation is unable to render, please try loading this page with nbviewer.org.</b></div><div class=\"sk-container\" hidden><div class=\"sk-item\"><div class=\"sk-estimator sk-toggleable\"><input class=\"sk-toggleable__control sk-hidden--visually\" id=\"sk-estimator-id-9\" type=\"checkbox\" checked><label for=\"sk-estimator-id-9\" class=\"sk-toggleable__label sk-toggleable__label-arrow\">LinearRegression</label><div class=\"sk-toggleable__content\"><pre>LinearRegression()</pre></div></div></div></div></div>"
      ],
      "text/plain": [
       "LinearRegression()"
      ]
     },
     "execution_count": 177,
     "metadata": {},
     "output_type": "execute_result"
    }
   ],
   "source": [
    "model = LinearRegression()\n",
    "model.fit(X_train_pca, y_train)\n"
   ]
  },
  {
   "cell_type": "code",
   "execution_count": 179,
   "metadata": {},
   "outputs": [
    {
     "name": "stdout",
     "output_type": "stream",
     "text": [
      "RMSE on validation set: 13498664.563177573\n"
     ]
    }
   ],
   "source": [
    "\n",
    "\n",
    "predictions = model.predict(X_val_pca)\n",
    "rmse = np.sqrt(mean_squared_error(y_val, predictions))\n",
    "print(f\"RMSE on validation set:\", rmse)"
   ]
  },
  {
   "cell_type": "code",
   "execution_count": 180,
   "metadata": {},
   "outputs": [],
   "source": [
    "\n",
    "X_test = df_test_orig.copy()\n",
    "\n",
    "row_ids = df_test['row ID']\n",
    "X_test.drop(['row ID'], axis=1, inplace=True)\n",
    "\n",
    "X_test = pd.get_dummies(X_test, drop_first=True)\n",
    "X_test = X_test[selected_column_names]\n",
    "\n",
    "# Create polynomial features (use the same degree as before)\n",
    "X_test_poly = poly_features.transform(X_test)\n",
    "\n",
    "# Scale the features (use the same scaler as before)\n",
    "X_test_scaled = scaler.transform(X_test_poly)\n",
    "\n",
    "X_test_scaled = pca.transform(X_test_scaled)"
   ]
  },
  {
   "cell_type": "code",
   "execution_count": 181,
   "metadata": {},
   "outputs": [
    {
     "data": {
      "text/plain": [
       "(77789, 300)"
      ]
     },
     "execution_count": 181,
     "metadata": {},
     "output_type": "execute_result"
    }
   ],
   "source": [
    "X_test_scaled.shape"
   ]
  },
  {
   "cell_type": "code",
   "execution_count": 182,
   "metadata": {},
   "outputs": [],
   "source": [
    "# Make predictions on the test data\n",
    "test_predictions = model.predict(X_test_scaled)\n",
    "\n",
    "# Create a DataFrame with 'row ID' and predictions\n",
    "result_df = pd.DataFrame({'row ID': row_ids, 'price_doc': test_predictions})\n",
    "\n",
    "# Save the results to a CSV file\n",
    "result_df.to_csv('predictions_17.csv', index=False)"
   ]
  }
 ],
 "metadata": {
  "kernelspec": {
   "display_name": "imlenv",
   "language": "python",
   "name": "python3"
  },
  "language_info": {
   "codemirror_mode": {
    "name": "ipython",
    "version": 3
   },
   "file_extension": ".py",
   "mimetype": "text/x-python",
   "name": "python",
   "nbconvert_exporter": "python",
   "pygments_lexer": "ipython3",
   "version": "3.10.12"
  }
 },
 "nbformat": 4,
 "nbformat_minor": 2
}
