{
 "cells": [
  {
   "cell_type": "code",
   "execution_count": 18,
   "metadata": {},
   "outputs": [],
   "source": [
    "import pandas as pd\n",
    "import numpy as np\n",
    "from sklearn.preprocessing import LabelEncoder, StandardScaler\n",
    "from sklearn.model_selection import train_test_split\n",
    "from sklearn.linear_model import LinearRegression\n",
    "from sklearn.metrics import mean_squared_error\n",
    "import pandas as pd\n",
    "import numpy as np\n",
    "from sklearn.model_selection import train_test_split\n",
    "from sklearn.preprocessing import PolynomialFeatures, StandardScaler, MinMaxScaler, RobustScaler\n",
    "\n",
    "from sklearn.linear_model import LinearRegression\n",
    "from sklearn.decomposition import PCA\n",
    "from sklearn.feature_selection import RFE, VarianceThreshold\n",
    "from sklearn.feature_selection import SequentialFeatureSelector\n",
    "from sklearn.tree import DecisionTreeRegressor\n",
    "from sklearn.linear_model import Lasso, Ridge\n",
    "\n",
    "import pandas as pd\n",
    "import numpy as np\n",
    "import tensorflow as tf\n",
    "from tensorflow import keras\n",
    "from sklearn.model_selection import train_test_split\n",
    "from sklearn.preprocessing import StandardScaler, LabelEncoder, OneHotEncoder\n",
    "from tensorflow.keras.layers import Dropout\n",
    "\n",
    "\n"
   ]
  },
  {
   "cell_type": "code",
   "execution_count": null,
   "metadata": {},
   "outputs": [],
   "source": [
    "\n",
    "# Load the training and test data\n",
    "df_train_orig = pd.read_csv('train.csv')\n",
    "df_test_orig = pd.read_csv('test.csv')\n"
   ]
  },
  {
   "cell_type": "code",
   "execution_count": null,
   "metadata": {},
   "outputs": [],
   "source": [
    "\n",
    "# Make a copy of the original data\n",
    "df_train = df_train_orig.copy()\n",
    "df_test = df_test_orig.copy()\n",
    "target_col = 'price_doc'\n",
    "row_id_col = 'row ID'\n",
    "\n",
    "# Label encode the \"sub_area\" column\n",
    "label_encoder = LabelEncoder()\n",
    "df_train['sub_area'] = label_encoder.fit_transform(df_train['sub_area'])\n",
    "df_test['sub_area'] = label_encoder.transform(df_test['sub_area'])\n",
    "\n",
    "# Create dummy variables for categorical features\n",
    "X_train_full = pd.get_dummies(df_train.drop(columns=[target_col]), drop_first=True)\n",
    "y = df_train[target_col]\n",
    "\n",
    "X_test = pd.get_dummies(df_test, drop_first=True)\n",
    "\n",
    "# Extract the 'row ID' column for later use and remove it from X_test\n",
    "row_ids = df_test['row ID']\n",
    "X_test.drop(['row ID'], axis=1, inplace=True)\n",
    "\n",
    "# Train-test split\n",
    "X_train, X_val, y_train, y_val = train_test_split(X_train_full, y, test_size=0.1, random_state=42)\n"
   ]
  },
  {
   "cell_type": "code",
   "execution_count": null,
   "metadata": {},
   "outputs": [],
   "source": [
    "print('X_train shape:', X_train.shape)\n",
    "print('X_val shape:', X_val.shape)\n",
    "print('X_test shape:', X_test.shape)"
   ]
  },
  {
   "cell_type": "code",
   "execution_count": null,
   "metadata": {},
   "outputs": [],
   "source": [
    "\n",
    "# Step 2: Use a Decision Tree Regressor to get the 100 most important features\n",
    "tree_regressor = DecisionTreeRegressor(max_depth=5, random_state=42)\n",
    "tree_regressor.fit(X_train, y_train)\n",
    "importances = tree_regressor.feature_importances_\n"
   ]
  },
  {
   "cell_type": "code",
   "execution_count": null,
   "metadata": {},
   "outputs": [],
   "source": [
    "\n",
    "# Get indices of the top 100 features\n",
    "top_100_feature_indices = np.argsort(importances)[-20:]\n",
    "\n",
    "# Select the top 100 features\n",
    "X_train = X_train.iloc[:, top_100_feature_indices]\n",
    "X_val = X_val.iloc[:, top_100_feature_indices]\n",
    "X_test = X_test.iloc[:, top_100_feature_indices]\n"
   ]
  },
  {
   "cell_type": "code",
   "execution_count": null,
   "metadata": {},
   "outputs": [],
   "source": [
    "scaler = StandardScaler()\n",
    "X_train = scaler.fit_transform(X_train)\n",
    "X_val = scaler.transform(X_val)\n",
    "X_test = scaler.transform(X_test)\n",
    "\n"
   ]
  },
  {
   "cell_type": "code",
   "execution_count": null,
   "metadata": {},
   "outputs": [],
   "source": [
    "print('X_train_scaled shape:', X_train.shape)\n",
    "print('X_val_scaled shape:', X_val.shape)\n",
    "print('X_test_scaled shape:', X_test.shape)"
   ]
  },
  {
   "cell_type": "code",
   "execution_count": null,
   "metadata": {},
   "outputs": [],
   "source": [
    "pca = PCA(n_components=100)\n",
    "X_train = pca.fit_transform(X_train)\n",
    "X_val = pca.transform(X_val)\n",
    "X_test = pca.transform(X_test)"
   ]
  },
  {
   "cell_type": "code",
   "execution_count": null,
   "metadata": {},
   "outputs": [],
   "source": [
    "threshold = 0.1\n",
    "\n",
    "selector = VarianceThreshold(threshold=threshold)\n",
    "\n",
    "X_train = selector.fit_transform(X_train)\n",
    "X_val = selector.transform(X_val)\n",
    "X_test = selector.transform(X_test)\n",
    "\n",
    "print(X_train.shape)\n",
    "print(X_val.shape)\n",
    "print(X_test.shape)"
   ]
  },
  {
   "cell_type": "code",
   "execution_count": null,
   "metadata": {},
   "outputs": [],
   "source": [
    "print('X_train_pca shape:', X_train.shape)\n",
    "print('X_val_pca shape:', X_val.shape)\n",
    "print('X_test_pca shape:', X_test.shape)\n"
   ]
  },
  {
   "cell_type": "code",
   "execution_count": null,
   "metadata": {},
   "outputs": [],
   "source": [
    "# Step 3: Use Forward Selection to get the first 10 best features\n",
    "selector = SequentialFeatureSelector(estimator=LinearRegression(), n_features_to_select=10)\n",
    "selector.fit(X_train, y_train)\n",
    "\n",
    "# Get the selected feature indices\n",
    "selected_feature_indices = selector.get_support()\n"
   ]
  },
  {
   "cell_type": "code",
   "execution_count": null,
   "metadata": {},
   "outputs": [],
   "source": [
    "\n",
    "# Select the first 10 best features\n",
    "X_train = X_train.iloc[:, selected_feature_indices]\n",
    "X_val = X_val.iloc[:, selected_feature_indices]\n",
    "X_test = X_test.iloc[:, selected_feature_indices]\n"
   ]
  },
  {
   "cell_type": "code",
   "execution_count": null,
   "metadata": {},
   "outputs": [],
   "source": [
    "print('X_train_top10 shape:', X_train.shape)\n",
    "print('X_val_top10 shape:', X_val.shape)\n",
    "print('X_test_top10 shape:', X_test.shape)\n"
   ]
  },
  {
   "cell_type": "code",
   "execution_count": 16,
   "metadata": {},
   "outputs": [
    {
     "name": "stdout",
     "output_type": "stream",
     "text": [
      "X_train_poly shape: (163356, 231)\n",
      "X_val_poly shape: (18151, 231)\n",
      "X_test_poly shape: (77789, 231)\n"
     ]
    }
   ],
   "source": [
    "\n",
    "# Step 4: Use Polynomial Features with interaction on the selected features\n",
    "poly = PolynomialFeatures(degree=2, interaction_only=False)\n",
    "X_train = poly.fit_transform(X_train)\n",
    "X_val = poly.transform(X_val)\n",
    "X_test = poly.transform(X_test)\n",
    "\n",
    "print('X_train_poly shape:', X_train.shape)\n",
    "print('X_val_poly shape:', X_val.shape)\n",
    "print('X_test_poly shape:', X_test.shape)\n"
   ]
  },
  {
   "cell_type": "code",
   "execution_count": 17,
   "metadata": {},
   "outputs": [
    {
     "name": "stdout",
     "output_type": "stream",
     "text": [
      "Iteration 1, loss = 122884863367736.71875000\n",
      "Validation score: 0.580738\n",
      "Iteration 2, loss = 96596866959366.59375000\n",
      "Validation score: 0.607051\n",
      "Iteration 3, loss = 93561130104557.50000000\n",
      "Validation score: 0.613973\n",
      "Iteration 4, loss = 92398812851247.82812500\n",
      "Validation score: 0.615424\n",
      "Iteration 5, loss = 91286341146669.68750000\n",
      "Validation score: 0.617856\n",
      "Iteration 6, loss = 90506285552266.21875000\n",
      "Validation score: 0.623605\n",
      "Iteration 7, loss = 89833139821339.18750000\n",
      "Validation score: 0.623902\n",
      "Iteration 8, loss = 89191465247764.76562500\n",
      "Validation score: 0.625761\n",
      "Iteration 9, loss = 88493171729815.96875000\n",
      "Validation score: 0.626658\n",
      "Iteration 10, loss = 87868281903659.96875000\n",
      "Validation score: 0.606138\n",
      "RMSE on validation set: 13384352.660707898\n"
     ]
    },
    {
     "name": "stderr",
     "output_type": "stream",
     "text": [
      "/Users/yahyaahmedkhan/miniconda3/envs/tfenv2/lib/python3.10/site-packages/sklearn/neural_network/_multilayer_perceptron.py:691: ConvergenceWarning: Stochastic Optimizer: Maximum iterations (10) reached and the optimization hasn't converged yet.\n",
      "  warnings.warn(\n"
     ]
    }
   ],
   "source": [
    "from sklearn.linear_model import Lasso, Ridge\n",
    "from sklearn.neural_network import MLPRegressor\n",
    "\n",
    "# Step 5: Train and fit a Linear Regression model on the polynomial feature set\n",
    "model = Lasso()\n",
    "model = MLPRegressor(\n",
    "    hidden_layer_sizes=(256, 128,128, 64, 32, 16, 8,),\n",
    "    activation='relu',\n",
    "    solver='adam',\n",
    "    random_state=42,\n",
    "    verbose=True,\n",
    "    max_iter=10,\n",
    "    early_stopping=True,\n",
    "    batch_size=64,\n",
    "    alpha=1e-5,  # L2 regularization term\n",
    ")\n",
    "\n",
    "# Evaluate the model on the validation set\n",
    "# predictions = model.predict(X_val_poly)\n",
    "# rmse = np.sqrt(mean_squared_error(y_val, predictions))\n",
    "\n",
    "\n",
    "model.fit(X_train, y_train)\n",
    "\n",
    "\n",
    "# # Evaluate the model on the validation set\n",
    "predictions = model.predict(X_val)\n",
    "rmse = np.sqrt(mean_squared_error(y_val, predictions))\n",
    "\n",
    "print(f\"RMSE on validation set:\", rmse)\n",
    "\n",
    "# Make predictions on the test data\n",
    "test_predictions = model.predict(X_test)\n",
    "\n",
    "# Create a DataFrame with 'row ID' and predictions\n",
    "\n",
    "result_df = pd.DataFrame({'row ID': row_ids, 'price_doc': test_predictions})\n",
    "\n",
    "# Save the results to a CSV file\n",
    "\n",
    "\n",
    "result_df.to_csv('predictions_40.csv', index=False)\n",
    "\n",
    "\n"
   ]
  },
  {
   "cell_type": "code",
   "execution_count": 19,
   "metadata": {},
   "outputs": [
    {
     "name": "stderr",
     "output_type": "stream",
     "text": [
      "WARNING:absl:At this time, the v2.11+ optimizer `tf.keras.optimizers.Adam` runs slowly on M1/M2 Macs, please use the legacy Keras optimizer instead, located at `tf.keras.optimizers.legacy.Adam`.\n"
     ]
    }
   ],
   "source": [
    "from tensorflow.keras.optimizers import Adam\n",
    "from tensorflow.keras.layers import Dropout\n",
    "\n",
    "# Create a custom Adam optimizer with a reduced learning rate\n",
    "custom_optimizer = Adam(learning_rate=0.001)  # Adjust the learning rate as needed\n",
    "\n",
    "model = keras.Sequential([\n",
    "    keras.layers.Input(shape=(231,)),  # Input layer with 274 input features\n",
    "\n",
    "    Dropout(0.4),  # Add a Dropout layer with a dropout rate of 0.4 (40% dropout rate)\n",
    "    keras.layers.Dense(64, activation='relu'),  # Another hidden layer with 64 neurons and ReLU activation\n",
    "    Dropout(0.3),  # Add a Dropout layer with a dropout rate of 0.3 (30% dropout rate)\n",
    "    keras.layers.Dense(32, activation='relu'),  # Yet another hidden layer with 32 neurons and ReLU activation\n",
    "    Dropout(0.2),  # Add a Dropout layer with a dropout rate of 0.2 (20% dropout rate)\n",
    "    keras.layers.Dense(1)  # Output layer for regression, no activation function\n",
    "])\n",
    "\n",
    "model.compile(optimizer=custom_optimizer,\n",
    "              loss='mean_squared_error',  # Use mean squared error (MSE) for regression\n",
    "              metrics=[tf.keras.metrics.RootMeanSquaredError(), 'mae'])  # RMSE as a custom metric\n"
   ]
  },
  {
   "cell_type": "code",
   "execution_count": 20,
   "metadata": {},
   "outputs": [
    {
     "name": "stdout",
     "output_type": "stream",
     "text": [
      "Epoch 1/10\n",
      "2553/2553 [==============================] - 2s 816us/step - loss: 571229912170496.0000 - root_mean_squared_error: 23900416.0000 - mae: 13298056.0000\n",
      "Epoch 2/10\n",
      "2553/2553 [==============================] - 2s 814us/step - loss: 283705306251264.0000 - root_mean_squared_error: 16843554.0000 - mae: 9616452.0000\n",
      "Epoch 3/10\n",
      "2553/2553 [==============================] - 2s 802us/step - loss: 268947563741184.0000 - root_mean_squared_error: 16399621.0000 - mae: 9236188.0000\n",
      "Epoch 4/10\n",
      "2553/2553 [==============================] - 3s 1ms/step - loss: 263286746513408.0000 - root_mean_squared_error: 16226113.0000 - mae: 9056791.0000\n",
      "Epoch 5/10\n",
      "2553/2553 [==============================] - 2s 861us/step - loss: 260447135596544.0000 - root_mean_squared_error: 16138375.0000 - mae: 8894540.0000\n",
      "Epoch 6/10\n",
      "2553/2553 [==============================] - 2s 800us/step - loss: 256991029100544.0000 - root_mean_squared_error: 16030940.0000 - mae: 8752224.0000\n",
      "Epoch 7/10\n",
      "2553/2553 [==============================] - 3s 1ms/step - loss: 254210020999168.0000 - root_mean_squared_error: 15943965.0000 - mae: 8613253.0000\n",
      "Epoch 8/10\n",
      "2553/2553 [==============================] - 2s 813us/step - loss: 253069589741568.0000 - root_mean_squared_error: 15908161.0000 - mae: 8499265.0000\n",
      "Epoch 9/10\n",
      "2553/2553 [==============================] - 2s 778us/step - loss: 250447478652928.0000 - root_mean_squared_error: 15825532.0000 - mae: 8380422.0000\n",
      "Epoch 10/10\n",
      "2553/2553 [==============================] - 2s 779us/step - loss: 248503167090688.0000 - root_mean_squared_error: 15763983.0000 - mae: 8293962.0000\n"
     ]
    },
    {
     "data": {
      "text/plain": [
       "<keras.src.callbacks.History at 0x28fc63e50>"
      ]
     },
     "execution_count": 20,
     "metadata": {},
     "output_type": "execute_result"
    }
   ],
   "source": [
    "model.fit(X_train, y_train, epochs=10, batch_size=64, verbose=1)"
   ]
  },
  {
   "cell_type": "code",
   "execution_count": null,
   "metadata": {},
   "outputs": [],
   "source": [
    "import sys\n",
    "\n",
    "import tensorflow as tf\n",
    "import tensorflow.keras\n",
    "import pandas as pd\n",
    "import sklearn as sk\n",
    "import scipy as sp\n",
    "import platform\n",
    "\n",
    "print(f\"Python Platform: {platform.platform()}\")\n",
    "print(f\"Tensor Flow Version: {tf.__version__}\")\n",
    "print(f\"Keras Version: {tensorflow.keras.__version__}\")\n",
    "print()\n",
    "print(f\"Python {sys.version}\")\n",
    "print(f\"Pandas {pd.__version__}\")\n",
    "print(f\"Scikit-Learn {sk.__version__}\")\n",
    "print(f\"SciPy {sp.__version__}\")\n",
    "gpu = len(tf.config.list_physical_devices('GPU'))>0\n",
    "print(\"GPU is\", \"available\" if gpu else \"NOT AVAILABLE\")\n"
   ]
  }
 ],
 "metadata": {
  "kernelspec": {
   "display_name": "imlenv",
   "language": "python",
   "name": "python3"
  },
  "language_info": {
   "codemirror_mode": {
    "name": "ipython",
    "version": 3
   },
   "file_extension": ".py",
   "mimetype": "text/x-python",
   "name": "python",
   "nbconvert_exporter": "python",
   "pygments_lexer": "ipython3",
   "version": "3.10.13"
  }
 },
 "nbformat": 4,
 "nbformat_minor": 2
}
