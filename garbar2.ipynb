{
 "cells": [
  {
   "cell_type": "code",
   "execution_count": 8,
   "metadata": {},
   "outputs": [],
   "source": [
    "import pandas as pd\n",
    "import numpy as np\n",
    "from sklearn.impute import SimpleImputer\n",
    "from sklearn.preprocessing import MinMaxScaler, PolynomialFeatures\n",
    "from sklearn.decomposition import PCA\n",
    "from tensorflow.keras.models import Sequential\n",
    "from tensorflow.keras.layers import Dense, Dropout\n",
    "from tensorflow.keras.optimizers import Adam\n",
    "from math import sqrt\n",
    "from sklearn.metrics import mean_squared_error\n",
    "from sklearn.preprocessing import LabelEncoder\n",
    "from sklearn.feature_selection import VarianceThreshold\n"
   ]
  },
  {
   "cell_type": "code",
   "execution_count": 7,
   "metadata": {},
   "outputs": [
    {
     "name": "stderr",
     "output_type": "stream",
     "text": [
      "WARNING:absl:At this time, the v2.11+ optimizer `tf.keras.optimizers.Adam` runs slowly on M1/M2 Macs, please use the legacy Keras optimizer instead, located at `tf.keras.optimizers.legacy.Adam`.\n"
     ]
    },
    {
     "name": "stdout",
     "output_type": "stream",
     "text": [
      "Epoch 1/10\n",
      "3631/3631 [==============================] - 8s 2ms/step - loss: 220313803554816.0000 - val_loss: 178969290735616.0000\n",
      "Epoch 2/10\n",
      "3631/3631 [==============================] - 7s 2ms/step - loss: 191287089168384.0000 - val_loss: 177319301873664.0000\n",
      "Epoch 3/10\n",
      "3631/3631 [==============================] - 7s 2ms/step - loss: 189679445999616.0000 - val_loss: 173614724808704.0000\n",
      "Epoch 4/10\n",
      "3631/3631 [==============================] - 7s 2ms/step - loss: 190073106595840.0000 - val_loss: 174246336659456.0000\n",
      "Epoch 5/10\n",
      "3631/3631 [==============================] - 8s 2ms/step - loss: 186842536214528.0000 - val_loss: 172457885433856.0000\n",
      "Epoch 6/10\n",
      "3631/3631 [==============================] - 8s 2ms/step - loss: 184045388431360.0000 - val_loss: 174796864225280.0000\n",
      "Epoch 7/10\n",
      "3631/3631 [==============================] - 8s 2ms/step - loss: 181667335503872.0000 - val_loss: 176266296688640.0000\n",
      "Epoch 8/10\n",
      "3631/3631 [==============================] - 9s 2ms/step - loss: 181308940615680.0000 - val_loss: 174139281244160.0000\n",
      "Epoch 9/10\n",
      "3631/3631 [==============================] - 9s 2ms/step - loss: 180034929164288.0000 - val_loss: 173312013500416.0000\n",
      "Epoch 10/10\n",
      "3631/3631 [==============================] - 10s 3ms/step - loss: 179514634141696.0000 - val_loss: 176981761064960.0000\n",
      "2431/2431 [==============================] - 2s 710us/step\n",
      "5673/5673 [==============================] - 4s 757us/step\n"
     ]
    }
   ],
   "source": [
    "\n",
    "def build_neural_network(input_dim):\n",
    "    model = Sequential([\n",
    "        Dropout(0.08),  # Adjusted dropout rate\n",
    "        Dense(512, activation='relu'),  # Increased neurons\n",
    "        Dense(256, activation='relu', input_dim=input_dim),  # Changed neurons\n",
    "        Dense(128, activation='relu'),  # Additional layer\n",
    "        Dense(64, activation='relu'),\n",
    "        Dense(1, activation='linear')  # Output layer\n",
    "    ])\n",
    "    optimizer = Adam(learning_rate=0.001)  # Adjusted learning rate\n",
    "    model.compile(optimizer=optimizer, loss='mean_squared_error')\n",
    "    return model\n",
    "\n",
    "\n",
    "# Load the dataset\n",
    "df_train = pd.read_csv('train.csv')\n",
    "df_test = pd.read_csv('test.csv')\n",
    "\n",
    "# Save row IDs for the final output\n",
    "row_ids = df_test['row ID']\n",
    "\n",
    "# Drop 'sub_area' from both datasets\n",
    "df_train = df_train.drop(columns=['sub_area'])\n",
    "df_test = df_test.drop(columns=['sub_area', 'row ID'])\n",
    "\n",
    "# Identify and label encode categorical columns\n",
    "categorical_columns = df_train.select_dtypes(include='object').columns\n",
    "label_encoder = LabelEncoder()\n",
    "for column in categorical_columns:\n",
    "    df_train[column] = label_encoder.fit_transform(df_train[column])\n",
    "    df_test[column] = label_encoder.transform(df_test[column])\n",
    "\n",
    "# Encode categorical variables\n",
    "X_train = pd.get_dummies(df_train, drop_first=True)\n",
    "X_test = pd.get_dummies(df_test, drop_first=True)\n",
    "\n",
    "# Separate features and target variable\n",
    "features = X_train.drop(columns=['price_doc'])\n",
    "target = X_train['price_doc']\n",
    "\n",
    "# Impute missing values with the median\n",
    "imputer = SimpleImputer(strategy='median')\n",
    "X_train = imputer.fit_transform(features)\n",
    "X_test = imputer.transform(X_test)\n",
    "\n",
    "# Scale features to a specific range\n",
    "scaler = MinMaxScaler()\n",
    "X_train_scaled = scaler.fit_transform(X_train)\n",
    "X_test_scaled = scaler.transform(X_test)\n",
    "\n",
    "# Feature selection based on variance threshold\n",
    "variance_threshold = 0.01  # Set your desired threshold\n",
    "selector = VarianceThreshold(threshold=variance_threshold)\n",
    "X_train_high_variance = selector.fit_transform(X_train_scaled)\n",
    "X_test_high_variance = selector.transform(X_test_scaled)\n",
    "\n",
    "# Perform PCA for dimensionality reduction\n",
    "pca_components = 10 # Adjust based on your preference or use model evaluation\n",
    "pca = PCA(n_components=pca_components)\n",
    "X_train_pca = pca.fit_transform(X_train_high_variance)\n",
    "X_test_pca = pca.transform(X_test_high_variance)\n",
    "\n",
    "# Create polynomial features without interaction\n",
    "poly_degree = 2  # Adjust based on your preference or use model evaluation\n",
    "poly_features = PolynomialFeatures(degree=poly_degree, include_bias=False, interaction_only=False)\n",
    "X_train_poly = poly_features.fit_transform(X_train_pca)\n",
    "X_test_poly = poly_features.transform(X_test_pca)\n",
    "\n",
    "# Build and train the neural network\n",
    "input_dim = X_train_poly.shape[1]\n",
    "model = build_neural_network(input_dim)\n",
    "\n",
    "# Train the model for 20 epochs\n",
    "model.fit(X_train_poly, target, epochs=10, batch_size=40, validation_split=0.2, verbose=1)\n",
    "\n",
    "# Make predictions on the test set\n",
    "predictions = model.predict(X_test_poly).flatten()\n",
    "\n",
    "# Calculate RMSE on Training Set\n",
    "rmse_train = sqrt(mean_squared_error(target, model.predict(X_train_poly).flatten()))\n",
    "\n"
   ]
  },
  {
   "cell_type": "code",
   "execution_count": 12,
   "metadata": {},
   "outputs": [
    {
     "data": {
      "text/plain": [
       "(181507, 270)"
      ]
     },
     "execution_count": 12,
     "metadata": {},
     "output_type": "execute_result"
    }
   ],
   "source": [
    "X_train.shape"
   ]
  },
  {
   "cell_type": "code",
   "execution_count": 9,
   "metadata": {},
   "outputs": [
    {
     "name": "stdout",
     "output_type": "stream",
     "text": [
      "RMSE on Training Set: 13336948.832428165\n"
     ]
    }
   ],
   "source": [
    "print(f\"RMSE on Training Set: {rmse_train}\")\n"
   ]
  },
  {
   "cell_type": "code",
   "execution_count": 11,
   "metadata": {},
   "outputs": [],
   "source": [
    "result_df = pd.DataFrame({'row ID': row_ids, 'price_doc': predictions})\n",
    "\n",
    "# Save the DataFrame to a CSV file\n",
    "result_df.to_csv('predictions_42.csv', index=False)"
   ]
  },
  {
   "cell_type": "code",
   "execution_count": null,
   "metadata": {},
   "outputs": [],
   "source": [
    "# Create a DataFrame with predictions and 'row_ids'\n",
    "result_df = pd.DataFrame({'row ID': row_ids, 'price_doc': predictions})\n",
    "\n",
    "# Save the DataFrame to a CSV file\n",
    "result_df.to_csv('predictions_neural_network.csv', index=False)\n",
    "\n",
    "# Print/fetch details\n",
    "print(\"Neural Network Model with 10 epochs\")\n",
    "print(f\"RMSE on Training Set: {rmse_train}\")\n",
    "print(\"Number of Features Used:\", X_train_poly.shape[1])\n",
    "print(\"Architecture Details:\")\n",
    "print(\"Dropout Rate: 0.08\")\n",
    "print(\"Batch Size: 40\")\n",
    "print(\"Number of Epochs: 10\")\n"
   ]
  },
  {
   "cell_type": "code",
   "execution_count": 8,
   "metadata": {},
   "outputs": [
    {
     "name": "stderr",
     "output_type": "stream",
     "text": [
      "WARNING:absl:At this time, the v2.11+ optimizer `tf.keras.optimizers.Adam` runs slowly on M1/M2 Macs, please use the legacy Keras optimizer instead, located at `tf.keras.optimizers.legacy.Adam`.\n"
     ]
    }
   ],
   "source": [
    "import pandas as pd\n",
    "import numpy as np\n",
    "from sklearn.impute import SimpleImputer\n",
    "from sklearn.preprocessing import MinMaxScaler, PolynomialFeatures\n",
    "from sklearn.decomposition import PCA\n",
    "from tensorflow.keras.callbacks import EarlyStopping\n",
    "from sklearn.feature_selection import VarianceThreshold\n",
    "from math import sqrt\n",
    "from sklearn.metrics import mean_squared_error\n",
    "from sklearn.preprocessing import LabelEncoder\n",
    "from tensorflow.keras.models import Sequential\n",
    "from tensorflow.keras.layers import Dense, Dropout\n",
    "from tensorflow.keras.optimizers import Adam\n",
    "import time\n",
    "\n",
    "\n",
    "\n",
    "# Load the dataset\n",
    "train_df = pd.read_csv('train.csv')  # Update with your file path\n",
    "test_df = pd.read_csv('test.csv')  # Update with your file path\n",
    "\n",
    "# Save row IDs for the final output\n",
    "row_ids = test_df['row ID']\n",
    "\n",
    "# Drop 'sub_area' from both datasets\n",
    "train_df = train_df.drop(columns=['sub_area'])\n",
    "test_df = test_df.drop(columns=['sub_area', 'row ID'])\n",
    "\n",
    "# Identify and label encode categorical columns\n",
    "categorical_cols = train_df.select_dtypes(include='object').columns\n",
    "label_encoder = LabelEncoder()\n",
    "\n",
    "for col in categorical_cols:\n",
    "    train_df[col] = label_encoder.fit_transform(train_df[col])\n",
    "    test_df[col] = label_encoder.transform(test_df[col])\n",
    "\n",
    "# Encode categorical variables\n",
    "train_encoded = pd.get_dummies(train_df, drop_first=True)\n",
    "test_encoded = pd.get_dummies(test_df, drop_first=True)\n",
    "\n",
    "# Separate features and target variable\n",
    "X_train = train_encoded.drop(columns=['price_doc'])\n",
    "y_train = train_encoded['price_doc']\n",
    "\n",
    "# Impute missing values with the median\n",
    "imputer = SimpleImputer(strategy='median')\n",
    "X_train = imputer.fit_transform(X_train)\n",
    "test_encoded = imputer.transform(test_encoded)\n",
    "\n",
    "# Scale features to a specific range\n",
    "scaler = MinMaxScaler()\n",
    "X_train_scaled = scaler.fit_transform(X_train)\n",
    "test_encoded_scaled = scaler.transform(test_encoded)\n",
    "\n",
    "# Feature selection based on variance threshold\n",
    "selector = VarianceThreshold(threshold=0.01)\n",
    "X_train_var = selector.fit_transform(X_train_scaled)\n",
    "X_test_var = selector.transform(test_encoded_scaled)\n",
    "\n",
    "# Perform PCA for dimensionality reduction\n",
    "pca = PCA(n_components=10)\n",
    "X_train_pca = pca.fit_transform(X_train_var)\n",
    "X_test_pca = pca.transform(X_test_var)\n",
    "\n",
    "# Create polynomial features without interaction\n",
    "poly = PolynomialFeatures(degree=2, include_bias=False, interaction_only=False)\n",
    "X_train_poly = poly.fit_transform(X_train_pca)\n",
    "X_test_poly = poly.transform(X_test_pca)\n",
    "\n",
    "# Build and train the neural network\n"
   ]
  },
  {
   "cell_type": "code",
   "execution_count": 23,
   "metadata": {},
   "outputs": [
    {
     "name": "stderr",
     "output_type": "stream",
     "text": [
      "WARNING:absl:At this time, the v2.11+ optimizer `tf.keras.optimizers.Adam` runs slowly on M1/M2 Macs, please use the legacy Keras optimizer instead, located at `tf.keras.optimizers.legacy.Adam`.\n"
     ]
    }
   ],
   "source": [
    "from tensorflow.keras.models import Sequential\n",
    "from tensorflow.keras.layers import Dense, Dropout\n",
    "from tensorflow.keras.optimizers import Adam\n",
    "\n",
    "def build_neural_network(input_dim):\n",
    "    model = Sequential()\n",
    "    model.add(Dropout(0.08))  # Adjusted dropout rate\n",
    "    model.add(Dense(256, activation='relu', input_dim=input_dim))  # Changed neurons\n",
    "    model.add(Dropout(0.08))  # Adjusted dropout rate\n",
    "    model.add(Dense(128, activation='relu'))  # Additional layer\n",
    "    model.add(Dropout(0.08))  # Adjusted dropout rate\n",
    "    model.add(Dense(1, activation='linear'))\n",
    "    optimizer = Adam(learning_rate=0.001)  # Adjusted learning rate\n",
    "    model.compile(optimizer=optimizer, loss='mean_squared_error', metrics=['RootMeanSquaredError'])\n",
    "    return model\n",
    "\n",
    "model = build_neural_network(X_train_poly.shape[1])\n"
   ]
  },
  {
   "cell_type": "code",
   "execution_count": 22,
   "metadata": {},
   "outputs": [
    {
     "name": "stdout",
     "output_type": "stream",
     "text": [
      "Epoch 1/20\n",
      "4538/4538 [==============================] - 5s 970us/step - loss: 413422512504832.0000 - root_mean_squared_error: 20332794.0000 - val_loss: 194960376725504.0000 - val_root_mean_squared_error: 13962821.0000\n",
      "Epoch 2/20\n",
      "4538/4538 [==============================] - 4s 847us/step - loss: 208394380115968.0000 - root_mean_squared_error: 14435871.0000 - val_loss: 188212110688256.0000 - val_root_mean_squared_error: 13719042.0000\n",
      "Epoch 3/20\n",
      "4538/4538 [==============================] - 4s 845us/step - loss: 206127073591296.0000 - root_mean_squared_error: 14357126.0000 - val_loss: 185252693671936.0000 - val_root_mean_squared_error: 13610757.0000\n",
      "Epoch 4/20\n",
      "4538/4538 [==============================] - 4s 960us/step - loss: 202336781729792.0000 - root_mean_squared_error: 14224513.0000 - val_loss: 184304697081856.0000 - val_root_mean_squared_error: 13575887.0000\n",
      "Epoch 5/20\n",
      "4538/4538 [==============================] - 4s 956us/step - loss: 199751110754304.0000 - root_mean_squared_error: 14133333.0000 - val_loss: 183774386061312.0000 - val_root_mean_squared_error: 13556341.0000\n",
      "Epoch 6/20\n",
      "4538/4538 [==============================] - 4s 962us/step - loss: 199891921928192.0000 - root_mean_squared_error: 14138314.0000 - val_loss: 182126074920960.0000 - val_root_mean_squared_error: 13495409.0000\n",
      "Epoch 7/20\n",
      "4538/4538 [==============================] - 4s 990us/step - loss: 196706851356672.0000 - root_mean_squared_error: 14025222.0000 - val_loss: 182490090176512.0000 - val_root_mean_squared_error: 13508889.0000\n",
      "Epoch 8/20\n",
      "4538/4538 [==============================] - 4s 865us/step - loss: 196642779168768.0000 - root_mean_squared_error: 14022938.0000 - val_loss: 181518437711872.0000 - val_root_mean_squared_error: 13472878.0000\n",
      "Epoch 9/20\n",
      "4538/4538 [==============================] - 4s 833us/step - loss: 196104381530112.0000 - root_mean_squared_error: 14003727.0000 - val_loss: 180606730240000.0000 - val_root_mean_squared_error: 13439000.0000\n",
      "Epoch 10/20\n",
      "4538/4538 [==============================] - 4s 844us/step - loss: 194753530429440.0000 - root_mean_squared_error: 13955412.0000 - val_loss: 180074506616832.0000 - val_root_mean_squared_error: 13419184.0000\n",
      "Epoch 11/20\n",
      "4538/4538 [==============================] - 4s 835us/step - loss: 194242378989568.0000 - root_mean_squared_error: 13937086.0000 - val_loss: 179748844077056.0000 - val_root_mean_squared_error: 13407045.0000\n",
      "Epoch 12/20\n",
      "4538/4538 [==============================] - 4s 829us/step - loss: 193678781972480.0000 - root_mean_squared_error: 13916852.0000 - val_loss: 178835374997504.0000 - val_root_mean_squared_error: 13372934.0000\n",
      "Epoch 13/20\n",
      "4538/4538 [==============================] - 4s 842us/step - loss: 193124999626752.0000 - root_mean_squared_error: 13896942.0000 - val_loss: 179053445251072.0000 - val_root_mean_squared_error: 13381085.0000\n",
      "Epoch 14/20\n",
      "4538/4538 [==============================] - 4s 839us/step - loss: 192067045163008.0000 - root_mean_squared_error: 13858826.0000 - val_loss: 178200290263040.0000 - val_root_mean_squared_error: 13349168.0000\n",
      "Epoch 15/20\n",
      "4538/4538 [==============================] - 4s 839us/step - loss: 191751230849024.0000 - root_mean_squared_error: 13847427.0000 - val_loss: 177957825937408.0000 - val_root_mean_squared_error: 13340083.0000\n",
      "Epoch 16/20\n",
      "4538/4538 [==============================] - 4s 835us/step - loss: 191295762989056.0000 - root_mean_squared_error: 13830971.0000 - val_loss: 177003168792576.0000 - val_root_mean_squared_error: 13304254.0000\n",
      "Epoch 17/20\n",
      "4538/4538 [==============================] - 4s 831us/step - loss: 190237858856960.0000 - root_mean_squared_error: 13792674.0000 - val_loss: 176560720052224.0000 - val_root_mean_squared_error: 13287615.0000\n",
      "Epoch 18/20\n",
      "4538/4538 [==============================] - 4s 883us/step - loss: 190771055558656.0000 - root_mean_squared_error: 13811990.0000 - val_loss: 176573302964224.0000 - val_root_mean_squared_error: 13288089.0000\n",
      "Epoch 19/20\n",
      "4538/4538 [==============================] - 4s 843us/step - loss: 190606286520320.0000 - root_mean_squared_error: 13806024.0000 - val_loss: 177221373263872.0000 - val_root_mean_squared_error: 13312452.0000\n",
      "Epoch 20/20\n",
      "4538/4538 [==============================] - 4s 839us/step - loss: 189859381641216.0000 - root_mean_squared_error: 13778947.0000 - val_loss: 175234145583104.0000 - val_root_mean_squared_error: 13237603.0000\n",
      "2431/2431 [==============================] - 1s 371us/step\n"
     ]
    }
   ],
   "source": [
    "\n",
    "# Train the model\n",
    "model.fit(X_train_poly, y_train, epochs=20, batch_size=32, validation_split=0.2, verbose=1)\n",
    "\n",
    "# Make predictions on the test set\n",
    "predictions = model.predict(X_test_poly).flatten()\n",
    "# print(f\"RMSE on Training Set: {rmse_train}\")\n"
   ]
  },
  {
   "cell_type": "code",
   "execution_count": 24,
   "metadata": {},
   "outputs": [
    {
     "name": "stdout",
     "output_type": "stream",
     "text": [
      "5673/5673 [==============================] - 2s 388us/step\n",
      "RMSE on Training Set: 26349211.29976074\n"
     ]
    }
   ],
   "source": [
    "\n",
    "# Print RMSE on Training Set\n",
    "print(f\"RMSE on Training Set: {sqrt(mean_squared_error(y_train, model.predict(X_train_poly).flatten()))}\")\n",
    "\n"
   ]
  },
  {
   "cell_type": "code",
   "execution_count": 7,
   "metadata": {},
   "outputs": [],
   "source": [
    "# Create a DataFrame with predictions and 'row_ids'\n",
    "result_df = pd.DataFrame({'row ID': row_ids, 'price_doc': predictions})\n",
    "\n",
    "# Save the DataFrame to a CSV file\n",
    "result_df.to_csv('predictions_43.csv', index=False)\n"
   ]
  }
 ],
 "metadata": {
  "kernelspec": {
   "display_name": "tfenv2",
   "language": "python",
   "name": "python3"
  },
  "language_info": {
   "codemirror_mode": {
    "name": "ipython",
    "version": 3
   },
   "file_extension": ".py",
   "mimetype": "text/x-python",
   "name": "python",
   "nbconvert_exporter": "python",
   "pygments_lexer": "ipython3",
   "version": "3.10.13"
  }
 },
 "nbformat": 4,
 "nbformat_minor": 2
}
