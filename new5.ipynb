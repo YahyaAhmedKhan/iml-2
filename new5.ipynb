{
 "cells": [
  {
   "cell_type": "code",
   "execution_count": 57,
   "metadata": {},
   "outputs": [],
   "source": [
    "import os\n",
    "import torch\n",
    "os.environ[\"KERAS_BACKEND\"] = \"torch\"\n",
    "from keras.models import Sequential\n",
    "from keras.layers import Dense, Dropout"
   ]
  },
  {
   "cell_type": "code",
   "execution_count": 58,
   "metadata": {},
   "outputs": [],
   "source": [
    "import pandas as pd\n",
    "import numpy as np\n",
    "from sklearn.preprocessing import LabelEncoder, StandardScaler\n",
    "from sklearn.model_selection import train_test_split\n",
    "from sklearn.linear_model import LinearRegression\n",
    "from sklearn.metrics import mean_squared_error\n",
    "from sklearn.model_selection import train_test_split\n",
    "from sklearn.preprocessing import PolynomialFeatures, StandardScaler, MinMaxScaler, RobustScaler\n",
    "from sklearn.linear_model import Lasso, Ridge\n",
    "from sklearn.neural_network import MLPRegressor\n",
    "\n",
    "from sklearn.linear_model import LinearRegression\n",
    "from sklearn.decomposition import PCA\n",
    "from sklearn.feature_selection import RFE, VarianceThreshold\n",
    "from sklearn.feature_selection import SequentialFeatureSelector\n",
    "from sklearn.tree import DecisionTreeRegressor\n",
    "from sklearn.linear_model import Lasso, Ridge\n",
    "from sklearn.feature_selection import SelectKBest\n",
    "from sklearn.feature_selection import f_regression\n",
    "\n",
    "\n"
   ]
  },
  {
   "cell_type": "code",
   "execution_count": 59,
   "metadata": {},
   "outputs": [
    {
     "ename": "ParserError",
     "evalue": "Error tokenizing data. C error: Calling read(nbytes) on source failed. Try engine='python'.",
     "output_type": "error",
     "traceback": [
      "\u001b[0;31m---------------------------------------------------------------------------\u001b[0m",
      "\u001b[0;31mParserError\u001b[0m                               Traceback (most recent call last)",
      "\u001b[1;32m/Users/yahyaahmedkhan/Downloads/iml-second-competition-regression-analysis/new5.ipynb Cell 3\u001b[0m line \u001b[0;36m2\n\u001b[1;32m      <a href='vscode-notebook-cell:/Users/yahyaahmedkhan/Downloads/iml-second-competition-regression-analysis/new5.ipynb#W2sZmlsZQ%3D%3D?line=0'>1</a>\u001b[0m \u001b[39m# Load the training and test data\u001b[39;00m\n\u001b[0;32m----> <a href='vscode-notebook-cell:/Users/yahyaahmedkhan/Downloads/iml-second-competition-regression-analysis/new5.ipynb#W2sZmlsZQ%3D%3D?line=1'>2</a>\u001b[0m df_train_orig \u001b[39m=\u001b[39m pd\u001b[39m.\u001b[39;49mread_csv(\u001b[39m'\u001b[39;49m\u001b[39mtrain.csv\u001b[39;49m\u001b[39m'\u001b[39;49m)\n\u001b[1;32m      <a href='vscode-notebook-cell:/Users/yahyaahmedkhan/Downloads/iml-second-competition-regression-analysis/new5.ipynb#W2sZmlsZQ%3D%3D?line=2'>3</a>\u001b[0m df_test_orig \u001b[39m=\u001b[39m pd\u001b[39m.\u001b[39mread_csv(\u001b[39m'\u001b[39m\u001b[39mtest.csv\u001b[39m\u001b[39m'\u001b[39m)\n",
      "File \u001b[0;32m~/miniconda3/envs/tfenv2/lib/python3.10/site-packages/pandas/io/parsers/readers.py:948\u001b[0m, in \u001b[0;36mread_csv\u001b[0;34m(filepath_or_buffer, sep, delimiter, header, names, index_col, usecols, dtype, engine, converters, true_values, false_values, skipinitialspace, skiprows, skipfooter, nrows, na_values, keep_default_na, na_filter, verbose, skip_blank_lines, parse_dates, infer_datetime_format, keep_date_col, date_parser, date_format, dayfirst, cache_dates, iterator, chunksize, compression, thousands, decimal, lineterminator, quotechar, quoting, doublequote, escapechar, comment, encoding, encoding_errors, dialect, on_bad_lines, delim_whitespace, low_memory, memory_map, float_precision, storage_options, dtype_backend)\u001b[0m\n\u001b[1;32m    935\u001b[0m kwds_defaults \u001b[39m=\u001b[39m _refine_defaults_read(\n\u001b[1;32m    936\u001b[0m     dialect,\n\u001b[1;32m    937\u001b[0m     delimiter,\n\u001b[0;32m   (...)\u001b[0m\n\u001b[1;32m    944\u001b[0m     dtype_backend\u001b[39m=\u001b[39mdtype_backend,\n\u001b[1;32m    945\u001b[0m )\n\u001b[1;32m    946\u001b[0m kwds\u001b[39m.\u001b[39mupdate(kwds_defaults)\n\u001b[0;32m--> 948\u001b[0m \u001b[39mreturn\u001b[39;00m _read(filepath_or_buffer, kwds)\n",
      "File \u001b[0;32m~/miniconda3/envs/tfenv2/lib/python3.10/site-packages/pandas/io/parsers/readers.py:617\u001b[0m, in \u001b[0;36m_read\u001b[0;34m(filepath_or_buffer, kwds)\u001b[0m\n\u001b[1;32m    614\u001b[0m     \u001b[39mreturn\u001b[39;00m parser\n\u001b[1;32m    616\u001b[0m \u001b[39mwith\u001b[39;00m parser:\n\u001b[0;32m--> 617\u001b[0m     \u001b[39mreturn\u001b[39;00m parser\u001b[39m.\u001b[39;49mread(nrows)\n",
      "File \u001b[0;32m~/miniconda3/envs/tfenv2/lib/python3.10/site-packages/pandas/io/parsers/readers.py:1748\u001b[0m, in \u001b[0;36mTextFileReader.read\u001b[0;34m(self, nrows)\u001b[0m\n\u001b[1;32m   1741\u001b[0m nrows \u001b[39m=\u001b[39m validate_integer(\u001b[39m\"\u001b[39m\u001b[39mnrows\u001b[39m\u001b[39m\"\u001b[39m, nrows)\n\u001b[1;32m   1742\u001b[0m \u001b[39mtry\u001b[39;00m:\n\u001b[1;32m   1743\u001b[0m     \u001b[39m# error: \"ParserBase\" has no attribute \"read\"\u001b[39;00m\n\u001b[1;32m   1744\u001b[0m     (\n\u001b[1;32m   1745\u001b[0m         index,\n\u001b[1;32m   1746\u001b[0m         columns,\n\u001b[1;32m   1747\u001b[0m         col_dict,\n\u001b[0;32m-> 1748\u001b[0m     ) \u001b[39m=\u001b[39m \u001b[39mself\u001b[39;49m\u001b[39m.\u001b[39;49m_engine\u001b[39m.\u001b[39;49mread(  \u001b[39m# type: ignore[attr-defined]\u001b[39;49;00m\n\u001b[1;32m   1749\u001b[0m         nrows\n\u001b[1;32m   1750\u001b[0m     )\n\u001b[1;32m   1751\u001b[0m \u001b[39mexcept\u001b[39;00m \u001b[39mException\u001b[39;00m:\n\u001b[1;32m   1752\u001b[0m     \u001b[39mself\u001b[39m\u001b[39m.\u001b[39mclose()\n",
      "File \u001b[0;32m~/miniconda3/envs/tfenv2/lib/python3.10/site-packages/pandas/io/parsers/c_parser_wrapper.py:234\u001b[0m, in \u001b[0;36mCParserWrapper.read\u001b[0;34m(self, nrows)\u001b[0m\n\u001b[1;32m    232\u001b[0m \u001b[39mtry\u001b[39;00m:\n\u001b[1;32m    233\u001b[0m     \u001b[39mif\u001b[39;00m \u001b[39mself\u001b[39m\u001b[39m.\u001b[39mlow_memory:\n\u001b[0;32m--> 234\u001b[0m         chunks \u001b[39m=\u001b[39m \u001b[39mself\u001b[39;49m\u001b[39m.\u001b[39;49m_reader\u001b[39m.\u001b[39;49mread_low_memory(nrows)\n\u001b[1;32m    235\u001b[0m         \u001b[39m# destructive to chunks\u001b[39;00m\n\u001b[1;32m    236\u001b[0m         data \u001b[39m=\u001b[39m _concatenate_chunks(chunks)\n",
      "File \u001b[0;32mparsers.pyx:843\u001b[0m, in \u001b[0;36mpandas._libs.parsers.TextReader.read_low_memory\u001b[0;34m()\u001b[0m\n",
      "File \u001b[0;32mparsers.pyx:904\u001b[0m, in \u001b[0;36mpandas._libs.parsers.TextReader._read_rows\u001b[0;34m()\u001b[0m\n",
      "File \u001b[0;32mparsers.pyx:879\u001b[0m, in \u001b[0;36mpandas._libs.parsers.TextReader._tokenize_rows\u001b[0;34m()\u001b[0m\n",
      "File \u001b[0;32mparsers.pyx:890\u001b[0m, in \u001b[0;36mpandas._libs.parsers.TextReader._check_tokenize_status\u001b[0;34m()\u001b[0m\n",
      "File \u001b[0;32mparsers.pyx:2058\u001b[0m, in \u001b[0;36mpandas._libs.parsers.raise_parser_error\u001b[0;34m()\u001b[0m\n",
      "\u001b[0;31mParserError\u001b[0m: Error tokenizing data. C error: Calling read(nbytes) on source failed. Try engine='python'."
     ]
    }
   ],
   "source": [
    "\n",
    "# Load the training and test data\n",
    "df_train_orig = pd.read_csv('train.csv')\n",
    "df_test_orig = pd.read_csv('test.csv')\n"
   ]
  },
  {
   "cell_type": "code",
   "execution_count": null,
   "metadata": {},
   "outputs": [],
   "source": [
    "\n",
    "# Make a copy of the original data\n",
    "df_train = df_train_orig.copy()\n",
    "df_test = df_test_orig.copy()\n",
    "target_col = 'price_doc'\n",
    "row_id_col = 'row ID'\n",
    "\n",
    "row_ids = df_test['row ID']\n",
    "df_test.drop(['row ID'], axis=1, inplace=True)\n",
    "\n",
    "numeric_col = df_test.select_dtypes(include=[\"number\"]).columns.tolist()\n",
    "categorical_cols = df_test.select_dtypes(exclude=[\"number\"]).columns.tolist()\n",
    "\n",
    "# Label encode the \"sub_area\" column\n",
    "label_encoder = LabelEncoder()\n",
    "df_train['sub_area'] = label_encoder.fit_transform(df_train['sub_area'])\n",
    "df_test['sub_area'] = label_encoder.transform(df_test['sub_area'])\n",
    "\n",
    "# Create dummy variables for categorical features\n",
    "X_train = pd.get_dummies(df_train.drop(columns=[target_col]), drop_first=True)\n",
    "y = df_train[target_col]\n",
    "\n",
    "X_test = pd.get_dummies(df_test, drop_first=True)\n",
    "\n",
    "\n",
    "print('X_train shape:', X_train.shape)\n",
    "print('X_test shape:', X_test.shape)"
   ]
  },
  {
   "cell_type": "code",
   "execution_count": null,
   "metadata": {},
   "outputs": [],
   "source": [
    "scaler = StandardScaler()\n",
    "X_train[numeric_col] = scaler.fit_transform(X_train[numeric_col])\n",
    "X_test[numeric_col] = scaler.transform(X_test[numeric_col])\n",
    "\n",
    "print('X_train_scaled shape:', X_train.shape)\n",
    "print('X_test_scaled shape:', X_test.shape)\n",
    "\n",
    "all_columns = X_train.columns.tolist()\n",
    "\n",
    "# Get the non-numeric columns by subtracting numeric_col from all_columns\n",
    "non_numeric_columns = [col for col in all_columns if col not in numeric_col]\n",
    "\n",
    "\n",
    "X_train = X_train.astype('float32')\n",
    "X_test = X_test.astype('float32')\n",
    "\n",
    "X_train.dtypes\n"
   ]
  },
  {
   "cell_type": "code",
   "execution_count": null,
   "metadata": {},
   "outputs": [],
   "source": [
    "\n",
    "# Step 2: Use a Decision Tree Regressor to get the 100 most important features\n",
    "tree_regressor = DecisionTreeRegressor(max_depth=8, random_state=42)\n",
    "tree_regressor.fit(X_train, y)\n",
    "importances = tree_regressor.feature_importances_\n",
    "\n",
    "\n",
    "# Get indices of the top 100 features\n",
    "top_100_feature_indices = np.argsort(importances)[-150:]\n",
    "\n",
    "# Select the top 100 features\n",
    "X_train = X_train.iloc[:, top_100_feature_indices]\n",
    "X_test = X_test.iloc[:, top_100_feature_indices]\n"
   ]
  },
  {
   "cell_type": "code",
   "execution_count": null,
   "metadata": {},
   "outputs": [],
   "source": [
    "selector = SelectKBest(score_func=f_regression, k=100)\n",
    "\n",
    "X_train = selector.fit_transform(X_train,y)\n",
    "\n",
    "\n",
    "X_test = selector.transform(X_test)\n",
    "\n",
    "print(X_train.shape)\n",
    "print(X_test.shape)"
   ]
  },
  {
   "cell_type": "code",
   "execution_count": null,
   "metadata": {},
   "outputs": [],
   "source": [
    "scaler = MinMaxScaler()\n",
    "X_train = scaler.fit_transform(X_train)\n",
    "X_test = scaler.transform(X_test) \n",
    "print('X_train_scaled shape:', X_train.shape)\n",
    "print('X_test_scaled shape:', X_test.shape)"
   ]
  },
  {
   "cell_type": "code",
   "execution_count": null,
   "metadata": {},
   "outputs": [],
   "source": [
    "pca = PCA(n_components=100)\n",
    "X_train = pca.fit_transform(X_train)\n",
    "X_test = pca.transform(X_test)\n",
    "\n",
    "print('X_train_pca shape:', X_train.shape)\n",
    "print('X_test_pca shape:', X_test.shape)\n"
   ]
  },
  {
   "cell_type": "code",
   "execution_count": null,
   "metadata": {},
   "outputs": [],
   "source": [
    "threshold = 1\n",
    "\n",
    "selector = VarianceThreshold(threshold=threshold)\n",
    "\n",
    "X_train = selector.fit_transform(X_train)\n",
    "X_test = selector.transform(X_test)\n",
    "\n",
    "\n",
    "print(X_train.shape)\n",
    "print(X_test.shape)"
   ]
  },
  {
   "cell_type": "code",
   "execution_count": null,
   "metadata": {},
   "outputs": [],
   "source": [
    "# Step 3: Use Forward Selection to get the first 10 best features\n",
    "selector = SequentialFeatureSelector(estimator=LinearRegression(), n_features_to_select=10)\n",
    "selector.fit(X_train, y)\n",
    "\n",
    "# Get the selected feature indices\n",
    "selected_feature_indices = selector.get_support()\n"
   ]
  },
  {
   "cell_type": "code",
   "execution_count": null,
   "metadata": {},
   "outputs": [],
   "source": []
  },
  {
   "cell_type": "code",
   "execution_count": null,
   "metadata": {},
   "outputs": [],
   "source": [
    "\n",
    "# # Select the first 10 best features\n",
    "# X_train = X_train.iloc[:, selected_feature_indices]\n",
    "# X_test = X_test.iloc[:, selected_feature_indices]\n",
    "# Select the first 10 best features\n",
    "X_train = X_train[:, selected_feature_indices]\n",
    "X_test = X_test[:, selected_feature_indices]\n",
    "\n",
    "print('X_train_top10 shape:', X_train.shape)\n",
    "print('X_test_top10 shape:', X_test.shape)\n",
    "\n"
   ]
  },
  {
   "cell_type": "code",
   "execution_count": null,
   "metadata": {},
   "outputs": [],
   "source": [
    "\n",
    "# Step 4: Use Polynomial Features with interaction on the selected features\n",
    "poly = PolynomialFeatures(degree=3, interaction_only=True)\n",
    "X_train = poly.fit_transform(X_train)\n",
    "X_test = poly.transform(X_test)\n",
    "\n",
    "print('X_train_poly shape:', X_train.shape)\n",
    "print('X_test_poly shape:', X_test.shape)\n"
   ]
  },
  {
   "cell_type": "code",
   "execution_count": null,
   "metadata": {},
   "outputs": [],
   "source": [
    "print(X_train.shape)"
   ]
  },
  {
   "cell_type": "code",
   "execution_count": null,
   "metadata": {},
   "outputs": [],
   "source": [
    "from tensorflow.keras import regularizers\n",
    "from tensorflow.keras.optimizers import RMSprop\n",
    "\n",
    "X_train = X_train.astype('float32')\n",
    "X_test = X_test.astype('float32')\n",
    "\n",
    "# Define your model with L2 regularization\n",
    "model = Sequential([\n",
    "    Input(shape=(X_train.shape[1],)),\n",
    "    Dense(128, activation='relu', kernel_regularizer=regularizers.l2(0.01)),\n",
    "    Dense(64, activation='relu', kernel_regularizer=regularizers.l2(0.01)),\n",
    "    Dense(1)\n",
    "])\n",
    "\n",
    "early_stopping = EarlyStopping(monitor='val_loss', patience=10, restore_best_weights=True)\n",
    "\n",
    "# Compile the model with RMSprop optimizer\n",
    "optimizer = RMSprop(learning_rate=0.001)  # You can adjust the learning rate\n",
    "model.compile(optimizer=optimizer,\n",
    "              loss='mean_squared_error',\n",
    "              metrics=[keras.metrics.RootMeanSquaredError(), 'mae'])\n",
    "\n",
    "# Fit the model\n",
    "model.fit(X_train, y, epochs=15, batch_size=32, verbose=1, validation_split=0.2, callbacks=[early_stopping])\n"
   ]
  },
  {
   "cell_type": "code",
   "execution_count": null,
   "metadata": {},
   "outputs": [],
   "source": [
    "\n",
    "model = Sequential([\n",
    "    keras.layers.Input(shape=(X_train.shape[1],)),\n",
    "    \n",
    "    keras.layers.Dense(128, activation='relu'),\n",
    "    keras.layers.Dense(64, activation='relu'),\n",
    "    keras.layers.Dense(32, activation='relu'),\n",
    "    \n",
    "    keras.layers.Dense(1)\n",
    "])\n",
    "\n",
    "# Define EarlyStopping callback\n",
    "early_stopping = EarlyStopping(monitor='val_loss', patience=10, restore_best_weights=True)\n",
    "\n",
    "model.compile(optimizer=custom_optimizer,\n",
    "              loss='mean_squared_error',\n",
    "              metrics=[tf.keras.metrics.RootMeanSquaredError(), 'mae'])\n",
    "\n",
    "model.fit(X_train, y, epochs=15, batch_size=32, verbose=1, validation_split=0.2, callbacks=[early_stopping])"
   ]
  },
  {
   "cell_type": "code",
   "execution_count": null,
   "metadata": {},
   "outputs": [],
   "source": [
    "from keras.models import Sequential\n",
    "from keras.layers import Dense, Dropout\n",
    "from keras import regularizers\n",
    "from keras.callbacks import EarlyStopping, ModelCheckpoint, LearningRateScheduler\n",
    "from sklearn.metrics import mean_squared_error\n",
    "from keras.optimizers import Adam, legacy\n",
    "import math\n",
    "\n",
    "\n",
    "# define the keras model\n",
    "model = Sequential()\n",
    "model.add(Dense(128, input_dim=X_train.shape[1], activation='relu'))\n",
    "#model.add(Dropout(0.2))  # Apply dropout with a rate of 0.2\n",
    "model.add(Dense(64, activation='relu'))#sigmoid\n",
    "# model.add(Dense(64, activation='relu'))#sigmoid\n",
    "model.add(Dense(32, activation='relu'))\n",
    "model.add(Dense(1, activation='linear'))\n",
    "\n",
    "# Add regularizers to the dense layers\n",
    "model.layers[1].kernel_regularizer = regularizers.l1(0.001)  # Apply L2 regularization with a factor of 0.01\n",
    "model.layers[2].kernel_regularizer = regularizers.l1(0.001)  # Apply L2 regularization with a factor of 0.01\n",
    "#model.layers[3].kernel_regularizer = regularizers.l1(0.001)  # Apply L2 regularization with a factor of 0.01\n",
    "\n",
    "opt = legacy.Adam(learning_rate=0.00021)  \n",
    "\n",
    "# compile the keras model\n",
    "model.compile(optimizer=opt, loss='mean_squared_error', metrics=['RootMeanSquaredError'])\n",
    "#apply early stoppping\n",
    "early_stopping_monitor = EarlyStopping(patience=5)\n",
    "#apply model checkpoint\n",
    "\n",
    "#fit the keras model on the dataset\n",
    "model.fit(X_train, y, epochs=50, batch_size=63, validation_split=0.2, callbacks=[early_stopping_monitor])"
   ]
  },
  {
   "cell_type": "code",
   "execution_count": null,
   "metadata": {},
   "outputs": [],
   "source": []
  },
  {
   "cell_type": "code",
   "execution_count": null,
   "metadata": {},
   "outputs": [],
   "source": [
    "scaler = StandardScaler()\n",
    "X_train = scaler.fit_transform(X_train)\n",
    "X_test = scaler.transform(X_test)\n"
   ]
  },
  {
   "cell_type": "code",
   "execution_count": null,
   "metadata": {},
   "outputs": [],
   "source": [
    "X_train = X_train.astype('float32')\n",
    "X_test = X_test.astype('float32')"
   ]
  },
  {
   "cell_type": "code",
   "execution_count": null,
   "metadata": {},
   "outputs": [],
   "source": [
    "test_predictions = model.predict(X_test).flatten()\n",
    "\n",
    "# Create a DataFrame with 'row ID' and predictions\n",
    "result_df = pd.DataFrame({'row ID': row_ids, 'price_doc': test_predictions})\n",
    "\n",
    "result_df.to_csv('predictions_55.csv', index=False)\n",
    "\n",
    "\n"
   ]
  },
  {
   "cell_type": "markdown",
   "metadata": {},
   "source": [
    "# Shahood\n",
    "\n",
    "\n"
   ]
  },
  {
   "cell_type": "code",
   "execution_count": null,
   "metadata": {},
   "outputs": [
    {
     "name": "stdout",
     "output_type": "stream",
     "text": [
      "X_train shape: (181507, 271)\n",
      "X_test shape: (77789, 271)\n"
     ]
    }
   ],
   "source": [
    "\n",
    "# Make a copy of the original data\n",
    "df_train = df_train_orig.copy()\n",
    "df_test = df_test_orig.copy()\n",
    "target_col = 'price_doc'\n",
    "row_id_col = 'row ID'\n",
    "\n",
    "row_ids = df_test['row ID']\n",
    "df_test.drop(['row ID'], axis=1, inplace=True)\n",
    "\n",
    "\n",
    "X_train = df_train.drop(columns=[target_col])\n",
    "y = df_train[target_col]\n",
    "\n",
    "X_test = df_test\n",
    "\n",
    "\n",
    "print('X_train shape:', X_train.shape)\n",
    "print('X_test shape:', X_test.shape)"
   ]
  },
  {
   "cell_type": "code",
   "execution_count": null,
   "metadata": {},
   "outputs": [
    {
     "name": "stdout",
     "output_type": "stream",
     "text": [
      "271\n"
     ]
    }
   ],
   "source": [
    "# Identify categorical columns\n",
    "categorical_cols = X_train.select_dtypes(include=['object', 'category']).columns\n",
    "\n",
    "#'''\n",
    "# Apply label encoding to each categorical column\n",
    "for col in categorical_cols:\n",
    "    le = LabelEncoder()\n",
    "    # Fill missing values with a placeholder string\n",
    "    #X_train[col] = X_train[col].fillna('Missing')\n",
    "    X_train[col] = le.fit_transform(X_train[col])\n",
    "    #X_test[col] = X_test[col].fillna('Missing')\n",
    "    X_test[col] = le.transform(X_test[col])\n",
    "    \n",
    "    \n",
    "#apply minmax scaler\n",
    "scaler = StandardScaler()\n",
    "X_train = scaler.fit_transform(X_train)\n",
    "X_test = scaler.transform(X_test)\n",
    "\n",
    "print(X_train.shape[1])"
   ]
  },
  {
   "cell_type": "code",
   "execution_count": null,
   "metadata": {},
   "outputs": [
    {
     "name": "stdout",
     "output_type": "stream",
     "text": [
      "240\n"
     ]
    }
   ],
   "source": [
    "\n",
    "# Perform PCA to reduce dimensionality to 240 components\n",
    "n_components = 240\n",
    "pca = PCA(n_components=n_components)\n",
    "X_train = pca.fit_transform(X_train)\n",
    "X_test = pca.transform(X_test)\n",
    "\n",
    "# Now X_train_pca and X_test_pca contain the top 240 principal components\n",
    "print(X_train.shape[1])"
   ]
  },
  {
   "cell_type": "code",
   "execution_count": null,
   "metadata": {},
   "outputs": [],
   "source": [
    "X_train, X_val, y_train, y_val = train_test_split(X_train, y, test_size=0.2, random_state=43)"
   ]
  },
  {
   "cell_type": "code",
   "execution_count": null,
   "metadata": {},
   "outputs": [
    {
     "data": {
      "text/plain": [
       "271"
      ]
     },
     "execution_count": 54,
     "metadata": {},
     "output_type": "execute_result"
    }
   ],
   "source": [
    "X_train.shape[1]"
   ]
  },
  {
   "cell_type": "code",
   "execution_count": 62,
   "metadata": {},
   "outputs": [
    {
     "name": "stdout",
     "output_type": "stream",
     "text": [
      "Epoch 1/50\n",
      "1513/1513 [==============================] - 2s 1ms/step - loss: 425143914463232.0000 - root_mean_squared_error: 20619020.0000 - val_loss: 182914889285632.0000 - val_root_mean_squared_error: 13524603.0000\n",
      "Epoch 2/50\n",
      "1513/1513 [==============================] - 1s 907us/step - loss: 186063150645248.0000 - root_mean_squared_error: 13640497.0000 - val_loss: 177905363582976.0000 - val_root_mean_squared_error: 13338117.0000\n",
      "Epoch 3/50\n",
      "1513/1513 [==============================] - 1s 888us/step - loss: 182619811610624.0000 - root_mean_squared_error: 13513690.0000 - val_loss: 175783582629888.0000 - val_root_mean_squared_error: 13258340.0000\n",
      "Epoch 4/50\n",
      "1513/1513 [==============================] - 1s 913us/step - loss: 180844194955264.0000 - root_mean_squared_error: 13447832.0000 - val_loss: 174482626969600.0000 - val_root_mean_squared_error: 13209187.0000\n",
      "Epoch 5/50\n",
      "1513/1513 [==============================] - 1s 949us/step - loss: 179634809339904.0000 - root_mean_squared_error: 13402791.0000 - val_loss: 173619539869696.0000 - val_root_mean_squared_error: 13176477.0000\n",
      "Epoch 6/50\n",
      "1513/1513 [==============================] - 1s 874us/step - loss: 178857856466944.0000 - root_mean_squared_error: 13373775.0000 - val_loss: 173038712651776.0000 - val_root_mean_squared_error: 13154418.0000\n",
      "Epoch 7/50\n",
      "1513/1513 [==============================] - 1s 912us/step - loss: 178261778759680.0000 - root_mean_squared_error: 13351471.0000 - val_loss: 172559471476736.0000 - val_root_mean_squared_error: 13136189.0000\n",
      "Epoch 8/50\n",
      "1513/1513 [==============================] - 1s 917us/step - loss: 177787889516544.0000 - root_mean_squared_error: 13333713.0000 - val_loss: 172353967357952.0000 - val_root_mean_squared_error: 13128365.0000\n",
      "Epoch 9/50\n",
      "1513/1513 [==============================] - 1s 879us/step - loss: 177356798951424.0000 - root_mean_squared_error: 13317537.0000 - val_loss: 171927473750016.0000 - val_root_mean_squared_error: 13112112.0000\n",
      "Epoch 10/50\n",
      "1513/1513 [==============================] - 1s 888us/step - loss: 176993521893376.0000 - root_mean_squared_error: 13303891.0000 - val_loss: 171697961435136.0000 - val_root_mean_squared_error: 13103357.0000\n",
      "Epoch 11/50\n",
      "1513/1513 [==============================] - 1s 921us/step - loss: 176676449288192.0000 - root_mean_squared_error: 13291969.0000 - val_loss: 171676083945472.0000 - val_root_mean_squared_error: 13102521.0000\n",
      "Epoch 12/50\n",
      "1513/1513 [==============================] - 1s 951us/step - loss: 176454302171136.0000 - root_mean_squared_error: 13283610.0000 - val_loss: 171411289145344.0000 - val_root_mean_squared_error: 13092413.0000\n",
      "Epoch 13/50\n",
      "1513/1513 [==============================] - 1s 946us/step - loss: 176193835892736.0000 - root_mean_squared_error: 13273803.0000 - val_loss: 171553694154752.0000 - val_root_mean_squared_error: 13097851.0000\n",
      "Epoch 14/50\n",
      "1513/1513 [==============================] - 1s 930us/step - loss: 176000092602368.0000 - root_mean_squared_error: 13266503.0000 - val_loss: 171201691385856.0000 - val_root_mean_squared_error: 13084406.0000\n",
      "Epoch 15/50\n",
      "1513/1513 [==============================] - 1s 875us/step - loss: 175783146422272.0000 - root_mean_squared_error: 13258324.0000 - val_loss: 171045998821376.0000 - val_root_mean_squared_error: 13078456.0000\n",
      "Epoch 16/50\n",
      "1513/1513 [==============================] - 1s 884us/step - loss: 175618293497856.0000 - root_mean_squared_error: 13252105.0000 - val_loss: 171123190792192.0000 - val_root_mean_squared_error: 13081406.0000\n",
      "Epoch 17/50\n",
      "1513/1513 [==============================] - 1s 901us/step - loss: 175478103080960.0000 - root_mean_squared_error: 13246815.0000 - val_loss: 170827442028544.0000 - val_root_mean_squared_error: 13070097.0000\n",
      "Epoch 18/50\n",
      "1513/1513 [==============================] - 1s 893us/step - loss: 175334439780352.0000 - root_mean_squared_error: 13241391.0000 - val_loss: 170858312105984.0000 - val_root_mean_squared_error: 13071278.0000\n",
      "Epoch 19/50\n",
      "1513/1513 [==============================] - 1s 895us/step - loss: 175170761261056.0000 - root_mean_squared_error: 13235209.0000 - val_loss: 170918374539264.0000 - val_root_mean_squared_error: 13073575.0000\n",
      "Epoch 20/50\n",
      "1513/1513 [==============================] - 1s 886us/step - loss: 175043170533376.0000 - root_mean_squared_error: 13230388.0000 - val_loss: 170610294521856.0000 - val_root_mean_squared_error: 13061788.0000\n",
      "Epoch 21/50\n",
      "1513/1513 [==============================] - 1s 895us/step - loss: 174889407348736.0000 - root_mean_squared_error: 13224576.0000 - val_loss: 171022410055680.0000 - val_root_mean_squared_error: 13077554.0000\n",
      "Epoch 22/50\n",
      "1513/1513 [==============================] - 1s 922us/step - loss: 174785891926016.0000 - root_mean_squared_error: 13220662.0000 - val_loss: 170532968333312.0000 - val_root_mean_squared_error: 13058827.0000\n",
      "Epoch 23/50\n",
      "1513/1513 [==============================] - 1s 889us/step - loss: 174667327340544.0000 - root_mean_squared_error: 13216177.0000 - val_loss: 170600395964416.0000 - val_root_mean_squared_error: 13061409.0000\n",
      "Epoch 24/50\n",
      "1513/1513 [==============================] - 1s 907us/step - loss: 174578374541312.0000 - root_mean_squared_error: 13212811.0000 - val_loss: 170446733443072.0000 - val_root_mean_squared_error: 13055525.0000\n",
      "Epoch 25/50\n",
      "1513/1513 [==============================] - 1s 884us/step - loss: 174473818931200.0000 - root_mean_squared_error: 13208854.0000 - val_loss: 170371235971072.0000 - val_root_mean_squared_error: 13052633.0000\n",
      "Epoch 26/50\n",
      "1513/1513 [==============================] - 1s 912us/step - loss: 174363441627136.0000 - root_mean_squared_error: 13204675.0000 - val_loss: 170434335080448.0000 - val_root_mean_squared_error: 13055050.0000\n",
      "Epoch 27/50\n",
      "1513/1513 [==============================] - 1s 906us/step - loss: 174302389338112.0000 - root_mean_squared_error: 13202363.0000 - val_loss: 170319461482496.0000 - val_root_mean_squared_error: 13050650.0000\n",
      "Epoch 28/50\n",
      "1513/1513 [==============================] - 1s 893us/step - loss: 174208403374080.0000 - root_mean_squared_error: 13198803.0000 - val_loss: 170381990166528.0000 - val_root_mean_squared_error: 13053045.0000\n",
      "Epoch 29/50\n",
      "1513/1513 [==============================] - 1s 889us/step - loss: 174147921510400.0000 - root_mean_squared_error: 13196512.0000 - val_loss: 170443881316352.0000 - val_root_mean_squared_error: 13055416.0000\n",
      "Epoch 30/50\n",
      "1513/1513 [==============================] - 1s 914us/step - loss: 174040429887488.0000 - root_mean_squared_error: 13192438.0000 - val_loss: 170287333113856.0000 - val_root_mean_squared_error: 13049419.0000\n",
      "Epoch 31/50\n",
      "1513/1513 [==============================] - 1s 922us/step - loss: 173975904714752.0000 - root_mean_squared_error: 13189993.0000 - val_loss: 170445693255680.0000 - val_root_mean_squared_error: 13055485.0000\n",
      "Epoch 32/50\n",
      "1513/1513 [==============================] - 1s 937us/step - loss: 173913107595264.0000 - root_mean_squared_error: 13187612.0000 - val_loss: 170215526629376.0000 - val_root_mean_squared_error: 13046667.0000\n",
      "Epoch 33/50\n",
      "1513/1513 [==============================] - 1s 921us/step - loss: 173817360023552.0000 - root_mean_squared_error: 13183981.0000 - val_loss: 170526408441856.0000 - val_root_mean_squared_error: 13058576.0000\n",
      "Epoch 34/50\n",
      "1513/1513 [==============================] - 1s 902us/step - loss: 173764411129856.0000 - root_mean_squared_error: 13181973.0000 - val_loss: 170237051797504.0000 - val_root_mean_squared_error: 13047492.0000\n",
      "Epoch 35/50\n",
      "1513/1513 [==============================] - 1s 896us/step - loss: 173699332308992.0000 - root_mean_squared_error: 13179504.0000 - val_loss: 170320619110400.0000 - val_root_mean_squared_error: 13050694.0000\n",
      "Epoch 36/50\n",
      "1513/1513 [==============================] - 1s 932us/step - loss: 173667606593536.0000 - root_mean_squared_error: 13178301.0000 - val_loss: 170172493070336.0000 - val_root_mean_squared_error: 13045018.0000\n",
      "Epoch 37/50\n",
      "1513/1513 [==============================] - 1s 911us/step - loss: 173584123166720.0000 - root_mean_squared_error: 13175133.0000 - val_loss: 170157326467072.0000 - val_root_mean_squared_error: 13044437.0000\n",
      "Epoch 38/50\n",
      "1513/1513 [==============================] - 1s 919us/step - loss: 173556860190720.0000 - root_mean_squared_error: 13174098.0000 - val_loss: 170150699466752.0000 - val_root_mean_squared_error: 13044183.0000\n",
      "Epoch 39/50\n",
      "1513/1513 [==============================] - 1s 900us/step - loss: 173467823505408.0000 - root_mean_squared_error: 13170718.0000 - val_loss: 170141790765056.0000 - val_root_mean_squared_error: 13043841.0000\n",
      "Epoch 40/50\n",
      "1513/1513 [==============================] - 1s 935us/step - loss: 173442120810496.0000 - root_mean_squared_error: 13169743.0000 - val_loss: 170171637432320.0000 - val_root_mean_squared_error: 13044985.0000\n",
      "Epoch 41/50\n",
      "1513/1513 [==============================] - 1s 900us/step - loss: 173380531650560.0000 - root_mean_squared_error: 13167404.0000 - val_loss: 170138603094016.0000 - val_root_mean_squared_error: 13043719.0000\n",
      "Epoch 42/50\n",
      "1513/1513 [==============================] - 1s 889us/step - loss: 173316342022144.0000 - root_mean_squared_error: 13164966.0000 - val_loss: 170150699466752.0000 - val_root_mean_squared_error: 13044183.0000\n",
      "Epoch 43/50\n",
      "1513/1513 [==============================] - 1s 913us/step - loss: 173263661563904.0000 - root_mean_squared_error: 13162966.0000 - val_loss: 170355649937408.0000 - val_root_mean_squared_error: 13052036.0000\n",
      "Epoch 44/50\n",
      "1513/1513 [==============================] - 1s 933us/step - loss: 173253024808960.0000 - root_mean_squared_error: 13162561.0000 - val_loss: 170220274581504.0000 - val_root_mean_squared_error: 13046849.0000\n",
      "Epoch 45/50\n",
      "1513/1513 [==============================] - 1s 891us/step - loss: 173210897219584.0000 - root_mean_squared_error: 13160961.0000 - val_loss: 170256614031360.0000 - val_root_mean_squared_error: 13048242.0000\n",
      "Epoch 46/50\n",
      "1513/1513 [==============================] - 1s 907us/step - loss: 173160783675392.0000 - root_mean_squared_error: 13159057.0000 - val_loss: 170176184057856.0000 - val_root_mean_squared_error: 13045159.0000\n"
     ]
    },
    {
     "data": {
      "text/plain": [
       "<keras.src.callbacks.History at 0x2c673d990>"
      ]
     },
     "execution_count": 62,
     "metadata": {},
     "output_type": "execute_result"
    }
   ],
   "source": [
    "from keras.models import Sequential\n",
    "from keras.layers import Dense, Dropout\n",
    "from keras import regularizers\n",
    "from keras import optimizers\n",
    "from keras.callbacks import EarlyStopping, ModelCheckpoint\n",
    "from keras.models import load_model\n",
    "from sklearn.metrics import mean_squared_error\n",
    "from keras.optimizers import legacy\n",
    "\n",
    "# define the keras model\n",
    "model = Sequential()\n",
    "model.add(Dense(128, input_dim=X_train.shape[1], activation='relu'))\n",
    "#model.add(Dropout(0.2))  # Apply dropout with a rate of 0.2\n",
    "model.add(Dense(64, activation='relu'))#sigmoid\n",
    "#model.add(Dense(32, activation='relu'))\n",
    "model.add(Dense(1, activation='linear'))\n",
    "\n",
    "# Add regularizers to the dense layers\n",
    "model.layers[1].kernel_regularizer = regularizers.l1(0.001)  # Apply L2 regularization with a factor of 0.01\n",
    "model.layers[2].kernel_regularizer = regularizers.l1(0.001)  # Apply L2 regularization with a factor of 0.01\n",
    "#model.layers[3].kernel_regularizer = regularizers.l1(0.001)  # Apply L2 regularization with a factor of 0.01\n",
    "\n",
    "opt = legacy.Adam(learning_rate=0.002)  \n",
    "\n",
    "# compile the keras model\n",
    "model.compile(optimizer=opt, loss='mean_squared_error', metrics=['RootMeanSquaredError'])\n",
    "#apply early stoppping\n",
    "early_stopping_monitor = EarlyStopping(patience=5)\n",
    "#apply model checkpoint\n",
    "\n",
    "#fit the keras model on the dataset\n",
    "model.fit(X_train, y_train, epochs=50, batch_size=96, validation_data=(X_val, y_val), callbacks=[early_stopping_monitor])"
   ]
  },
  {
   "cell_type": "code",
   "execution_count": 63,
   "metadata": {},
   "outputs": [
    {
     "name": "stdout",
     "output_type": "stream",
     "text": [
      "1135/1135 [==============================] - 1s 432us/step\n",
      "Validation RMSE: 13045160.650230566\n"
     ]
    }
   ],
   "source": [
    "#calculate rmse\n",
    "y_val_pred = model.predict(X_val)\n",
    "val_rmse = np.sqrt(mean_squared_error(y_val, y_val_pred))\n",
    "print('Validation RMSE:', val_rmse)"
   ]
  },
  {
   "cell_type": "code",
   "execution_count": 64,
   "metadata": {},
   "outputs": [
    {
     "name": "stdout",
     "output_type": "stream",
     "text": [
      "2431/2431 [==============================] - 1s 470us/step\n"
     ]
    }
   ],
   "source": [
    "test_predictions = model.predict(X_test).flatten()\n",
    "\n",
    "# Create a DataFrame with 'row ID' and predictions\n",
    "result_df = pd.DataFrame({'row ID': row_ids, 'price_doc': test_predictions})\n",
    "\n",
    "result_df.to_csv('predictions_59.csv', index=False)\n",
    "\n",
    "\n"
   ]
  }
 ],
 "metadata": {
  "kernelspec": {
   "display_name": "imlenv",
   "language": "python",
   "name": "python3"
  },
  "language_info": {
   "codemirror_mode": {
    "name": "ipython",
    "version": 3
   },
   "file_extension": ".py",
   "mimetype": "text/x-python",
   "name": "python",
   "nbconvert_exporter": "python",
   "pygments_lexer": "ipython3",
   "version": "3.10.13"
  }
 },
 "nbformat": 4,
 "nbformat_minor": 2
}
