{
 "cells": [
  {
   "cell_type": "code",
   "execution_count": null,
   "metadata": {},
   "outputs": [],
   "source": [
    "import os\n",
    "import torch\n",
    "os.environ[\"KERAS_BACKEND\"] = \"torch\"\n",
    "from keras.models import Sequential\n",
    "from keras.layers import Dense, Dropout"
   ]
  },
  {
   "cell_type": "code",
   "execution_count": null,
   "metadata": {},
   "outputs": [],
   "source": [
    "import pandas as pd\n",
    "import numpy as np\n",
    "from sklearn.preprocessing import LabelEncoder, StandardScaler\n",
    "from sklearn.model_selection import train_test_split\n",
    "from sklearn.linear_model import LinearRegression\n",
    "from sklearn.metrics import mean_squared_error\n",
    "from sklearn.model_selection import train_test_split\n",
    "from sklearn.preprocessing import PolynomialFeatures, StandardScaler, MinMaxScaler, RobustScaler\n",
    "from sklearn.linear_model import Lasso, Ridge\n",
    "from sklearn.neural_network import MLPRegressor\n",
    "\n",
    "from sklearn.linear_model import LinearRegression\n",
    "from sklearn.decomposition import PCA\n",
    "from sklearn.feature_selection import RFE, VarianceThreshold\n",
    "from sklearn.feature_selection import SequentialFeatureSelector\n",
    "from sklearn.tree import DecisionTreeRegressor\n",
    "from sklearn.linear_model import Lasso, Ridge\n",
    "from sklearn.feature_selection import SelectKBest\n",
    "from sklearn.feature_selection import f_regression\n",
    "\n",
    "\n"
   ]
  },
  {
   "cell_type": "code",
   "execution_count": null,
   "metadata": {},
   "outputs": [],
   "source": [
    "\n",
    "# Load the training and test data\n",
    "df_train_orig = pd.read_csv('train.csv')\n",
    "df_test_orig = pd.read_csv('test.csv')\n"
   ]
  },
  {
   "cell_type": "code",
   "execution_count": 93,
   "metadata": {},
   "outputs": [
    {
     "name": "stdout",
     "output_type": "stream",
     "text": [
      "X_train shape: (181507, 274)\n",
      "X_test shape: (77789, 274)\n"
     ]
    }
   ],
   "source": [
    "\n",
    "# Make a copy of the original data\n",
    "df_train = df_train_orig.copy()\n",
    "df_test = df_test_orig.copy()\n",
    "target_col = 'price_doc'\n",
    "row_id_col = 'row ID'\n",
    "\n",
    "row_ids = df_test['row ID']\n",
    "df_test.drop(['row ID'], axis=1, inplace=True)\n",
    "\n",
    "numeric_col = df_test.select_dtypes(include=[\"number\"]).columns.tolist()\n",
    "categorical_cols = df_test.select_dtypes(exclude=[\"number\"]).columns.tolist()\n",
    "\n",
    "# Label encode the \"sub_area\" column\n",
    "label_encoder = LabelEncoder()\n",
    "df_train['sub_area'] = label_encoder.fit_transform(df_train['sub_area'])\n",
    "df_test['sub_area'] = label_encoder.transform(df_test['sub_area'])\n",
    "\n",
    "# Create dummy variables for categorical features\n",
    "X_train = pd.get_dummies(df_train.drop(columns=[target_col]), drop_first=True)\n",
    "y = df_train[target_col]\n",
    "\n",
    "X_test = pd.get_dummies(df_test, drop_first=True)\n",
    "\n",
    "\n",
    "print('X_train shape:', X_train.shape)\n",
    "print('X_test shape:', X_test.shape)"
   ]
  },
  {
   "cell_type": "code",
   "execution_count": 94,
   "metadata": {},
   "outputs": [
    {
     "name": "stdout",
     "output_type": "stream",
     "text": [
      "X_train_scaled shape: (181507, 274)\n",
      "X_test_scaled shape: (77789, 274)\n"
     ]
    },
    {
     "data": {
      "text/plain": [
       "full_sq                 float32\n",
       "life_sq                 float32\n",
       "floor                   float32\n",
       "sub_area                float32\n",
       "area_m                  float32\n",
       "                         ...   \n",
       "railroad_1line_yes      float32\n",
       "ecology_good            float32\n",
       "ecology_no data         float32\n",
       "ecology_poor            float32\n",
       "ecology_satisfactory    float32\n",
       "Length: 274, dtype: object"
      ]
     },
     "execution_count": 94,
     "metadata": {},
     "output_type": "execute_result"
    }
   ],
   "source": [
    "scaler = StandardScaler()\n",
    "X_train[numeric_col] = scaler.fit_transform(X_train[numeric_col])\n",
    "X_test[numeric_col] = scaler.transform(X_test[numeric_col])\n",
    "\n",
    "print('X_train_scaled shape:', X_train.shape)\n",
    "print('X_test_scaled shape:', X_test.shape)\n",
    "\n",
    "all_columns = X_train.columns.tolist()\n",
    "\n",
    "# Get the non-numeric columns by subtracting numeric_col from all_columns\n",
    "non_numeric_columns = [col for col in all_columns if col not in numeric_col]\n",
    "\n",
    "X_train = X_train.astype('float32')\n",
    "X_test = X_test.astype('float32')\n",
    "\n",
    "X_train.dtypes\n"
   ]
  },
  {
   "cell_type": "code",
   "execution_count": 95,
   "metadata": {},
   "outputs": [],
   "source": [
    "\n",
    "# Step 2: Use a Decision Tree Regressor to get the 100 most important features\n",
    "tree_regressor = DecisionTreeRegressor(max_depth=8, random_state=42)\n",
    "tree_regressor.fit(X_train, y)\n",
    "importances = tree_regressor.feature_importances_\n",
    "\n",
    "\n",
    "# Get indices of the top 100 features\n",
    "top_100_feature_indices = np.argsort(importances)[-150:]\n",
    "\n",
    "# Select the top 100 features\n",
    "X_train = X_train.iloc[:, top_100_feature_indices]\n",
    "X_test = X_test.iloc[:, top_100_feature_indices]\n"
   ]
  },
  {
   "cell_type": "code",
   "execution_count": null,
   "metadata": {},
   "outputs": [],
   "source": [
    "selector = SelectKBest(score_func=f_regression, k=200)\n",
    "\n",
    "X_train = selector.fit_transform(X_train,y)\n",
    "\n",
    "X_test = selector.transform(X_test)\n",
    "\n",
    "print(X_train.shape)\n",
    "print(X_test.shape)"
   ]
  },
  {
   "cell_type": "code",
   "execution_count": null,
   "metadata": {},
   "outputs": [],
   "source": [
    "scaler = MinMaxScaler()\n",
    "X_train = scaler.fit_transform(X_train)\n",
    "X_test = scaler.transform(X_test)\n",
    "print('X_train_scaled shape:', X_train.shape)\n",
    "print('X_test_scaled shape:', X_test.shape)"
   ]
  },
  {
   "cell_type": "code",
   "execution_count": 96,
   "metadata": {},
   "outputs": [
    {
     "name": "stdout",
     "output_type": "stream",
     "text": [
      "X_train_pca shape: (181507, 50)\n",
      "X_test_pca shape: (77789, 50)\n"
     ]
    }
   ],
   "source": [
    "pca = PCA(n_components=50)\n",
    "X_train = pca.fit_transform(X_train)\n",
    "X_test = pca.transform(X_test)\n",
    "\n",
    "print('X_train_pca shape:', X_train.shape)\n",
    "print('X_test_pca shape:', X_test.shape)\n"
   ]
  },
  {
   "cell_type": "code",
   "execution_count": 85,
   "metadata": {},
   "outputs": [
    {
     "name": "stdout",
     "output_type": "stream",
     "text": [
      "(181507, 274)\n",
      "(77789, 274)\n"
     ]
    }
   ],
   "source": [
    "threshold = 0.01\n",
    "\n",
    "selector = VarianceThreshold(threshold=threshold)\n",
    "\n",
    "X_train = selector.fit_transform(X_train)\n",
    "X_test = selector.transform(X_test)\n",
    "\n",
    "\n",
    "print(X_train.shape)\n",
    "print(X_test.shape)"
   ]
  },
  {
   "cell_type": "code",
   "execution_count": 97,
   "metadata": {},
   "outputs": [],
   "source": [
    "# Step 3: Use Forward Selection to get the first 10 best features\n",
    "selector = SequentialFeatureSelector(estimator=LinearRegression(), n_features_to_select=10)\n",
    "selector.fit(X_train, y)\n",
    "\n",
    "# Get the selected feature indices\n",
    "selected_feature_indices = selector.get_support()\n"
   ]
  },
  {
   "cell_type": "code",
   "execution_count": 99,
   "metadata": {},
   "outputs": [
    {
     "name": "stdout",
     "output_type": "stream",
     "text": [
      "X_train_top10 shape: (181507, 10)\n",
      "X_test_top10 shape: (77789, 10)\n"
     ]
    }
   ],
   "source": [
    "\n",
    "# # Select the first 10 best features\n",
    "# X_train = X_train.iloc[:, selected_feature_indices]\n",
    "# X_test = X_test.iloc[:, selected_feature_indices]\n",
    "# Select the first 10 best features\n",
    "X_train = X_train[:, selected_feature_indices]\n",
    "X_test = X_test[:, selected_feature_indices]\n",
    "\n",
    "print('X_train_top10 shape:', X_train.shape)\n",
    "print('X_test_top10 shape:', X_test.shape)\n",
    "\n"
   ]
  },
  {
   "cell_type": "code",
   "execution_count": 103,
   "metadata": {},
   "outputs": [
    {
     "name": "stdout",
     "output_type": "stream",
     "text": [
      "X_train_poly shape: (181507, 1653)\n",
      "X_test_poly shape: (77789, 1653)\n"
     ]
    }
   ],
   "source": [
    "\n",
    "# Step 4: Use Polynomial Features with interaction on the selected features\n",
    "poly = PolynomialFeatures(degree=2, interaction_only=False)\n",
    "X_train = poly.fit_transform(X_train)\n",
    "X_test = poly.transform(X_test)\n",
    "\n",
    "print('X_train_poly shape:', X_train.shape)\n",
    "print('X_test_poly shape:', X_test.shape)\n"
   ]
  },
  {
   "cell_type": "code",
   "execution_count": 104,
   "metadata": {},
   "outputs": [
    {
     "name": "stdout",
     "output_type": "stream",
     "text": [
      "(181507, 1653)\n"
     ]
    }
   ],
   "source": [
    "print(X_train.shape)"
   ]
  },
  {
   "cell_type": "code",
   "execution_count": 109,
   "metadata": {},
   "outputs": [
    {
     "name": "stdout",
     "output_type": "stream",
     "text": [
      "Epoch 1/15\n",
      "1404/1404 [==============================] - 5s 3ms/step - loss: 337441923792896.0000 - root_mean_squared_error: 18369592.0000 - mae: 10024183.0000 - val_loss: 223812960387072.0000 - val_root_mean_squared_error: 14960380.0000 - val_mae: 5785927.5000\n",
      "Epoch 2/15\n",
      "1404/1404 [==============================] - 3s 2ms/step - loss: 238835866796032.0000 - root_mean_squared_error: 15454315.0000 - mae: 8219648.0000 - val_loss: 197528532287488.0000 - val_root_mean_squared_error: 14054484.0000 - val_mae: 5131002.5000\n",
      "Epoch 3/15\n",
      "1404/1404 [==============================] - 3s 2ms/step - loss: 204962080489472.0000 - root_mean_squared_error: 14316497.0000 - mae: 7438088.5000 - val_loss: 174776429576192.0000 - val_root_mean_squared_error: 13220304.0000 - val_mae: 5383261.5000\n",
      "Epoch 4/15\n",
      "1404/1404 [==============================] - 2s 2ms/step - loss: 191198807457792.0000 - root_mean_squared_error: 13827466.0000 - mae: 7035029.5000 - val_loss: 174140539535360.0000 - val_root_mean_squared_error: 13196232.0000 - val_mae: 5882801.0000\n",
      "Epoch 5/15\n",
      "1404/1404 [==============================] - 2s 2ms/step - loss: 186957594361856.0000 - root_mean_squared_error: 13673244.0000 - mae: 6861631.5000 - val_loss: 172702950227968.0000 - val_root_mean_squared_error: 13141649.0000 - val_mae: 5992769.0000\n",
      "Epoch 6/15\n",
      "1404/1404 [==============================] - 2s 2ms/step - loss: 184802846179328.0000 - root_mean_squared_error: 13594221.0000 - mae: 6766578.0000 - val_loss: 174720259457024.0000 - val_root_mean_squared_error: 13218179.0000 - val_mae: 6492120.0000\n",
      "Epoch 7/15\n",
      "1404/1404 [==============================] - 2s 2ms/step - loss: 183113028206592.0000 - root_mean_squared_error: 13531926.0000 - mae: 6705635.0000 - val_loss: 175372758941696.0000 - val_root_mean_squared_error: 13242838.0000 - val_mae: 6772244.5000\n",
      "Epoch 8/15\n",
      "1404/1404 [==============================] - 3s 2ms/step - loss: 181719109992448.0000 - root_mean_squared_error: 13480323.0000 - mae: 6661686.0000 - val_loss: 175917078937600.0000 - val_root_mean_squared_error: 13263374.0000 - val_mae: 7041879.0000\n",
      "Epoch 9/15\n",
      "1404/1404 [==============================] - 2s 2ms/step - loss: 180636358803456.0000 - root_mean_squared_error: 13440103.0000 - mae: 6627444.0000 - val_loss: 173936495034368.0000 - val_root_mean_squared_error: 13188499.0000 - val_mae: 7022246.0000\n",
      "Epoch 10/15\n",
      "1404/1404 [==============================] - 2s 2ms/step - loss: 179602194432000.0000 - root_mean_squared_error: 13401574.0000 - mae: 6596967.0000 - val_loss: 176004555341824.0000 - val_root_mean_squared_error: 13266671.0000 - val_mae: 7129398.5000\n",
      "Epoch 11/15\n",
      "1404/1404 [==============================] - 2s 2ms/step - loss: 178501374181376.0000 - root_mean_squared_error: 13360441.0000 - mae: 6571010.0000 - val_loss: 173126256164864.0000 - val_root_mean_squared_error: 13157745.0000 - val_mae: 7231895.0000\n",
      "Epoch 12/15\n",
      "1404/1404 [==============================] - 3s 2ms/step - loss: 177567067799552.0000 - root_mean_squared_error: 13325429.0000 - mae: 6546914.0000 - val_loss: 177693333127168.0000 - val_root_mean_squared_error: 13330166.0000 - val_mae: 7473850.5000\n",
      "Epoch 13/15\n",
      "1404/1404 [==============================] - 2s 2ms/step - loss: 176746980704256.0000 - root_mean_squared_error: 13294622.0000 - mae: 6529143.5000 - val_loss: 175314692997120.0000 - val_root_mean_squared_error: 13240645.0000 - val_mae: 7492335.5000\n",
      "Epoch 14/15\n",
      "1404/1404 [==============================] - 2s 2ms/step - loss: 175950851473408.0000 - root_mean_squared_error: 13264647.0000 - mae: 6510772.0000 - val_loss: 175806097653760.0000 - val_root_mean_squared_error: 13259189.0000 - val_mae: 7700122.5000\n",
      "Epoch 15/15\n",
      "1404/1404 [==============================] - 3s 2ms/step - loss: 175234313355264.0000 - root_mean_squared_error: 13237610.0000 - mae: 6492099.0000 - val_loss: 176175733276672.0000 - val_root_mean_squared_error: 13273121.0000 - val_mae: 7717291.0000\n"
     ]
    },
    {
     "data": {
      "text/plain": [
       "<keras.src.callbacks.History at 0x2c7f12770>"
      ]
     },
     "execution_count": 109,
     "metadata": {},
     "output_type": "execute_result"
    }
   ],
   "source": [
    "from tensorflow import keras\n",
    "from tensorflow.keras.models import Sequential\n",
    "from tensorflow.keras.layers import Dense, Input\n",
    "from tensorflow.keras.callbacks import EarlyStopping\n",
    "\n",
    "\n",
    "X_train = X_train.astype('float32')\n",
    "X_test = X_test.astype('float32')\n",
    "\n",
    "# Define your model\n",
    "model = Sequential([\n",
    "    Input(shape=(X_train.shape[1],)),\n",
    "    Dense(128, activation='relu'),\n",
    "    Dense(64, activation='relu'),\n",
    "    Dense(32, activation='relu'),\n",
    "    Dense(1)\n",
    "])\n",
    "\n",
    "early_stopping = EarlyStopping(monitor='val_loss', patience=10, restore_best_weights=True)\n",
    "\n",
    "# Compile the model\n",
    "model.compile(optimizer='adam',\n",
    "              loss='mean_squared_error',\n",
    "              metrics=[keras.metrics.RootMeanSquaredError(), 'mae'])\n",
    "\n",
    "# Fit the model\n",
    "model.fit(X_train, y, epochs=15, batch_size=128, verbose=1, validation_split=0.01, callbacks=[early_stopping])\n"
   ]
  },
  {
   "cell_type": "code",
   "execution_count": null,
   "metadata": {},
   "outputs": [],
   "source": [
    "\n",
    "model = Sequential([\n",
    "    keras.layers.Input(shape=(X_train.shape[1],)),\n",
    "    \n",
    "    keras.layers.Dense(128, activation='relu'),\n",
    "    keras.layers.Dense(64, activation='relu'),\n",
    "    keras.layers.Dense(32, activation='relu'),\n",
    "    \n",
    "    keras.layers.Dense(1)\n",
    "])\n",
    "\n",
    "# Define EarlyStopping callback\n",
    "early_stopping = EarlyStopping(monitor='val_loss', patience=10, restore_best_weights=True)\n",
    "\n",
    "model.compile(optimizer=custom_optimizer,\n",
    "              loss='mean_squared_error',\n",
    "              metrics=[tf.keras.metrics.RootMeanSquaredError(), 'mae'])\n",
    "\n",
    "model.fit(X_train, y, epochs=15, batch_size=32, verbose=1, validation_split=0.2, callbacks=[early_stopping])"
   ]
  },
  {
   "cell_type": "code",
   "execution_count": null,
   "metadata": {},
   "outputs": [],
   "source": [
    "scaler = StandardScaler()\n",
    "X_train = scaler.fit_transform(X_train)\n",
    "X_test = scaler.transform(X_test)\n"
   ]
  },
  {
   "cell_type": "code",
   "execution_count": null,
   "metadata": {},
   "outputs": [],
   "source": [
    "X_train = X_train.astype('float32')\n",
    "X_test = X_test.astype('float32')"
   ]
  },
  {
   "cell_type": "code",
   "execution_count": 111,
   "metadata": {},
   "outputs": [
    {
     "name": "stdout",
     "output_type": "stream",
     "text": [
      "2431/2431 [==============================] - 1s 490us/step\n"
     ]
    }
   ],
   "source": [
    "test_predictions = model.predict(X_test).flatten()\n",
    "\n",
    "# Create a DataFrame with 'row ID' and predictions\n",
    "result_df = pd.DataFrame({'row ID': row_ids, 'price_doc': test_predictions})\n",
    "\n",
    "result_df.to_csv('predictions_50.csv', index=False)\n",
    "\n",
    "\n"
   ]
  }
 ],
 "metadata": {
  "kernelspec": {
   "display_name": "imlenv",
   "language": "python",
   "name": "python3"
  },
  "language_info": {
   "codemirror_mode": {
    "name": "ipython",
    "version": 3
   },
   "file_extension": ".py",
   "mimetype": "text/x-python",
   "name": "python",
   "nbconvert_exporter": "python",
   "pygments_lexer": "ipython3",
   "version": "3.10.13"
  }
 },
 "nbformat": 4,
 "nbformat_minor": 2
}
