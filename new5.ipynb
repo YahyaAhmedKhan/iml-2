{
 "cells": [
  {
   "cell_type": "code",
   "execution_count": null,
   "metadata": {},
   "outputs": [],
   "source": [
    "import os\n",
    "import torch\n",
    "os.environ[\"KERAS_BACKEND\"] = \"torch\"\n",
    "from keras.models import Sequential\n",
    "from keras.layers import Dense, Dropout"
   ]
  },
  {
   "cell_type": "code",
   "execution_count": null,
   "metadata": {},
   "outputs": [],
   "source": [
    "import pandas as pd\n",
    "import numpy as np\n",
    "from sklearn.preprocessing import LabelEncoder, StandardScaler\n",
    "from sklearn.model_selection import train_test_split\n",
    "from sklearn.linear_model import LinearRegression\n",
    "from sklearn.metrics import mean_squared_error\n",
    "from sklearn.model_selection import train_test_split\n",
    "from sklearn.preprocessing import PolynomialFeatures, StandardScaler, MinMaxScaler, RobustScaler\n",
    "from sklearn.linear_model import Lasso, Ridge\n",
    "from sklearn.neural_network import MLPRegressor\n",
    "\n",
    "from sklearn.linear_model import LinearRegression \n",
    "from sklearn.decomposition import PCA\n",
    "from sklearn.feature_selection import RFE, VarianceThreshold\n",
    "from sklearn.feature_selection import SequentialFeatureSelector\n",
    "from sklearn.tree import DecisionTreeRegressor\n",
    "from sklearn.ensemble import RandomForestRegressor\n",
    "from sklearn.linear_model import Lasso, Ridge\n",
    "from sklearn.feature_selection import SelectKBest\n",
    "from sklearn.feature_selection import f_regression\n",
    "\n",
    "\n"
   ]
  },
  {
   "cell_type": "code",
   "execution_count": null,
   "metadata": {},
   "outputs": [],
   "source": [
    "\n",
    "# Load the training and test data\n",
    "df_train_orig = pd.read_csv('train.csv')\n",
    "df_test_orig = pd.read_csv('test.csv')\n"
   ]
  },
  {
   "cell_type": "code",
   "execution_count": null,
   "metadata": {},
   "outputs": [],
   "source": [
    "\n",
    "# Make a copy of the original data\n",
    "df_train = df_train_orig.copy()\n",
    "df_test = df_test_orig.copy()\n",
    "target_col = 'price_doc'\n",
    "row_id_col = 'row ID'\n",
    "\n",
    "row_ids = df_test['row ID']\n",
    "df_test.drop(['row ID'], axis=1, inplace=True)\n",
    "\n",
    "numeric_col = df_test.select_dtypes(include=[\"number\"]).columns.tolist()\n",
    "categorical_cols = df_test.select_dtypes(exclude=[\"number\"]).columns.tolist()\n",
    "\n",
    "# Label encode the \"sub_area\" column\n",
    "label_encoder = LabelEncoder()\n",
    "df_train['sub_area'] = label_encoder.fit_transform(df_train['sub_area'])\n",
    "df_test['sub_area'] = label_encoder.transform(df_test['sub_area'])\n",
    "\n",
    "# Create dummy variables for categorical features\n",
    "X_train = pd.get_dummies(df_train.drop(columns=[target_col]), drop_first=True)\n",
    "y = df_train[target_col]\n",
    "\n",
    "X_test = pd.get_dummies(df_test, drop_first=True)\n",
    "\n",
    "\n",
    "print('X_train shape:', X_train.shape)\n",
    "print('X_test shape:', X_test.shape)"
   ]
  },
  {
   "cell_type": "code",
   "execution_count": null,
   "metadata": {},
   "outputs": [],
   "source": [
    "scaler = StandardScaler()\n",
    "X_train[numeric_col] = scaler.fit_transform(X_train[numeric_col])\n",
    "X_test[numeric_col] = scaler.transform(X_test[numeric_col])\n",
    "\n",
    "print('X_train_scaled shape:', X_train.shape)\n",
    "print('X_test_scaled shape:', X_test.shape)\n",
    "\n",
    "all_columns = X_train.columns.tolist()\n",
    "\n",
    "# Get the non-numeric columns by subtracting numeric_col from all_columns\n",
    "non_numeric_columns = [col for col in all_columns if col not in numeric_col]\n",
    "\n",
    "\n",
    "X_train = X_train.astype('float32')\n",
    "X_test = X_test.astype('float32')\n",
    "\n",
    "X_train.dtypes\n"
   ]
  },
  {
   "cell_type": "code",
   "execution_count": null,
   "metadata": {},
   "outputs": [],
   "source": [
    "\n",
    "# Step 2: Use a Decision Tree Regressor to get the 100 most important features\n",
    "tree_regressor = DecisionTreeRegressor(max_depth=8, random_state=42)\n",
    "tree_regressor.fit(X_train, y)\n",
    "importances = tree_regressor.feature_importances_\n",
    "\n",
    "\n",
    "# Get indices of the top 100 features\n",
    "top_100_feature_indices = np.argsort(importances)[-150:]\n",
    "\n",
    "# Select the top 100 features\n",
    "X_train = X_train.iloc[:, top_100_feature_indices]\n",
    "X_test = X_test.iloc[:, top_100_feature_indices]\n"
   ]
  },
  {
   "cell_type": "code",
   "execution_count": null,
   "metadata": {},
   "outputs": [],
   "source": [
    "selector = SelectKBest(score_func=f_regression, k=100)\n",
    "\n",
    "X_train = selector.fit_transform(X_train,y)\n",
    "\n",
    "\n",
    "X_test = selector.transform(X_test)\n",
    "\n",
    "print(X_train.shape)\n",
    "print(X_test.shape)"
   ]
  },
  {
   "cell_type": "code",
   "execution_count": null,
   "metadata": {},
   "outputs": [],
   "source": [
    "scaler = MinMaxScaler()\n",
    "X_train = scaler.fit_transform(X_train)\n",
    "X_test = scaler.transform(X_test) \n",
    "print('X_train_scaled shape:', X_train.shape)\n",
    "print('X_test_scaled shape:', X_test.shape)"
   ]
  },
  {
   "cell_type": "code",
   "execution_count": null,
   "metadata": {},
   "outputs": [],
   "source": [
    "pca = PCA(n_components=100)\n",
    "X_train = pca.fit_transform(X_train)\n",
    "X_test = pca.transform(X_test)\n",
    "\n",
    "print('X_train_pca shape:', X_train.shape)\n",
    "print('X_test_pca shape:', X_test.shape)\n"
   ]
  },
  {
   "cell_type": "code",
   "execution_count": null,
   "metadata": {},
   "outputs": [],
   "source": [
    "threshold = 1\n",
    "\n",
    "selector = VarianceThreshold(threshold=threshold)\n",
    "\n",
    "X_train = selector.fit_transform(X_train)\n",
    "X_test = selector.transform(X_test)\n",
    "\n",
    "\n",
    "print(X_train.shape)\n",
    "print(X_test.shape)"
   ]
  },
  {
   "cell_type": "code",
   "execution_count": null,
   "metadata": {},
   "outputs": [],
   "source": [
    "# Step 3: Use Forward Selection to get the first 10 best features\n",
    "selector = SequentialFeatureSelector(estimator=LinearRegression(), n_features_to_select=10)\n",
    "selector.fit(X_train, y)\n",
    "\n",
    "# Get the selected feature indices\n",
    "selected_feature_indices = selector.get_support()\n"
   ]
  },
  {
   "cell_type": "code",
   "execution_count": null,
   "metadata": {},
   "outputs": [],
   "source": []
  },
  {
   "cell_type": "code",
   "execution_count": null,
   "metadata": {},
   "outputs": [],
   "source": [
    "\n",
    "# # Select the first 10 best features\n",
    "# X_train = X_train.iloc[:, selected_feature_indices]\n",
    "# X_test = X_test.iloc[:, selected_feature_indices]\n",
    "# Select the first 10 best features\n",
    "X_train = X_train[:, selected_feature_indices]\n",
    "X_test = X_test[:, selected_feature_indices]\n",
    "\n",
    "print('X_train_top10 shape:', X_train.shape)\n",
    "print('X_test_top10 shape:', X_test.shape)\n",
    "\n"
   ]
  },
  {
   "cell_type": "code",
   "execution_count": null,
   "metadata": {},
   "outputs": [],
   "source": [
    "\n",
    "# Step 4: Use Polynomial Features with interaction on the selected features\n",
    "poly = PolynomialFeatures(degree=3, interaction_only=True)\n",
    "X_train = poly.fit_transform(X_train)\n",
    "X_test = poly.transform(X_test)\n",
    "\n",
    "print('X_train_poly shape:', X_train.shape)\n",
    "print('X_test_poly shape:', X_test.shape)\n"
   ]
  },
  {
   "cell_type": "code",
   "execution_count": null,
   "metadata": {},
   "outputs": [],
   "source": [
    "print(X_train.shape)"
   ]
  },
  {
   "cell_type": "code",
   "execution_count": null,
   "metadata": {},
   "outputs": [],
   "source": [
    "from tensorflow.keras import regularizers\n",
    "from tensorflow.keras.optimizers import RMSprop\n",
    "\n",
    "X_train = X_train.astype('float32')\n",
    "X_test = X_test.astype('float32')\n",
    "\n",
    "# Define your model with L2 regularization\n",
    "model = Sequential([\n",
    "    Input(shape=(X_train.shape[1],)),\n",
    "    Dense(128, activation='relu', kernel_regularizer=regularizers.l2(0.01)),\n",
    "    Dense(64, activation='relu', kernel_regularizer=regularizers.l2(0.01)),\n",
    "    Dense(1)\n",
    "])\n",
    "\n",
    "early_stopping = EarlyStopping(monitor='val_loss', patience=10, restore_best_weights=True)\n",
    "\n",
    "# Compile the model with RMSprop optimizer\n",
    "optimizer = RMSprop(learning_rate=0.001)  # You can adjust the learning rate\n",
    "model.compile(optimizer=optimizer,\n",
    "              loss='mean_squared_error',\n",
    "              metrics=[keras.metrics.RootMeanSquaredError(), 'mae'])\n",
    "\n",
    "# Fit the model\n",
    "model.fit(X_train, y, epochs=15, batch_size=32, verbose=1, validation_split=0.2, callbacks=[early_stopping])\n"
   ]
  },
  {
   "cell_type": "code",
   "execution_count": null,
   "metadata": {},
   "outputs": [],
   "source": [
    "\n",
    "model = Sequential([\n",
    "    keras.layers.Input(shape=(X_train.shape[1],)),\n",
    "    \n",
    "    keras.layers.Dense(128, activation='relu'),\n",
    "    keras.layers.Dense(64, activation='relu'),\n",
    "    keras.layers.Dense(32, activation='relu'),\n",
    "    \n",
    "    keras.layers.Dense(1)\n",
    "])\n",
    "\n",
    "# Define EarlyStopping callback\n",
    "early_stopping = EarlyStopping(monitor='val_loss', patience=10, restore_best_weights=True)\n",
    "\n",
    "model.compile(optimizer=custom_optimizer,\n",
    "              loss='mean_squared_error',\n",
    "              metrics=[tf.keras.metrics.RootMeanSquaredError(), 'mae'])\n",
    "\n",
    "model.fit(X_train, y, epochs=15, batch_size=32, verbose=1, validation_split=0.2, callbacks=[early_stopping])"
   ]
  },
  {
   "cell_type": "code",
   "execution_count": null,
   "metadata": {},
   "outputs": [],
   "source": [
    "from keras.models import Sequential\n",
    "from keras.layers import Dense, Dropout\n",
    "from keras import regularizers\n",
    "from keras.callbacks import EarlyStopping, ModelCheckpoint, LearningRateScheduler\n",
    "from sklearn.metrics import mean_squared_error\n",
    "from keras.optimizers import Adam, legacy\n",
    "import math\n",
    "\n",
    "\n",
    "# define the keras model\n",
    "model = Sequential()\n",
    "model.add(Dense(128, input_dim=X_train.shape[1], activation='relu'))\n",
    "#model.add(Dropout(0.2))  # Apply dropout with a rate of 0.2\n",
    "model.add(Dense(64, activation='relu'))#sigmoid\n",
    "# model.add(Dense(64, activation='relu'))#sigmoid\n",
    "model.add(Dense(32, activation='relu'))\n",
    "model.add(Dense(1, activation='linear'))\n",
    "\n",
    "# Add regularizers to the dense layers\n",
    "model.layers[1].kernel_regularizer = regularizers.l1(0.001)  # Apply L2 regularization with a factor of 0.01\n",
    "model.layers[2].kernel_regularizer = regularizers.l1(0.001)  # Apply L2 regularization with a factor of 0.01\n",
    "#model.layers[3].kernel_regularizer = regularizers.l1(0.001)  # Apply L2 regularization with a factor of 0.01\n",
    "\n",
    "opt = legacy.Adam(learning_rate=0.00021)  \n",
    "\n",
    "# compile the keras model\n",
    "model.compile(optimizer=opt, loss='mean_squared_error', metrics=['RootMeanSquaredError'])\n",
    "#apply early stoppping\n",
    "early_stopping_monitor = EarlyStopping(patience=5)\n",
    "#apply model checkpoint\n",
    "\n",
    "#fit the keras model on the dataset\n",
    "model.fit(X_train, y, epochs=50, batch_size=63, validation_split=0.2, callbacks=[early_stopping_monitor])"
   ]
  },
  {
   "cell_type": "code",
   "execution_count": null,
   "metadata": {},
   "outputs": [],
   "source": []
  },
  {
   "cell_type": "code",
   "execution_count": null,
   "metadata": {},
   "outputs": [],
   "source": [
    "scaler = StandardScaler()\n",
    "X_train = scaler.fit_transform(X_train)\n",
    "X_test = scaler.transform(X_test)\n"
   ]
  },
  {
   "cell_type": "code",
   "execution_count": null,
   "metadata": {},
   "outputs": [],
   "source": [
    "X_train = X_train.astype('float32')\n",
    "X_test = X_test.astype('float32')"
   ]
  },
  {
   "cell_type": "code",
   "execution_count": null,
   "metadata": {},
   "outputs": [],
   "source": [
    "test_predictions = model.predict(X_test).flatten()\n",
    "\n",
    "# Create a DataFrame with 'row ID' and predictions\n",
    "result_df = pd.DataFrame({'row ID': row_ids, 'price_doc': test_predictions})\n",
    "\n",
    "result_df.to_csv('predictions_55.csv', index=False)\n",
    "\n",
    "\n"
   ]
  },
  {
   "cell_type": "markdown",
   "metadata": {},
   "source": [
    "# Shahood\n",
    "\n",
    "\n"
   ]
  },
  {
   "cell_type": "code",
   "execution_count": null,
   "metadata": {},
   "outputs": [],
   "source": [
    "import os\n",
    "import torch\n",
    "os.environ[\"KERAS_BACKEND\"] = \"torch\"\n",
    "from keras.models import Sequential\n",
    "from keras.layers import Dense, Dropout"
   ]
  },
  {
   "cell_type": "code",
   "execution_count": null,
   "metadata": {},
   "outputs": [],
   "source": [
    "import pandas as pd\n",
    "import numpy as np\n",
    "from sklearn.preprocessing import LabelEncoder, StandardScaler\n",
    "from sklearn.model_selection import train_test_split\n",
    "from sklearn.linear_model import LinearRegression\n",
    "from sklearn.metrics import mean_squared_error\n",
    "from sklearn.model_selection import train_test_split\n",
    "from sklearn.preprocessing import PolynomialFeatures, StandardScaler, MinMaxScaler, RobustScaler\n",
    "from sklearn.linear_model import Lasso, Ridge\n",
    "from sklearn.neural_network import MLPRegressor\n",
    "\n",
    "from sklearn.linear_model import LinearRegression \n",
    "from sklearn.decomposition import PCA\n",
    "from sklearn.feature_selection import RFE, VarianceThreshold\n",
    "from sklearn.feature_selection import SequentialFeatureSelector\n",
    "from sklearn.tree import DecisionTreeRegressor\n",
    "from sklearn.ensemble import RandomForestRegressor\n",
    "from sklearn.linear_model import Lasso, Ridge\n",
    "from sklearn.feature_selection import SelectKBest\n",
    "from sklearn.feature_selection import f_regression\n",
    "\n",
    "\n"
   ]
  },
  {
   "cell_type": "code",
   "execution_count": null,
   "metadata": {},
   "outputs": [],
   "source": [
    "\n",
    "# Load the training and test data\n",
    "df_train_orig = pd.read_csv('train.csv')\n",
    "df_test_orig = pd.read_csv('test.csv')\n"
   ]
  },
  {
   "cell_type": "code",
   "execution_count": 66,
   "metadata": {},
   "outputs": [
    {
     "name": "stdout",
     "output_type": "stream",
     "text": [
      "X_train shape: (181507, 271)\n",
      "X_test shape: (77789, 271)\n"
     ]
    }
   ],
   "source": [
    "\n",
    "# Make a copy of the original data\n",
    "df_train = df_train_orig.copy()\n",
    "df_test = df_test_orig.copy()\n",
    "target_col = 'price_doc'\n",
    "row_id_col = 'row ID'\n",
    "\n",
    "row_ids = df_test['row ID']\n",
    "df_test.drop(['row ID'], axis=1, inplace=True)\n",
    "\n",
    "\n",
    "X_train = df_train.drop(columns=[target_col])\n",
    "y = df_train[target_col]\n",
    "\n",
    "\n",
    "\n",
    "X_test = df_test\n",
    "\n",
    "\n",
    "print('X_train shape:', X_train.shape)\n",
    "print('X_test shape:', X_test.shape)"
   ]
  },
  {
   "cell_type": "code",
   "execution_count": null,
   "metadata": {},
   "outputs": [],
   "source": [
    "features_to_exclude = [\n",
    "    'ID_metro', \n",
    "    'ID_railroad_station_walk', \n",
    "    'ID_bus_terminal', \n",
    "    'cemetery_km', \n",
    "    'power_transmission_line_km', \n",
    "    'big_church_count_500', \n",
    "    'church_count_500', \n",
    "    'mosque_count_500', \n",
    "    'theater_km', \n",
    "    'museum_km'\n",
    "]\n",
    "X_train = X_train.drop(columns=features_to_exclude)\n",
    "X_test = X_test.drop(columns=features_to_exclude)\n",
    "\n",
    "print('X_train shape:', X_train.shape)\n",
    "print('X_test shape:', X_test.shape)"
   ]
  },
  {
   "cell_type": "code",
   "execution_count": null,
   "metadata": {},
   "outputs": [],
   "source": [
    "from sklearn.feature_selection import SelectKBest, f_regression\n",
    "\n",
    "# Define a custom scoring function that returns -log(p-value)\n",
    "def p_value_score(X, y):\n",
    "    _, p_values = f_regression(X, y)\n",
    "    return -np.log(p_values)\n",
    "\n",
    "# Define the number of features you want to select\n",
    "num_features_to_select = 250  # Adjust this number as per your requirement\n",
    "\n",
    "# Initialize SelectKBest with the custom scoring function\n",
    "selector = SelectKBest(score_func=p_value_score, k=num_features_to_select)\n",
    "\n",
    "# Fit and transform X_train to select the best features\n",
    "X_train_selected = selector.fit_transform(X_train, y)\n",
    "\n",
    "# Get the indices of the selected features\n",
    "selected_feature_indices = selector.get_support(indices=True)\n",
    "\n",
    "# Get the names of the selected features\n",
    "selected_feature_names = X_train.columns[selected_feature_indices]\n",
    "\n",
    "# Transform X_test to keep only the selected features\n",
    "X_test_selected = X_test.iloc[:, selected_feature_indices]\n",
    "\n",
    "print('Selected Features:', selected_feature_names)\n",
    "print('X_train_selected shape:', X_train_selected.shape)\n",
    "print('X_test_selected shape:', X_test_selected.shape)\n"
   ]
  },
  {
   "cell_type": "code",
   "execution_count": null,
   "metadata": {},
   "outputs": [],
   "source": [
    "X_train = X_train_selected\n",
    "X_test = X_test_selected\n",
    "\n",
    "print(X_train.shape)\n",
    "print(X_test.shape)"
   ]
  },
  {
   "cell_type": "code",
   "execution_count": null,
   "metadata": {},
   "outputs": [],
   "source": [
    "X_train = X_train.drop(columns=['sub_area'])\n",
    "X_test = X_test.drop(columns=['sub_area'])\n",
    "\n",
    "print('X_train shape:', X_train.shape)\n",
    "print('X_test shape:', X_test.shape)"
   ]
  },
  {
   "cell_type": "code",
   "execution_count": null,
   "metadata": {},
   "outputs": [],
   "source": [
    "X_train = pd.get_dummies(X_train, drop_first=True)\n",
    "X_test = pd.get_dummies(X_test, drop_first=True)\n",
    "\n",
    "print('X_train shape:', X_train.shape)\n",
    "print('X_test shape:', X_test.shape)"
   ]
  },
  {
   "cell_type": "code",
   "execution_count": null,
   "metadata": {},
   "outputs": [],
   "source": [
    "\n",
    "print('X_train shape:', X_train.shape)\n",
    "print('X_test shape:', X_test.shape)"
   ]
  },
  {
   "cell_type": "code",
   "execution_count": 67,
   "metadata": {},
   "outputs": [],
   "source": [
    "# Identify categorical columns\n",
    "categorical_cols = X_train.select_dtypes(include=['object', 'category']).columns\n",
    "\n",
    "#'''\n",
    "# Apply label encoding to each categorical column\n",
    "for col in categorical_cols:\n",
    "    le = LabelEncoder()\n",
    "    # Fill missing values with a placeholder string\n",
    "    #X_train[col] = X_train[col].fillna('Missing')\n",
    "    X_train[col] = le.fit_transform(X_train[col])\n",
    "    #X_test[col] = X_test[col].fillna('Missing')\n",
    "    X_test[col] = le.transform(X_test[col])\n",
    "    "
   ]
  },
  {
   "cell_type": "code",
   "execution_count": 68,
   "metadata": {},
   "outputs": [
    {
     "name": "stdout",
     "output_type": "stream",
     "text": [
      "271\n"
     ]
    }
   ],
   "source": [
    "scaler = StandardScaler()\n",
    "X_train = scaler.fit_transform(X_train)\n",
    "X_test = scaler.transform(X_test)\n",
    "\n",
    "\n",
    "print(X_train.shape[1])"
   ]
  },
  {
   "cell_type": "code",
   "execution_count": null,
   "metadata": {},
   "outputs": [],
   "source": [
    "print(type(X_train))\n",
    "print(type(X_test))\n",
    "\n",
    "print(X_train.shape)\n",
    "print(X_test.shape)"
   ]
  },
  {
   "cell_type": "code",
   "execution_count": null,
   "metadata": {},
   "outputs": [],
   "source": [
    "dt_regressor = DecisionTreeRegressor(random_state=42, max_depth=6)\n",
    "dt_regressor.fit(X_train, y)\n",
    "\n",
    "# Calculate Feature Importance\n",
    "feature_importance = dt_regressor.feature_importances_\n",
    "\n",
    "# Select Important Features\n",
    "num_features_to_keep = 50\n",
    "top_feature_indices = feature_importance.argsort()[-num_features_to_keep:][::-1]\n",
    "# X_train = X_train.iloc[:, top_feature_indices]\n",
    "# X_test = X_test.iloc[:, top_feature_indices]\n",
    "X_train = X_train[:, top_feature_indices]\n",
    "X_test = X_test[:, top_feature_indices]\n",
    "\n",
    "print('X_train shape:', X_train.shape)\n",
    "print('X_test shape:', X_test.shape)"
   ]
  },
  {
   "cell_type": "code",
   "execution_count": null,
   "metadata": {},
   "outputs": [],
   "source": [
    "from sklearn.feature_selection import RFECV\n",
    "\n",
    "dt_regressor = DecisionTreeRegressor(random_state=42, max_depth=4)\n",
    "\n",
    "rfecv = RFECV(estimator=dt_regressor)\n",
    "\n",
    "# Fit the RFECV selector to the training data\n",
    "rfecv.fit(X_train, y)\n",
    "\n",
    "# Get the indices of the selected features\n",
    "selected_feature_indices = rfecv.support_\n",
    "\n",
    "# Select the important features from the original dataset\n",
    "X_train = X_train[:, selected_feature_indices]\n",
    "X_test = X_test[:, selected_feature_indices]\n",
    "\n",
    "print('X_train shape:', X_train.shape)\n",
    "print('X_test shape:', X_test.shape)\n"
   ]
  },
  {
   "cell_type": "code",
   "execution_count": null,
   "metadata": {},
   "outputs": [],
   "source": [
    "from sklearn.feature_selection import VarianceThreshold\n",
    "\n",
    "# Define a threshold for variance (adjust as needed)\n",
    "variance_threshold = 1\n",
    "# Initialize the Variancehreshold selector\n",
    "selector = VarianceThreshold(threshold=variance_threshold)\n",
    "\n",
    "# Fit and transform the selector on your selected feature matrix\n",
    "X_train = selector.fit_transform(X_train)\n",
    "X_test = selector.transform(X_test)\n",
    "\n",
    "print('X_train shape:', X_train.shape)\n",
    "print('X_test shape:', X_test.shape)"
   ]
  },
  {
   "cell_type": "code",
   "execution_count": null,
   "metadata": {},
   "outputs": [],
   "source": [
    "\n",
    "# Define the linear regression model\n",
    "lr = LinearRegression()\n",
    "\n",
    "# Forward Feature Selection\n",
    "sfs = SequentialFeatureSelector(lr, n_features_to_select=9, direction='forward', scoring='neg_mean_squared_error', n_jobs=3)\n",
    "sfs.fit(X_train, y)\n",
    "\n",
    "# Get the mask of selected features\n",
    "selected_features = sfs.get_support()\n",
    "\n"
   ]
  },
  {
   "cell_type": "code",
   "execution_count": null,
   "metadata": {},
   "outputs": [],
   "source": [
    "poly = PolynomialFeatures(degree=3, interaction_only=True)\n",
    "X_train = poly.fit_transform(X_train)\n",
    "X_test = poly.transform(X_test)\n",
    "\n",
    "print('X_train_poly shape:', X_train.shape)\n",
    "print('X_test_poly shape:', X_test.shape)"
   ]
  },
  {
   "cell_type": "code",
   "execution_count": null,
   "metadata": {},
   "outputs": [],
   "source": [
    "X_test = X_test.values\n"
   ]
  },
  {
   "cell_type": "code",
   "execution_count": null,
   "metadata": {},
   "outputs": [],
   "source": [
    "X_train = X_train_selected\n",
    "X_test = X_test_selected\n",
    "\n",
    "print(X_train.shape)\n",
    "print(X_test.shape)"
   ]
  },
  {
   "cell_type": "code",
   "execution_count": null,
   "metadata": {},
   "outputs": [],
   "source": [
    "X_train\n",
    "type(X_test)"
   ]
  },
  {
   "cell_type": "code",
   "execution_count": null,
   "metadata": {},
   "outputs": [],
   "source": [
    "X_train = X_train[:, selected_features]\n",
    "X_test = X_test[:, selected_features]\n",
    "\n",
    "# Check the shape of the resulting X_train and X_test\n",
    "print(X_train.shape)\n",
    "print(X_test.shape)\n"
   ]
  },
  {
   "cell_type": "code",
   "execution_count": null,
   "metadata": {},
   "outputs": [],
   "source": [
    "print(X_train.shape)\n",
    "print(X_test.shape)"
   ]
  },
  {
   "cell_type": "code",
   "execution_count": null,
   "metadata": {},
   "outputs": [],
   "source": []
  },
  {
   "cell_type": "code",
   "execution_count": null,
   "metadata": {},
   "outputs": [],
   "source": [
    "\n",
    "# Perform PCA to reduce dimensionality to 240 components\n",
    "n_components = 10\n",
    "pca = PCA(n_components=n_components)\n",
    "X_train = pca.fit_transform(X_train)\n",
    "X_test = pca.transform(X_test)\n",
    "\n",
    "# Now X_train_pca and X_test_pca contain the top 240 principal components\n",
    "print(X_train.shape[1])"
   ]
  },
  {
   "cell_type": "code",
   "execution_count": 70,
   "metadata": {},
   "outputs": [],
   "source": [
    "X_train, X_val, y_train, y_val = train_test_split(X_train, y, test_size=0.2, random_state=43)"
   ]
  },
  {
   "cell_type": "code",
   "execution_count": 71,
   "metadata": {},
   "outputs": [
    {
     "name": "stdout",
     "output_type": "stream",
     "text": [
      "(145205, 271)\n",
      "(36302, 271)\n"
     ]
    }
   ],
   "source": [
    "print(X_train.shape)\n",
    "print(X_val.shape)"
   ]
  },
  {
   "cell_type": "code",
   "execution_count": null,
   "metadata": {},
   "outputs": [],
   "source": [
    "model = DecisionTreeRegressor(max_depth=8, random_state=42, min_samples_leaf=10)\n",
    "model.fit(X_train, y_train)\n",
    "\n",
    "# Make predictions on the validation data\n",
    "val_predictions = model.predict(X_val)\n",
    "print('RMSE:', np.sqrt(mean_squared_error(y_val, val_predictions)))"
   ]
  },
  {
   "cell_type": "code",
   "execution_count": null,
   "metadata": {},
   "outputs": [],
   "source": [
    "import xgboost as xgb\n",
    "\n",
    "# Create an XGBoost regressor\n",
    "model = xgb.XGBRegressor(n_estimators=100, max_depth=10, random_state=42, learning_rate=0.1, min_child_weight=10)\n",
    "model.fit(X_train, y_train)\n",
    "\n",
    "# Make predictions on the validation data\n",
    "val_predictions = model.predict(X_val)\n",
    "print('RMSE:', np.sqrt(mean_squared_error(y_val, val_predictions)))"
   ]
  },
  {
   "cell_type": "code",
   "execution_count": null,
   "metadata": {},
   "outputs": [],
   "source": [
    "# Create a Randomforest regressor\n",
    "model = RandomForestRegressor(n_estimators=30, max_depth=8, random_state=42, min_samples_leaf=10, n_jobs=3, verbose=2)\n",
    "model.fit(X_train, y_train)\n",
    "\n",
    "# Make predictions on the validation data\n",
    "val_predictions = model.predict(X_val)\n",
    "print('RMSE:', np.sqrt(mean_squared_error(y_val, val_predictions)))"
   ]
  },
  {
   "cell_type": "code",
   "execution_count": null,
   "metadata": {},
   "outputs": [],
   "source": [
    "import catboost as cb\n",
    "\n",
    "model = cb.CatBoostRegressor(n_estimators=200, max_depth=10, random_state=42, learning_rate=0.01)\n",
    "model.fit(X_train, y_train, verbose=0)\n",
    "\n",
    "# Make predictions on the validation data\n",
    "val_predictions = model.predict(X_val)\n",
    "print('RMSE:', np.sqrt(mean_squared_error(y_val, val_predictions)))"
   ]
  },
  {
   "cell_type": "code",
   "execution_count": null,
   "metadata": {},
   "outputs": [],
   "source": [
    "# Create a lightgbm regressor\n",
    "import lightgbm as lgb\n",
    "\n",
    "model = lgb.LGBMRegressor(n_estimators=370, max_depth=11, random_state=42, learning_rate=0.01)\n",
    "model.fit(X_train, y_train)\n",
    "\n",
    "# Make predictions on the validation data\n",
    "val_predictions = model.predict(X_val)\n",
    "print('RMSE:', np.sqrt(mean_squared_error(y_val, val_predictions)))"
   ]
  },
  {
   "cell_type": "code",
   "execution_count": 72,
   "metadata": {},
   "outputs": [
    {
     "name": "stdout",
     "output_type": "stream",
     "text": [
      "      Iter       Train Loss   Remaining Time \n",
      "         1 418297427500784.9375           38.70m\n",
      "         2 367260811800726.8125           38.65m\n",
      "         3 325640855320514.3125           38.64m\n",
      "         4 291886516246745.6875           38.21m\n",
      "         5 264693412456196.9375           37.69m\n",
      "         6 241964868902013.5625           37.02m\n",
      "         7 223859293356583.1875           36.41m\n",
      "         8 208856638575196.7500           36.01m\n",
      "         9 196299934994371.5938           35.55m\n",
      "        10 186466365480101.3438           35.13m\n",
      "        11 178428746853513.5000           34.74m\n",
      "        12 170522264752746.8750           34.28m\n",
      "        13 164315316680769.7812           33.86m\n",
      "        14 158696967273114.2500           33.48m\n",
      "        15 154342694160825.9688           33.21m\n",
      "        16 150919711476288.1875           32.88m\n",
      "        17 145975868633703.7500           32.75m\n",
      "        18 143148971034507.6250           32.42m\n",
      "        19 140303266571603.4062           32.17m\n",
      "        20 137924274585900.2188           31.81m\n",
      "        21 134353048184993.2344           31.87m\n",
      "        22 131682000391075.6250           32.10m\n",
      "        23 130019072525795.0312           31.98m\n",
      "        24 128372243586899.9062           32.10m\n",
      "        25 127377095430260.4688           31.93m\n",
      "        26 125570013459305.7812           31.57m\n",
      "        27 123291773160513.0781           31.17m\n",
      "        28 122211722287811.5312           30.77m\n",
      "        29 120112248632354.0938           30.39m\n",
      "        30 117822967877818.1875           29.95m\n",
      "        31 115678097873980.3750           29.57m\n",
      "        32 114101786826634.4219           29.39m\n",
      "        33 111423334967155.0312           29.30m\n",
      "        34 109900758540324.9688           29.09m\n",
      "        35 108053288412032.6094           28.67m\n",
      "        36 106132501910241.2812           28.23m\n",
      "        37 105014610434819.5469           27.76m\n",
      "        38 103001211519174.5469           27.32m\n",
      "        39 101634870951758.7031           26.86m\n",
      "        40 99432746204428.8594           26.41m\n",
      "        41 97383167422578.9844           25.96m\n",
      "        42 95305899403013.8125           25.54m\n",
      "        43 94099161201407.9062           25.13m\n",
      "        44 90929198057023.8906           24.69m\n",
      "        45 89503381606198.8594           24.25m\n",
      "        46 87785402784511.6250           23.81m\n",
      "        47 85914402925260.4219           23.36m\n",
      "        48 83831428955756.2031           22.92m\n",
      "        49 82469955633535.2656           22.47m\n",
      "        50 81097767080423.6250           22.04m\n",
      "        51 80480575544777.4688           21.62m\n",
      "        52 79394880063017.4062           21.18m\n",
      "        53 78844209743956.9219           20.74m\n",
      "        54 78455931628737.6406           20.31m\n",
      "        55 77718908315493.7969           19.88m\n",
      "        56 76665598176148.5469           19.45m\n",
      "        57 76166555906277.0625           19.04m\n",
      "        58 75979753197665.2188           18.60m\n",
      "        59 74618556569748.3125           18.16m\n",
      "        60 73993357024899.8906           17.73m\n",
      "        61 73857826516450.2969           17.30m\n",
      "        62 73329830119634.8438           16.86m\n",
      "        63 72561539885563.4062           16.42m\n",
      "        64 72276532629841.2188           15.99m\n",
      "        65 71951250182378.4531           15.55m\n",
      "        66 71070297721428.6719           15.11m\n",
      "        67 70418744245180.0469           14.68m\n",
      "        68 70304734407484.3281           14.24m\n",
      "        69 69809123462979.1172           13.80m\n",
      "        70 68363021975062.9219           13.36m\n",
      "        71 68048676808984.4453           12.92m\n",
      "        72 67356983651283.6250           12.48m\n",
      "        73 66437198063728.5547           12.03m\n",
      "        74 65478683474038.0234           11.59m\n",
      "        75 65302515608195.0234           11.14m\n",
      "        76 65197881224748.7891           10.70m\n",
      "        77 65133657071645.9297           10.26m\n",
      "        78 64849458601401.5547            9.82m\n",
      "        79 64308407422341.5234            9.38m\n",
      "        80 63557440373505.4844            8.94m\n",
      "        81 62785730584507.6016            8.49m\n",
      "        82 61736803966455.0234            8.05m\n",
      "        83 61114341048121.8672            7.60m\n",
      "        84 60687689077470.3594            7.15m\n",
      "        85 59594095020576.3125            6.70m\n",
      "        86 59174539046246.8594            6.25m\n",
      "        87 58665583504795.4219            5.81m\n",
      "        88 58134040269268.6562            5.36m\n",
      "        89 57587627842638.6250            4.91m\n",
      "        90 57374526087095.1406            4.47m\n",
      "        91 57245624166467.9141            4.02m\n",
      "        92 55684589936247.6016            3.58m\n",
      "        93 55346620595005.4375            3.13m\n",
      "        94 54252212585552.1953            2.68m\n",
      "        95 54057721475677.8438            2.23m\n",
      "        96 53718898233410.9062            1.79m\n",
      "        97 53370674577693.3203            1.34m\n",
      "        98 52469322277694.5234           53.66s\n",
      "        99 51099562234980.0625           26.82s\n",
      "       100 50348339998502.7734            0.00s\n",
      "RMSE: 12792569.921866326\n"
     ]
    }
   ],
   "source": [
    "# Create a gradient boosting regressor\n",
    "from sklearn.ensemble import GradientBoostingRegressor\n",
    "\n",
    "model = GradientBoostingRegressor(n_estimators=100, max_depth=10, random_state=42, verbose=2)\n",
    "model.fit(X_train, y_train)\n",
    "\n",
    "# Make predictions on the validation data\n",
    "val_predictions = model.predict(X_val)\n",
    "print('RMSE:', np.sqrt(mean_squared_error(y_val, val_predictions)))"
   ]
  },
  {
   "cell_type": "code",
   "execution_count": null,
   "metadata": {},
   "outputs": [],
   "source": [
    "from keras.models import Sequential\n",
    "from keras.layers import Dense, Dropout\n",
    "from keras import regularizers\n",
    "from keras import optimizers\n",
    "from keras.callbacks import EarlyStopping, ModelCheckpoint\n",
    "from keras.models import load_model\n",
    "from sklearn.metrics import mean_squared_error\n",
    "from keras.optimizers import SGD, RMSprop, Adagrad, Adadelta, Nadam\n",
    "from keras.optimizers import legacy\n",
    "\n",
    "# define the keras model\n",
    "model = Sequential()\n",
    "\n",
    "model.add(Dense(128, input_dim=X_train.shape[1], activation='relu'))\n",
    "# model.add(Dropout(0.2))  # Apply dropout with a rate of 0.2\n",
    "# model.add(Dense(128, activation='relu'))#sigmoid\n",
    "# model.add(Dense(128, activation='relu'))#sigmoid\n",
    "\n",
    "model.add(Dense(64, activation='relu'))#sigmoid\n",
    "# model.add(Dense(32, activation='relu'))\n",
    "model.add(Dense(1, activation='linear'))\n",
    "\n",
    "# Add regularizers to the dense layers\n",
    "model.layers[1].kernel_regularizer = regularizers.l1(0.001)  # Apply L2 regularization with a factor of 0.01\n",
    "model.layers[2].kernel_regularizer = regularizers.l1(0.001)  # Apply L2 regularization with a factor of 0.01\n",
    "# model.layers[3].kernel_regularizer = regularizers.l1(0.001)  # Apply L2 regularization with a factor of 0.01\n",
    "# model.layers[4].kernel_regularizer = regularizers.l1(0.001)  # Apply L2 regularization with a factor of 0.01\n",
    "#model.layers[3].kernel_regularizer = regularizers.l1(0.001)  # Apply L2 regularization with a factor of 0.01\n",
    "\n",
    "optimizers = {\n",
    "    \"SGD\": SGD(learning_rate=0.01, momentum=0.9),\n",
    "    \"RMSprop\": RMSprop(learning_rate=0.01, rho=0.9),\n",
    "    \"Adagrad\": Adagrad(learning_rate=0.01),\n",
    "    \"Adadelta\": Adadelta(learning_rate=1.0, rho=0.95),\n",
    "    \"Nadam\": Nadam(learning_rate=0.002, beta_1=0.9, beta_2=0.999)\n",
    "}\n",
    "\n",
    "opt = legacy.Adam(learning_rate=0.001)  \n",
    "# opt = optimizers[\"RMSprop\"]\n",
    "\n",
    "# compile the keras model\n",
    "model.compile(optimizer=opt, loss='mean_squared_error', metrics=['RootMeanSquaredError'])\n",
    "#apply early stoppping\n",
    "early_stopping_monitor = EarlyStopping(patience=5)\n",
    "#apply model checkpoint\n",
    "\n",
    "#fit the keras model on the dataset\n",
    "model.fit(X_train, y_train, epochs=100, batch_size=128, validation_data=(X_val, y_val), callbacks=[early_stopping_monitor])"
   ]
  },
  {
   "cell_type": "code",
   "execution_count": null,
   "metadata": {},
   "outputs": [],
   "source": [
    "#calculate rmse\n",
    "y_val_pred = model.predict(X_val)\n",
    "val_rmse = np.sqrt(mean_squared_error(y_val, y_val_pred))\n",
    "print('Validation RMSE:', val_rmse)"
   ]
  },
  {
   "cell_type": "code",
   "execution_count": null,
   "metadata": {},
   "outputs": [],
   "source": [
    "test_predictions = model.predict(X_test).flatten()\n",
    "\n",
    "# Create a DataFrame with 'row ID' and predictions\n",
    "result_df = pd.DataFrame({'row ID': row_ids, 'price_doc': test_predictions})\n",
    "\n",
    "result_df.to_csv('predictions_94.csv', index=False)\n"
   ]
  },
  {
   "cell_type": "code",
   "execution_count": null,
   "metadata": {},
   "outputs": [],
   "source": []
  }
 ],
 "metadata": {
  "kernelspec": {
   "display_name": "imlenv",
   "language": "python",
   "name": "python3"
  },
  "language_info": {
   "codemirror_mode": {
    "name": "ipython",
    "version": 3
   },
   "file_extension": ".py",
   "mimetype": "text/x-python",
   "name": "python",
   "nbconvert_exporter": "python",
   "pygments_lexer": "ipython3",
   "version": "3.10.13"
  }
 },
 "nbformat": 4,
 "nbformat_minor": 2
}
