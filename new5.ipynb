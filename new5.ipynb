{
 "cells": [
  {
   "cell_type": "code",
   "execution_count": null,
   "metadata": {},
   "outputs": [],
   "source": [
    "import os\n",
    "import torch\n",
    "os.environ[\"KERAS_BACKEND\"] = \"torch\"\n",
    "from keras.models import Sequential\n",
    "from keras.layers import Dense, Dropout"
   ]
  },
  {
   "cell_type": "code",
   "execution_count": null,
   "metadata": {},
   "outputs": [],
   "source": [
    "import pandas as pd\n",
    "import numpy as np\n",
    "from sklearn.preprocessing import LabelEncoder, StandardScaler\n",
    "from sklearn.model_selection import train_test_split\n",
    "from sklearn.linear_model import LinearRegression\n",
    "from sklearn.metrics import mean_squared_error\n",
    "from sklearn.model_selection import train_test_split\n",
    "from sklearn.preprocessing import PolynomialFeatures, StandardScaler, MinMaxScaler, RobustScaler\n",
    "from sklearn.linear_model import Lasso, Ridge\n",
    "from sklearn.neural_network import MLPRegressor\n",
    "\n",
    "from sklearn.linear_model import LinearRegression \n",
    "from sklearn.decomposition import PCA\n",
    "from sklearn.feature_selection import RFE, VarianceThreshold\n",
    "from sklearn.feature_selection import SequentialFeatureSelector\n",
    "from sklearn.tree import DecisionTreeRegressor\n",
    "from sklearn.ensemble import RandomForestRegressor\n",
    "from sklearn.linear_model import Lasso, Ridge\n",
    "from sklearn.feature_selection import SelectKBest\n",
    "from sklearn.feature_selection import f_regression\n",
    "\n",
    "\n"
   ]
  },
  {
   "cell_type": "code",
   "execution_count": null,
   "metadata": {},
   "outputs": [],
   "source": [
    "\n",
    "# Load the training and test data\n",
    "df_train_orig = pd.read_csv('train.csv')\n",
    "df_test_orig = pd.read_csv('test.csv')\n"
   ]
  },
  {
   "cell_type": "code",
   "execution_count": null,
   "metadata": {},
   "outputs": [],
   "source": [
    "\n",
    "# Make a copy of the original data\n",
    "df_train = df_train_orig.copy()\n",
    "df_test = df_test_orig.copy()\n",
    "target_col = 'price_doc'\n",
    "row_id_col = 'row ID'\n",
    "\n",
    "row_ids = df_test['row ID']\n",
    "df_test.drop(['row ID'], axis=1, inplace=True)\n",
    "\n",
    "numeric_col = df_test.select_dtypes(include=[\"number\"]).columns.tolist()\n",
    "categorical_cols = df_test.select_dtypes(exclude=[\"number\"]).columns.tolist()\n",
    "\n",
    "# Label encode the \"sub_area\" column\n",
    "label_encoder = LabelEncoder()\n",
    "df_train['sub_area'] = label_encoder.fit_transform(df_train['sub_area'])\n",
    "df_test['sub_area'] = label_encoder.transform(df_test['sub_area'])\n",
    "\n",
    "# Create dummy variables for categorical features\n",
    "X_train = pd.get_dummies(df_train.drop(columns=[target_col]), drop_first=True)\n",
    "y = df_train[target_col]\n",
    "\n",
    "X_test = pd.get_dummies(df_test, drop_first=True)\n",
    "\n",
    "\n",
    "print('X_train shape:', X_train.shape)\n",
    "print('X_test shape:', X_test.shape)"
   ]
  },
  {
   "cell_type": "code",
   "execution_count": null,
   "metadata": {},
   "outputs": [],
   "source": [
    "scaler = StandardScaler()\n",
    "X_train[numeric_col] = scaler.fit_transform(X_train[numeric_col])\n",
    "X_test[numeric_col] = scaler.transform(X_test[numeric_col])\n",
    "\n",
    "print('X_train_scaled shape:', X_train.shape)\n",
    "print('X_test_scaled shape:', X_test.shape)\n",
    "\n",
    "all_columns = X_train.columns.tolist()\n",
    "\n",
    "# Get the non-numeric columns by subtracting numeric_col from all_columns\n",
    "non_numeric_columns = [col for col in all_columns if col not in numeric_col]\n",
    "\n",
    "\n",
    "X_train = X_train.astype('float32')\n",
    "X_test = X_test.astype('float32')\n",
    "\n",
    "X_train.dtypes\n"
   ]
  },
  {
   "cell_type": "code",
   "execution_count": null,
   "metadata": {},
   "outputs": [],
   "source": [
    "\n",
    "# Step 2: Use a Decision Tree Regressor to get the 100 most important features\n",
    "tree_regressor = DecisionTreeRegressor(max_depth=8, random_state=42)\n",
    "tree_regressor.fit(X_train, y)\n",
    "importances = tree_regressor.feature_importances_\n",
    "\n",
    "\n",
    "# Get indices of the top 100 features\n",
    "top_100_feature_indices = np.argsort(importances)[-150:]\n",
    "\n",
    "# Select the top 100 features\n",
    "X_train = X_train.iloc[:, top_100_feature_indices]\n",
    "X_test = X_test.iloc[:, top_100_feature_indices]\n"
   ]
  },
  {
   "cell_type": "code",
   "execution_count": null,
   "metadata": {},
   "outputs": [],
   "source": [
    "selector = SelectKBest(score_func=f_regression, k=100)\n",
    "\n",
    "X_train = selector.fit_transform(X_train,y)\n",
    "\n",
    "\n",
    "X_test = selector.transform(X_test)\n",
    "\n",
    "print(X_train.shape)\n",
    "print(X_test.shape)"
   ]
  },
  {
   "cell_type": "code",
   "execution_count": null,
   "metadata": {},
   "outputs": [],
   "source": [
    "scaler = MinMaxScaler()\n",
    "X_train = scaler.fit_transform(X_train)\n",
    "X_test = scaler.transform(X_test) \n",
    "print('X_train_scaled shape:', X_train.shape)\n",
    "print('X_test_scaled shape:', X_test.shape)"
   ]
  },
  {
   "cell_type": "code",
   "execution_count": null,
   "metadata": {},
   "outputs": [],
   "source": [
    "pca = PCA(n_components=100)\n",
    "X_train = pca.fit_transform(X_train)\n",
    "X_test = pca.transform(X_test)\n",
    "\n",
    "print('X_train_pca shape:', X_train.shape)\n",
    "print('X_test_pca shape:', X_test.shape)\n"
   ]
  },
  {
   "cell_type": "code",
   "execution_count": null,
   "metadata": {},
   "outputs": [],
   "source": [
    "threshold = 1\n",
    "\n",
    "selector = VarianceThreshold(threshold=threshold)\n",
    "\n",
    "X_train = selector.fit_transform(X_train)\n",
    "X_test = selector.transform(X_test)\n",
    "\n",
    "\n",
    "print(X_train.shape)\n",
    "print(X_test.shape)"
   ]
  },
  {
   "cell_type": "code",
   "execution_count": null,
   "metadata": {},
   "outputs": [],
   "source": [
    "# Step 3: Use Forward Selection to get the first 10 best features\n",
    "selector = SequentialFeatureSelector(estimator=LinearRegression(), n_features_to_select=10)\n",
    "selector.fit(X_train, y)\n",
    "\n",
    "# Get the selected feature indices\n",
    "selected_feature_indices = selector.get_support()\n"
   ]
  },
  {
   "cell_type": "code",
   "execution_count": null,
   "metadata": {},
   "outputs": [],
   "source": []
  },
  {
   "cell_type": "code",
   "execution_count": null,
   "metadata": {},
   "outputs": [],
   "source": [
    "\n",
    "# # Select the first 10 best features\n",
    "# X_train = X_train.iloc[:, selected_feature_indices]\n",
    "# X_test = X_test.iloc[:, selected_feature_indices]\n",
    "# Select the first 10 best features\n",
    "X_train = X_train[:, selected_feature_indices]\n",
    "X_test = X_test[:, selected_feature_indices]\n",
    "\n",
    "print('X_train_top10 shape:', X_train.shape)\n",
    "print('X_test_top10 shape:', X_test.shape)\n",
    "\n"
   ]
  },
  {
   "cell_type": "code",
   "execution_count": null,
   "metadata": {},
   "outputs": [],
   "source": [
    "\n",
    "# Step 4: Use Polynomial Features with interaction on the selected features\n",
    "poly = PolynomialFeatures(degree=3, interaction_only=True)\n",
    "X_train = poly.fit_transform(X_train)\n",
    "X_test = poly.transform(X_test)\n",
    "\n",
    "print('X_train_poly shape:', X_train.shape)\n",
    "print('X_test_poly shape:', X_test.shape)\n"
   ]
  },
  {
   "cell_type": "code",
   "execution_count": null,
   "metadata": {},
   "outputs": [],
   "source": [
    "print(X_train.shape)"
   ]
  },
  {
   "cell_type": "code",
   "execution_count": null,
   "metadata": {},
   "outputs": [],
   "source": [
    "from tensorflow.keras import regularizers\n",
    "from tensorflow.keras.optimizers import RMSprop\n",
    "\n",
    "X_train = X_train.astype('float32')\n",
    "X_test = X_test.astype('float32')\n",
    "\n",
    "# Define your model with L2 regularization\n",
    "model = Sequential([\n",
    "    Input(shape=(X_train.shape[1],)),\n",
    "    Dense(128, activation='relu', kernel_regularizer=regularizers.l2(0.01)),\n",
    "    Dense(64, activation='relu', kernel_regularizer=regularizers.l2(0.01)),\n",
    "    Dense(1)\n",
    "])\n",
    "\n",
    "early_stopping = EarlyStopping(monitor='val_loss', patience=10, restore_best_weights=True)\n",
    "\n",
    "# Compile the model with RMSprop optimizer\n",
    "optimizer = RMSprop(learning_rate=0.001)  # You can adjust the learning rate\n",
    "model.compile(optimizer=optimizer,\n",
    "              loss='mean_squared_error',\n",
    "              metrics=[keras.metrics.RootMeanSquaredError(), 'mae'])\n",
    "\n",
    "# Fit the model\n",
    "model.fit(X_train, y, epochs=15, batch_size=32, verbose=1, validation_split=0.2, callbacks=[early_stopping])\n"
   ]
  },
  {
   "cell_type": "code",
   "execution_count": null,
   "metadata": {},
   "outputs": [],
   "source": [
    "\n",
    "model = Sequential([\n",
    "    keras.layers.Input(shape=(X_train.shape[1],)),\n",
    "    \n",
    "    keras.layers.Dense(128, activation='relu'),\n",
    "    keras.layers.Dense(64, activation='relu'),\n",
    "    keras.layers.Dense(32, activation='relu'),\n",
    "    \n",
    "    keras.layers.Dense(1)\n",
    "])\n",
    "\n",
    "# Define EarlyStopping callback\n",
    "early_stopping = EarlyStopping(monitor='val_loss', patience=10, restore_best_weights=True)\n",
    "\n",
    "model.compile(optimizer=custom_optimizer,\n",
    "              loss='mean_squared_error',\n",
    "              metrics=[tf.keras.metrics.RootMeanSquaredError(), 'mae'])\n",
    "\n",
    "model.fit(X_train, y, epochs=15, batch_size=32, verbose=1, validation_split=0.2, callbacks=[early_stopping])"
   ]
  },
  {
   "cell_type": "code",
   "execution_count": null,
   "metadata": {},
   "outputs": [],
   "source": [
    "from keras.models import Sequential\n",
    "from keras.layers import Dense, Dropout\n",
    "from keras import regularizers\n",
    "from keras.callbacks import EarlyStopping, ModelCheckpoint, LearningRateScheduler\n",
    "from sklearn.metrics import mean_squared_error\n",
    "from keras.optimizers import Adam, legacy\n",
    "import math\n",
    "\n",
    "\n",
    "# define the keras model\n",
    "model = Sequential()\n",
    "model.add(Dense(128, input_dim=X_train.shape[1], activation='relu'))\n",
    "#model.add(Dropout(0.2))  # Apply dropout with a rate of 0.2\n",
    "model.add(Dense(64, activation='relu'))#sigmoid\n",
    "# model.add(Dense(64, activation='relu'))#sigmoid\n",
    "model.add(Dense(32, activation='relu'))\n",
    "model.add(Dense(1, activation='linear'))\n",
    "\n",
    "# Add regularizers to the dense layers\n",
    "model.layers[1].kernel_regularizer = regularizers.l1(0.001)  # Apply L2 regularization with a factor of 0.01\n",
    "model.layers[2].kernel_regularizer = regularizers.l1(0.001)  # Apply L2 regularization with a factor of 0.01\n",
    "#model.layers[3].kernel_regularizer = regularizers.l1(0.001)  # Apply L2 regularization with a factor of 0.01\n",
    "\n",
    "opt = legacy.Adam(learning_rate=0.00021)  \n",
    "\n",
    "# compile the keras model\n",
    "model.compile(optimizer=opt, loss='mean_squared_error', metrics=['RootMeanSquaredError'])\n",
    "#apply early stoppping\n",
    "early_stopping_monitor = EarlyStopping(patience=5)\n",
    "#apply model checkpoint\n",
    "\n",
    "#fit the keras model on the dataset\n",
    "model.fit(X_train, y, epochs=50, batch_size=63, validation_split=0.2, callbacks=[early_stopping_monitor])"
   ]
  },
  {
   "cell_type": "code",
   "execution_count": null,
   "metadata": {},
   "outputs": [],
   "source": []
  },
  {
   "cell_type": "code",
   "execution_count": null,
   "metadata": {},
   "outputs": [],
   "source": [
    "scaler = StandardScaler()\n",
    "X_train = scaler.fit_transform(X_train)\n",
    "X_test = scaler.transform(X_test)\n"
   ]
  },
  {
   "cell_type": "code",
   "execution_count": null,
   "metadata": {},
   "outputs": [],
   "source": [
    "X_train = X_train.astype('float32')\n",
    "X_test = X_test.astype('float32')"
   ]
  },
  {
   "cell_type": "code",
   "execution_count": null,
   "metadata": {},
   "outputs": [],
   "source": [
    "test_predictions = model.predict(X_test).flatten()\n",
    "\n",
    "# Create a DataFrame with 'row ID' and predictions\n",
    "result_df = pd.DataFrame({'row ID': row_ids, 'price_doc': test_predictions})\n",
    "\n",
    "result_df.to_csv('predictions_55.csv', index=False)\n",
    "\n",
    "\n"
   ]
  },
  {
   "cell_type": "markdown",
   "metadata": {},
   "source": [
    "# Shahood\n",
    "\n",
    "\n"
   ]
  },
  {
   "cell_type": "code",
   "execution_count": null,
   "metadata": {},
   "outputs": [],
   "source": [
    "import os\n",
    "import torch\n",
    "os.environ[\"KERAS_BACKEND\"] = \"torch\"\n",
    "from keras.models import Sequential\n",
    "from keras.layers import Dense, Dropout"
   ]
  },
  {
   "cell_type": "code",
   "execution_count": null,
   "metadata": {},
   "outputs": [],
   "source": [
    "import pandas as pd\n",
    "import numpy as np\n",
    "from sklearn.preprocessing import LabelEncoder, StandardScaler\n",
    "from sklearn.model_selection import train_test_split\n",
    "from sklearn.linear_model import LinearRegression\n",
    "from sklearn.metrics import mean_squared_error\n",
    "from sklearn.model_selection import train_test_split\n",
    "from sklearn.preprocessing import PolynomialFeatures, StandardScaler, MinMaxScaler, RobustScaler\n",
    "from sklearn.linear_model import Lasso, Ridge\n",
    "from sklearn.neural_network import MLPRegressor\n",
    "\n",
    "from sklearn.linear_model import LinearRegression \n",
    "from sklearn.decomposition import PCA\n",
    "from sklearn.feature_selection import RFE, VarianceThreshold\n",
    "from sklearn.feature_selection import SequentialFeatureSelector\n",
    "from sklearn.tree import DecisionTreeRegressor\n",
    "from sklearn.ensemble import RandomForestRegressor\n",
    "from sklearn.linear_model import Lasso, Ridge\n",
    "from sklearn.feature_selection import SelectKBest\n",
    "from sklearn.feature_selection import f_regression\n",
    "\n",
    "\n"
   ]
  },
  {
   "cell_type": "code",
   "execution_count": null,
   "metadata": {},
   "outputs": [],
   "source": [
    "\n",
    "# Load the training and test data\n",
    "df_train_orig = pd.read_csv('train.csv')\n",
    "df_test_orig = pd.read_csv('test.csv')\n"
   ]
  },
  {
   "cell_type": "code",
   "execution_count": 126,
   "metadata": {},
   "outputs": [
    {
     "name": "stdout",
     "output_type": "stream",
     "text": [
      "X_train shape: (181507, 271)\n",
      "X_test shape: (77789, 271)\n"
     ]
    }
   ],
   "source": [
    "\n",
    "# Make a copy of the original data\n",
    "df_train = df_train_orig.copy()\n",
    "df_test = df_test_orig.copy()\n",
    "target_col = 'price_doc'\n",
    "row_id_col = 'row ID'\n",
    "\n",
    "row_ids = df_test['row ID']\n",
    "df_test.drop(['row ID'], axis=1, inplace=True)\n",
    "\n",
    "\n",
    "X_train = df_train.drop(columns=[target_col])\n",
    "y = df_train[target_col]\n",
    "\n",
    "\n",
    "\n",
    "X_test = df_test\n",
    "\n",
    "\n",
    "print('X_train shape:', X_train.shape)\n",
    "print('X_test shape:', X_test.shape)"
   ]
  },
  {
   "cell_type": "code",
   "execution_count": 127,
   "metadata": {},
   "outputs": [
    {
     "name": "stdout",
     "output_type": "stream",
     "text": [
      "X_train shape: (181507, 261)\n",
      "X_test shape: (77789, 261)\n"
     ]
    }
   ],
   "source": [
    "features_to_exclude = [\n",
    "    'ID_metro', \n",
    "    'ID_railroad_station_walk', \n",
    "    'ID_bus_terminal', \n",
    "    'cemetery_km', \n",
    "    'power_transmission_line_km', \n",
    "    'big_church_count_500', \n",
    "    'church_count_500', \n",
    "    'mosque_count_500', \n",
    "    'theater_km', \n",
    "    'museum_km'\n",
    "]\n",
    "X_train = X_train.drop(columns=features_to_exclude)\n",
    "X_test = X_test.drop(columns=features_to_exclude)\n",
    "\n",
    "print('X_train shape:', X_train.shape)\n",
    "print('X_test shape:', X_test.shape)"
   ]
  },
  {
   "cell_type": "code",
   "execution_count": 131,
   "metadata": {},
   "outputs": [
    {
     "name": "stdout",
     "output_type": "stream",
     "text": [
      "Selected Features: Index(['full_sq', 'life_sq', 'floor', 'product_type', 'sub_area', 'area_m',\n",
      "       'raion_popul', 'green_zone_part', 'indust_part', 'children_preschool',\n",
      "       ...\n",
      "       'cafe_count_5000_price_1500', 'cafe_count_5000_price_2500',\n",
      "       'cafe_count_5000_price_4000', 'cafe_count_5000_price_high',\n",
      "       'big_church_count_5000', 'church_count_5000', 'mosque_count_5000',\n",
      "       'leisure_count_5000', 'sport_count_5000', 'market_count_5000'],\n",
      "      dtype='object', length=260)\n",
      "X_train_selected shape: (181507, 260)\n",
      "X_test_selected shape: (77789, 260)\n"
     ]
    },
    {
     "name": "stderr",
     "output_type": "stream",
     "text": [
      "/var/folders/rv/nzq809hx0d388y5_yrh_nfbw0000gn/T/ipykernel_12324/2416623649.py:6: RuntimeWarning: divide by zero encountered in log\n",
      "  return -np.log(p_values)\n"
     ]
    }
   ],
   "source": [
    "from sklearn.feature_selection import SelectKBest, f_regression\n",
    "\n",
    "# Define a custom scoring function that returns -log(p-value)\n",
    "def p_value_score(X, y):\n",
    "    _, p_values = f_regression(X, y)\n",
    "    return -np.log(p_values)\n",
    "\n",
    "# Define the number of features you want to select\n",
    "num_features_to_select = 260  # Adjust this number as per your requirement\n",
    "\n",
    "# Initialize SelectKBest with the custom scoring function\n",
    "selector = SelectKBest(score_func=p_value_score, k=num_features_to_select)\n",
    "\n",
    "# Fit and transform X_train to select the best features\n",
    "X_train_selected = selector.fit_transform(X_train, y)\n",
    "\n",
    "# Get the indices of the selected features\n",
    "selected_feature_indices = selector.get_support(indices=True)\n",
    "\n",
    "# Get the names of the selected features\n",
    "selected_feature_names = X_train.columns[selected_feature_indices]\n",
    "\n",
    "# Transform X_test to keep only the selected features\n",
    "X_test_selected = X_test.iloc[:, selected_feature_indices]\n",
    "\n",
    "print('Selected Features:', selected_feature_names)\n",
    "print('X_train_selected shape:', X_train_selected.shape)\n",
    "print('X_test_selected shape:', X_test_selected.shape)\n"
   ]
  },
  {
   "cell_type": "code",
   "execution_count": 132,
   "metadata": {},
   "outputs": [
    {
     "name": "stdout",
     "output_type": "stream",
     "text": [
      "(181507, 260)\n",
      "(77789, 260)\n"
     ]
    }
   ],
   "source": [
    "X_train = X_train_selected\n",
    "X_test = X_test_selected\n",
    "\n",
    "print(X_train.shape)\n",
    "print(X_test.shape)"
   ]
  },
  {
   "cell_type": "code",
   "execution_count": null,
   "metadata": {},
   "outputs": [],
   "source": [
    "X_train = X_train.drop(columns=['sub_area'])\n",
    "X_test = X_test.drop(columns=['sub_area'])\n",
    "\n",
    "print('X_train shape:', X_train.shape)\n",
    "print('X_test shape:', X_test.shape)"
   ]
  },
  {
   "cell_type": "code",
   "execution_count": 130,
   "metadata": {},
   "outputs": [
    {
     "name": "stdout",
     "output_type": "stream",
     "text": [
      "X_train shape: (181507, 261)\n",
      "X_test shape: (77789, 261)\n"
     ]
    }
   ],
   "source": [
    "X_train = pd.get_dummies(X_train, drop_first=True)\n",
    "X_test = pd.get_dummies(X_test, drop_first=True)\n",
    "\n",
    "print('X_train shape:', X_train.shape)\n",
    "print('X_test shape:', X_test.shape)"
   ]
  },
  {
   "cell_type": "code",
   "execution_count": 133,
   "metadata": {},
   "outputs": [
    {
     "name": "stdout",
     "output_type": "stream",
     "text": [
      "X_train shape: (181507, 260)\n",
      "X_test shape: (77789, 260)\n"
     ]
    }
   ],
   "source": [
    "\n",
    "print('X_train shape:', X_train.shape)\n",
    "print('X_test shape:', X_test.shape)"
   ]
  },
  {
   "cell_type": "code",
   "execution_count": 129,
   "metadata": {},
   "outputs": [],
   "source": [
    "# Identify categorical columns\n",
    "categorical_cols = X_train.select_dtypes(include=['object', 'category']).columns\n",
    "\n",
    "#'''\n",
    "# Apply label encoding to each categorical column\n",
    "for col in categorical_cols:\n",
    "    le = LabelEncoder()\n",
    "    # Fill missing values with a placeholder string\n",
    "    #X_train[col] = X_train[col].fillna('Missing')\n",
    "    X_train[col] = le.fit_transform(X_train[col])\n",
    "    #X_test[col] = X_test[col].fillna('Missing')\n",
    "    X_test[col] = le.transform(X_test[col])\n",
    "    "
   ]
  },
  {
   "cell_type": "code",
   "execution_count": null,
   "metadata": {},
   "outputs": [],
   "source": [
    "scaler = StandardScaler()\n",
    "X_train = scaler.fit_transform(X_train)\n",
    "X_test = scaler.transform(X_test)\n",
    "\n",
    "print(X_train.shape[1])"
   ]
  },
  {
   "cell_type": "code",
   "execution_count": null,
   "metadata": {},
   "outputs": [],
   "source": [
    "print(type(X_train))\n",
    "print(type(X_test))\n",
    "\n",
    "print(X_train.shape)\n",
    "print(X_test.shape)"
   ]
  },
  {
   "cell_type": "code",
   "execution_count": 138,
   "metadata": {},
   "outputs": [
    {
     "name": "stdout",
     "output_type": "stream",
     "text": [
      "X_train shape: (181507, 50)\n",
      "X_test shape: (77789, 50)\n"
     ]
    }
   ],
   "source": [
    "dt_regressor = DecisionTreeRegressor(random_state=42, max_depth=6)\n",
    "dt_regressor.fit(X_train, y)\n",
    "\n",
    "# Calculate Feature Importance\n",
    "feature_importance = dt_regressor.feature_importances_\n",
    "\n",
    "# Select Important Features\n",
    "num_features_to_keep = 50\n",
    "top_feature_indices = feature_importance.argsort()[-num_features_to_keep:][::-1]\n",
    "# X_train = X_train.iloc[:, top_feature_indices]\n",
    "# X_test = X_test.iloc[:, top_feature_indices]\n",
    "X_train = X_train[:, top_feature_indices]\n",
    "X_test = X_test[:, top_feature_indices]\n",
    "\n",
    "print('X_train shape:', X_train.shape)\n",
    "print('X_test shape:', X_test.shape)"
   ]
  },
  {
   "cell_type": "code",
   "execution_count": 137,
   "metadata": {},
   "outputs": [
    {
     "ename": "KeyboardInterrupt",
     "evalue": "",
     "output_type": "error",
     "traceback": [
      "\u001b[0;31m---------------------------------------------------------------------------\u001b[0m",
      "\u001b[0;31mKeyboardInterrupt\u001b[0m                         Traceback (most recent call last)",
      "\u001b[1;32m/Users/yahyaahmedkhan/Downloads/iml-second-competition-regression-analysis/new5.ipynb Cell 38\u001b[0m line \u001b[0;36m8\n\u001b[1;32m      <a href='vscode-notebook-cell:/Users/yahyaahmedkhan/Downloads/iml-second-competition-regression-analysis/new5.ipynb#X52sZmlsZQ%3D%3D?line=4'>5</a>\u001b[0m rfecv \u001b[39m=\u001b[39m RFECV(estimator\u001b[39m=\u001b[39mdt_regressor)  \u001b[39m# Set n_features_to_select to 40\u001b[39;00m\n\u001b[1;32m      <a href='vscode-notebook-cell:/Users/yahyaahmedkhan/Downloads/iml-second-competition-regression-analysis/new5.ipynb#X52sZmlsZQ%3D%3D?line=6'>7</a>\u001b[0m \u001b[39m# Fit the RFECV selector to the training data\u001b[39;00m\n\u001b[0;32m----> <a href='vscode-notebook-cell:/Users/yahyaahmedkhan/Downloads/iml-second-competition-regression-analysis/new5.ipynb#X52sZmlsZQ%3D%3D?line=7'>8</a>\u001b[0m rfecv\u001b[39m.\u001b[39;49mfit(X_train, y)\n\u001b[1;32m     <a href='vscode-notebook-cell:/Users/yahyaahmedkhan/Downloads/iml-second-competition-regression-analysis/new5.ipynb#X52sZmlsZQ%3D%3D?line=9'>10</a>\u001b[0m \u001b[39m# Get the indices of the selected features\u001b[39;00m\n\u001b[1;32m     <a href='vscode-notebook-cell:/Users/yahyaahmedkhan/Downloads/iml-second-competition-regression-analysis/new5.ipynb#X52sZmlsZQ%3D%3D?line=10'>11</a>\u001b[0m selected_feature_indices \u001b[39m=\u001b[39m rfecv\u001b[39m.\u001b[39msupport_\n",
      "File \u001b[0;32m~/miniconda3/envs/tfenv2/lib/python3.10/site-packages/sklearn/base.py:1151\u001b[0m, in \u001b[0;36m_fit_context.<locals>.decorator.<locals>.wrapper\u001b[0;34m(estimator, *args, **kwargs)\u001b[0m\n\u001b[1;32m   1144\u001b[0m     estimator\u001b[39m.\u001b[39m_validate_params()\n\u001b[1;32m   1146\u001b[0m \u001b[39mwith\u001b[39;00m config_context(\n\u001b[1;32m   1147\u001b[0m     skip_parameter_validation\u001b[39m=\u001b[39m(\n\u001b[1;32m   1148\u001b[0m         prefer_skip_nested_validation \u001b[39mor\u001b[39;00m global_skip_validation\n\u001b[1;32m   1149\u001b[0m     )\n\u001b[1;32m   1150\u001b[0m ):\n\u001b[0;32m-> 1151\u001b[0m     \u001b[39mreturn\u001b[39;00m fit_method(estimator, \u001b[39m*\u001b[39;49margs, \u001b[39m*\u001b[39;49m\u001b[39m*\u001b[39;49mkwargs)\n",
      "File \u001b[0;32m~/miniconda3/envs/tfenv2/lib/python3.10/site-packages/sklearn/feature_selection/_rfe.py:726\u001b[0m, in \u001b[0;36mRFECV.fit\u001b[0;34m(self, X, y, groups)\u001b[0m\n\u001b[1;32m    723\u001b[0m     parallel \u001b[39m=\u001b[39m Parallel(n_jobs\u001b[39m=\u001b[39m\u001b[39mself\u001b[39m\u001b[39m.\u001b[39mn_jobs)\n\u001b[1;32m    724\u001b[0m     func \u001b[39m=\u001b[39m delayed(_rfe_single_fit)\n\u001b[0;32m--> 726\u001b[0m scores \u001b[39m=\u001b[39m parallel(\n\u001b[1;32m    727\u001b[0m     func(rfe, \u001b[39mself\u001b[39;49m\u001b[39m.\u001b[39;49mestimator, X, y, train, test, scorer)\n\u001b[1;32m    728\u001b[0m     \u001b[39mfor\u001b[39;49;00m train, test \u001b[39min\u001b[39;49;00m cv\u001b[39m.\u001b[39;49msplit(X, y, groups)\n\u001b[1;32m    729\u001b[0m )\n\u001b[1;32m    731\u001b[0m scores \u001b[39m=\u001b[39m np\u001b[39m.\u001b[39marray(scores)\n\u001b[1;32m    732\u001b[0m scores_sum \u001b[39m=\u001b[39m np\u001b[39m.\u001b[39msum(scores, axis\u001b[39m=\u001b[39m\u001b[39m0\u001b[39m)\n",
      "File \u001b[0;32m~/miniconda3/envs/tfenv2/lib/python3.10/site-packages/sklearn/feature_selection/_rfe.py:727\u001b[0m, in \u001b[0;36m<genexpr>\u001b[0;34m(.0)\u001b[0m\n\u001b[1;32m    723\u001b[0m     parallel \u001b[39m=\u001b[39m Parallel(n_jobs\u001b[39m=\u001b[39m\u001b[39mself\u001b[39m\u001b[39m.\u001b[39mn_jobs)\n\u001b[1;32m    724\u001b[0m     func \u001b[39m=\u001b[39m delayed(_rfe_single_fit)\n\u001b[1;32m    726\u001b[0m scores \u001b[39m=\u001b[39m parallel(\n\u001b[0;32m--> 727\u001b[0m     func(rfe, \u001b[39mself\u001b[39;49m\u001b[39m.\u001b[39;49mestimator, X, y, train, test, scorer)\n\u001b[1;32m    728\u001b[0m     \u001b[39mfor\u001b[39;00m train, test \u001b[39min\u001b[39;00m cv\u001b[39m.\u001b[39msplit(X, y, groups)\n\u001b[1;32m    729\u001b[0m )\n\u001b[1;32m    731\u001b[0m scores \u001b[39m=\u001b[39m np\u001b[39m.\u001b[39marray(scores)\n\u001b[1;32m    732\u001b[0m scores_sum \u001b[39m=\u001b[39m np\u001b[39m.\u001b[39msum(scores, axis\u001b[39m=\u001b[39m\u001b[39m0\u001b[39m)\n",
      "File \u001b[0;32m~/miniconda3/envs/tfenv2/lib/python3.10/site-packages/sklearn/feature_selection/_rfe.py:32\u001b[0m, in \u001b[0;36m_rfe_single_fit\u001b[0;34m(rfe, estimator, X, y, train, test, scorer)\u001b[0m\n\u001b[1;32m     30\u001b[0m X_train, y_train \u001b[39m=\u001b[39m _safe_split(estimator, X, y, train)\n\u001b[1;32m     31\u001b[0m X_test, y_test \u001b[39m=\u001b[39m _safe_split(estimator, X, y, test, train)\n\u001b[0;32m---> 32\u001b[0m \u001b[39mreturn\u001b[39;00m rfe\u001b[39m.\u001b[39;49m_fit(\n\u001b[1;32m     33\u001b[0m     X_train,\n\u001b[1;32m     34\u001b[0m     y_train,\n\u001b[1;32m     35\u001b[0m     \u001b[39mlambda\u001b[39;49;00m estimator, features: _score(\n\u001b[1;32m     36\u001b[0m         estimator, X_test[:, features], y_test, scorer\n\u001b[1;32m     37\u001b[0m     ),\n\u001b[1;32m     38\u001b[0m )\u001b[39m.\u001b[39mscores_\n",
      "File \u001b[0;32m~/miniconda3/envs/tfenv2/lib/python3.10/site-packages/sklearn/feature_selection/_rfe.py:297\u001b[0m, in \u001b[0;36mRFE._fit\u001b[0;34m(self, X, y, step_score, **fit_params)\u001b[0m\n\u001b[1;32m    294\u001b[0m \u001b[39mif\u001b[39;00m \u001b[39mself\u001b[39m\u001b[39m.\u001b[39mverbose \u001b[39m>\u001b[39m \u001b[39m0\u001b[39m:\n\u001b[1;32m    295\u001b[0m     \u001b[39mprint\u001b[39m(\u001b[39m\"\u001b[39m\u001b[39mFitting estimator with \u001b[39m\u001b[39m%d\u001b[39;00m\u001b[39m features.\u001b[39m\u001b[39m\"\u001b[39m \u001b[39m%\u001b[39m np\u001b[39m.\u001b[39msum(support_))\n\u001b[0;32m--> 297\u001b[0m estimator\u001b[39m.\u001b[39;49mfit(X[:, features], y, \u001b[39m*\u001b[39;49m\u001b[39m*\u001b[39;49mfit_params)\n\u001b[1;32m    299\u001b[0m \u001b[39m# Get importance and rank them\u001b[39;00m\n\u001b[1;32m    300\u001b[0m importances \u001b[39m=\u001b[39m _get_feature_importances(\n\u001b[1;32m    301\u001b[0m     estimator,\n\u001b[1;32m    302\u001b[0m     \u001b[39mself\u001b[39m\u001b[39m.\u001b[39mimportance_getter,\n\u001b[1;32m    303\u001b[0m     transform_func\u001b[39m=\u001b[39m\u001b[39m\"\u001b[39m\u001b[39msquare\u001b[39m\u001b[39m\"\u001b[39m,\n\u001b[1;32m    304\u001b[0m )\n",
      "File \u001b[0;32m~/miniconda3/envs/tfenv2/lib/python3.10/site-packages/sklearn/base.py:1151\u001b[0m, in \u001b[0;36m_fit_context.<locals>.decorator.<locals>.wrapper\u001b[0;34m(estimator, *args, **kwargs)\u001b[0m\n\u001b[1;32m   1144\u001b[0m     estimator\u001b[39m.\u001b[39m_validate_params()\n\u001b[1;32m   1146\u001b[0m \u001b[39mwith\u001b[39;00m config_context(\n\u001b[1;32m   1147\u001b[0m     skip_parameter_validation\u001b[39m=\u001b[39m(\n\u001b[1;32m   1148\u001b[0m         prefer_skip_nested_validation \u001b[39mor\u001b[39;00m global_skip_validation\n\u001b[1;32m   1149\u001b[0m     )\n\u001b[1;32m   1150\u001b[0m ):\n\u001b[0;32m-> 1151\u001b[0m     \u001b[39mreturn\u001b[39;00m fit_method(estimator, \u001b[39m*\u001b[39;49margs, \u001b[39m*\u001b[39;49m\u001b[39m*\u001b[39;49mkwargs)\n",
      "File \u001b[0;32m~/miniconda3/envs/tfenv2/lib/python3.10/site-packages/sklearn/tree/_classes.py:1320\u001b[0m, in \u001b[0;36mDecisionTreeRegressor.fit\u001b[0;34m(self, X, y, sample_weight, check_input)\u001b[0m\n\u001b[1;32m   1290\u001b[0m \u001b[39m@_fit_context\u001b[39m(prefer_skip_nested_validation\u001b[39m=\u001b[39m\u001b[39mTrue\u001b[39;00m)\n\u001b[1;32m   1291\u001b[0m \u001b[39mdef\u001b[39;00m \u001b[39mfit\u001b[39m(\u001b[39mself\u001b[39m, X, y, sample_weight\u001b[39m=\u001b[39m\u001b[39mNone\u001b[39;00m, check_input\u001b[39m=\u001b[39m\u001b[39mTrue\u001b[39;00m):\n\u001b[1;32m   1292\u001b[0m \u001b[39m    \u001b[39m\u001b[39m\"\"\"Build a decision tree regressor from the training set (X, y).\u001b[39;00m\n\u001b[1;32m   1293\u001b[0m \n\u001b[1;32m   1294\u001b[0m \u001b[39m    Parameters\u001b[39;00m\n\u001b[0;32m   (...)\u001b[0m\n\u001b[1;32m   1317\u001b[0m \u001b[39m        Fitted estimator.\u001b[39;00m\n\u001b[1;32m   1318\u001b[0m \u001b[39m    \"\"\"\u001b[39;00m\n\u001b[0;32m-> 1320\u001b[0m     \u001b[39msuper\u001b[39;49m()\u001b[39m.\u001b[39;49m_fit(\n\u001b[1;32m   1321\u001b[0m         X,\n\u001b[1;32m   1322\u001b[0m         y,\n\u001b[1;32m   1323\u001b[0m         sample_weight\u001b[39m=\u001b[39;49msample_weight,\n\u001b[1;32m   1324\u001b[0m         check_input\u001b[39m=\u001b[39;49mcheck_input,\n\u001b[1;32m   1325\u001b[0m     )\n\u001b[1;32m   1326\u001b[0m     \u001b[39mreturn\u001b[39;00m \u001b[39mself\u001b[39m\n",
      "File \u001b[0;32m~/miniconda3/envs/tfenv2/lib/python3.10/site-packages/sklearn/tree/_classes.py:443\u001b[0m, in \u001b[0;36mBaseDecisionTree._fit\u001b[0;34m(self, X, y, sample_weight, check_input, missing_values_in_feature_mask)\u001b[0m\n\u001b[1;32m    432\u001b[0m \u001b[39melse\u001b[39;00m:\n\u001b[1;32m    433\u001b[0m     builder \u001b[39m=\u001b[39m BestFirstTreeBuilder(\n\u001b[1;32m    434\u001b[0m         splitter,\n\u001b[1;32m    435\u001b[0m         min_samples_split,\n\u001b[0;32m   (...)\u001b[0m\n\u001b[1;32m    440\u001b[0m         \u001b[39mself\u001b[39m\u001b[39m.\u001b[39mmin_impurity_decrease,\n\u001b[1;32m    441\u001b[0m     )\n\u001b[0;32m--> 443\u001b[0m builder\u001b[39m.\u001b[39;49mbuild(\u001b[39mself\u001b[39;49m\u001b[39m.\u001b[39;49mtree_, X, y, sample_weight, missing_values_in_feature_mask)\n\u001b[1;32m    445\u001b[0m \u001b[39mif\u001b[39;00m \u001b[39mself\u001b[39m\u001b[39m.\u001b[39mn_outputs_ \u001b[39m==\u001b[39m \u001b[39m1\u001b[39m \u001b[39mand\u001b[39;00m is_classifier(\u001b[39mself\u001b[39m):\n\u001b[1;32m    446\u001b[0m     \u001b[39mself\u001b[39m\u001b[39m.\u001b[39mn_classes_ \u001b[39m=\u001b[39m \u001b[39mself\u001b[39m\u001b[39m.\u001b[39mn_classes_[\u001b[39m0\u001b[39m]\n",
      "\u001b[0;31mKeyboardInterrupt\u001b[0m: "
     ]
    }
   ],
   "source": [
    "from sklearn.feature_selection import RFECV\n",
    "\n",
    "dt_regressor = DecisionTreeRegressor(random_state=42, max_depth=4)\n",
    "\n",
    "rfecv = RFECV(estimator=dt_regressor)  # Set n_features_to_select to 40\n",
    "\n",
    "# Fit the RFECV selector to the training data\n",
    "rfecv.fit(X_train, y)\n",
    "\n",
    "# Get the indices of the selected features\n",
    "selected_feature_indices = rfecv.support_\n",
    "\n",
    "# Select the important features from the original dataset\n",
    "X_train = X_train[:, selected_feature_indices]\n",
    "X_test = X_test[:, selected_feature_indices]\n",
    "\n",
    "print('X_train shape:', X_train.shape)\n",
    "print('X_test shape:', X_test.shape)\n"
   ]
  },
  {
   "cell_type": "code",
   "execution_count": 135,
   "metadata": {},
   "outputs": [
    {
     "name": "stdout",
     "output_type": "stream",
     "text": [
      "X_train shape: (181507, 234)\n",
      "X_test shape: (77789, 234)\n"
     ]
    }
   ],
   "source": [
    "from sklearn.feature_selection import VarianceThreshold\n",
    "\n",
    "# Define a threshold for variance (adjust as needed)\n",
    "variance_threshold = 1\n",
    "\n",
    "# Initialize the VarianceThreshold selector\n",
    "selector = VarianceThreshold(threshold=variance_threshold)\n",
    "\n",
    "# Fit and transform the selector on your selected feature matrix\n",
    "X_train = selector.fit_transform(X_train)\n",
    "X_test = selector.transform(X_test)\n",
    "\n",
    "print('X_train shape:', X_train.shape)\n",
    "print('X_test shape:', X_test.shape)"
   ]
  },
  {
   "cell_type": "code",
   "execution_count": null,
   "metadata": {},
   "outputs": [],
   "source": [
    "\n",
    "# Define the linear regression model\n",
    "lr = LinearRegression()\n",
    "\n",
    "# Forward Feature Selection\n",
    "sfs = SequentialFeatureSelector(lr, n_features_to_select=5, direction='forward', scoring='neg_mean_squared_error', n_jobs=3)\n",
    "sfs.fit(X_train, y)\n",
    "\n",
    "# Get the mask of selected features\n",
    "selected_features = sfs.get_support()\n",
    "\n"
   ]
  },
  {
   "cell_type": "code",
   "execution_count": null,
   "metadata": {},
   "outputs": [],
   "source": [
    "poly = PolynomialFeatures(degree=3, interaction_only=True)\n",
    "X_train = poly.fit_transform(X_train)\n",
    "X_test = poly.transform(X_test)\n",
    "\n",
    "print('X_train_poly shape:', X_train.shape)\n",
    "print('X_test_poly shape:', X_test.shape)"
   ]
  },
  {
   "cell_type": "code",
   "execution_count": null,
   "metadata": {},
   "outputs": [],
   "source": [
    "X_test = X_test.values\n"
   ]
  },
  {
   "cell_type": "code",
   "execution_count": null,
   "metadata": {},
   "outputs": [],
   "source": [
    "X_train = X_train_selected\n",
    "X_test = X_test_selected\n",
    "\n",
    "print(X_train.shape)\n",
    "print(X_test.shape)"
   ]
  },
  {
   "cell_type": "code",
   "execution_count": null,
   "metadata": {},
   "outputs": [],
   "source": [
    "X_train\n",
    "type(X_test)"
   ]
  },
  {
   "cell_type": "code",
   "execution_count": null,
   "metadata": {},
   "outputs": [],
   "source": [
    "X_train = X_train[:, selected_features]\n",
    "X_test = X_test[:, selected_features]\n",
    "\n",
    "# Check the shape of the resulting X_train and X_test\n",
    "print(X_train.shape)\n",
    "print(X_test.shape)\n"
   ]
  },
  {
   "cell_type": "code",
   "execution_count": null,
   "metadata": {},
   "outputs": [],
   "source": [
    "print(X_train.shape)\n",
    "print(X_test.shape)"
   ]
  },
  {
   "cell_type": "code",
   "execution_count": null,
   "metadata": {},
   "outputs": [],
   "source": []
  },
  {
   "cell_type": "code",
   "execution_count": 136,
   "metadata": {},
   "outputs": [
    {
     "name": "stdout",
     "output_type": "stream",
     "text": [
      "100\n"
     ]
    }
   ],
   "source": [
    "\n",
    "# Perform PCA to reduce dimensionality to 240 components\n",
    "n_components = 100\n",
    "pca = PCA(n_components=n_components)\n",
    "X_train = pca.fit_transform(X_train)\n",
    "X_test = pca.transform(X_test)\n",
    "\n",
    "# Now X_train_pca and X_test_pca contain the top 240 principal components\n",
    "print(X_train.shape[1])"
   ]
  },
  {
   "cell_type": "code",
   "execution_count": 139,
   "metadata": {},
   "outputs": [],
   "source": [
    "X_train, X_val, y_train, y_val = train_test_split(X_train, y, test_size=0.2, random_state=43)"
   ]
  },
  {
   "cell_type": "code",
   "execution_count": null,
   "metadata": {},
   "outputs": [],
   "source": [
    "print(X_train.shape)\n",
    "print(X_val.shape)"
   ]
  },
  {
   "cell_type": "code",
   "execution_count": null,
   "metadata": {},
   "outputs": [],
   "source": [
    "model = DecisionTreeRegressor(max_depth=8, random_state=42, min_samples_leaf=10)\n",
    "model.fit(X_train, y_train)\n",
    "\n",
    "# Make predictions on the validation data\n",
    "val_predictions = model.predict(X_val)\n",
    "print('RMSE:', np.sqrt(mean_squared_error(y_val, val_predictions)))"
   ]
  },
  {
   "cell_type": "code",
   "execution_count": null,
   "metadata": {},
   "outputs": [],
   "source": [
    "import xgboost as xgb\n",
    "\n",
    "# Create an XGBoost regressor\n",
    "model = xgb.XGBRegressor(n_estimators=100, max_depth=10, random_state=42, learning_rate=0.1, min_child_weight=10)\n",
    "model.fit(X_train, y_train)\n",
    "\n",
    "# Make predictions on the validation data\n",
    "val_predictions = model.predict(X_val)\n",
    "print('RMSE:', np.sqrt(mean_squared_error(y_val, val_predictions)))"
   ]
  },
  {
   "cell_type": "code",
   "execution_count": 144,
   "metadata": {},
   "outputs": [
    {
     "name": "stderr",
     "output_type": "stream",
     "text": [
      "[Parallel(n_jobs=3)]: Using backend ThreadingBackend with 3 concurrent workers.\n"
     ]
    },
    {
     "name": "stdout",
     "output_type": "stream",
     "text": [
      "building tree 1 of 30building tree 2 of 30\n",
      "\n",
      "building tree 3 of 30\n",
      "building tree 4 of 30\n",
      "building tree 5 of 30\n",
      "building tree 6 of 30\n",
      "building tree 7 of 30\n",
      "building tree 8 of 30\n",
      "building tree 9 of 30\n",
      "building tree 10 of 30\n",
      "building tree 11 of 30\n",
      "building tree 12 of 30\n",
      "building tree 13 of 30\n",
      "building tree 14 of 30\n",
      "building tree 15 of 30\n",
      "building tree 16 of 30\n",
      "building tree 17 of 30\n",
      "building tree 18 of 30\n",
      "building tree 19 of 30\n",
      "building tree 20 of 30\n",
      "building tree 21 of 30\n",
      "building tree 22 of 30\n",
      "building tree 23 of 30\n",
      "building tree 24 of 30\n",
      "building tree 25 of 30\n",
      "building tree 26 of 30\n",
      "building tree 27 of 30\n",
      "building tree 28 of 30\n",
      "building tree 29 of 30\n",
      "building tree 30 of 30\n",
      "RMSE: 13026866.76516609\n"
     ]
    },
    {
     "name": "stderr",
     "output_type": "stream",
     "text": [
      "[Parallel(n_jobs=3)]: Done  30 out of  30 | elapsed:   46.3s finished\n",
      "[Parallel(n_jobs=3)]: Using backend ThreadingBackend with 3 concurrent workers.\n",
      "[Parallel(n_jobs=3)]: Done  30 out of  30 | elapsed:    0.0s finished\n"
     ]
    }
   ],
   "source": [
    "# Create a Randomforest regressor\n",
    "model = RandomForestRegressor(n_estimators=30, max_depth=8, random_state=42, min_samples_leaf=10, n_jobs=3, verbose=2)\n",
    "model.fit(X_train, y_train)\n",
    "\n",
    "# Make predictions on the validation data\n",
    "val_predictions = model.predict(X_val)\n",
    "print('RMSE:', np.sqrt(mean_squared_error(y_val, val_predictions)))"
   ]
  },
  {
   "cell_type": "code",
   "execution_count": null,
   "metadata": {},
   "outputs": [],
   "source": [
    "import catboost as cb\n",
    "\n",
    "model = cb.CatBoostRegressor(n_estimators=200, max_depth=10, random_state=42, learning_rate=0.01)\n",
    "model.fit(X_train, y_train, verbose=0)\n",
    "\n",
    "# Make predictions on the validation data\n",
    "val_predictions = model.predict(X_val)\n",
    "print('RMSE:', np.sqrt(mean_squared_error(y_val, val_predictions)))"
   ]
  },
  {
   "cell_type": "code",
   "execution_count": null,
   "metadata": {},
   "outputs": [],
   "source": [
    "# Create a lightgbm regressor\n",
    "import lightgbm as lgb\n",
    "\n",
    "model = lgb.LGBMRegressor(n_estimators=370, max_depth=11, random_state=42, learning_rate=0.01)\n",
    "model.fit(X_train, y_train)\n",
    "\n",
    "# Make predictions on the validation data\n",
    "val_predictions = model.predict(X_val)\n",
    "print('RMSE:', np.sqrt(mean_squared_error(y_val, val_predictions)))"
   ]
  },
  {
   "cell_type": "code",
   "execution_count": null,
   "metadata": {},
   "outputs": [],
   "source": [
    "# Create a gradient boosting regressor\n",
    "from sklearn.ensemble import GradientBoostingRegressor\n",
    "\n",
    "model = GradientBoostingRegressor(n_estimators=40, max_depth=10, random_state=42)\n",
    "model.fit(X_train, y_train)\n",
    "\n",
    "# Make predictions on the validation data\n",
    "val_predictions = model.predict(X_val)\n",
    "print('RMSE:', np.sqrt(mean_squared_error(y_val, val_predictions)))"
   ]
  },
  {
   "cell_type": "code",
   "execution_count": null,
   "metadata": {},
   "outputs": [],
   "source": [
    "from keras.models import Sequential\n",
    "from keras.layers import Dense, Dropout\n",
    "from keras import regularizers\n",
    "from keras import optimizers\n",
    "from keras.callbacks import EarlyStopping, ModelCheckpoint\n",
    "from keras.models import load_model\n",
    "from sklearn.metrics import mean_squared_error\n",
    "from keras.optimizers import SGD, RMSprop, Adagrad, Adadelta, Nadam\n",
    "from keras.optimizers import legacy\n",
    "\n",
    "# define the keras model\n",
    "model = Sequential()\n",
    "\n",
    "model.add(Dense(128, input_dim=X_train.shape[1], activation='relu'))\n",
    "# model.add(Dropout(0.2))  # Apply dropout with a rate of 0.2\n",
    "# model.add(Dense(128, activation='relu'))#sigmoid\n",
    "# model.add(Dense(128, activation='relu'))#sigmoid\n",
    "\n",
    "model.add(Dense(64, activation='relu'))#sigmoid\n",
    "# model.add(Dense(32, activation='relu'))\n",
    "model.add(Dense(1, activation='linear'))\n",
    "\n",
    "# Add regularizers to the dense layers\n",
    "model.layers[1].kernel_regularizer = regularizers.l1(0.001)  # Apply L2 regularization with a factor of 0.01\n",
    "model.layers[2].kernel_regularizer = regularizers.l1(0.001)  # Apply L2 regularization with a factor of 0.01\n",
    "# model.layers[3].kernel_regularizer = regularizers.l1(0.001)  # Apply L2 regularization with a factor of 0.01\n",
    "# model.layers[4].kernel_regularizer = regularizers.l1(0.001)  # Apply L2 regularization with a factor of 0.01\n",
    "#model.layers[3].kernel_regularizer = regularizers.l1(0.001)  # Apply L2 regularization with a factor of 0.01\n",
    "\n",
    "optimizers = {\n",
    "    \"SGD\": SGD(learning_rate=0.01, momentum=0.9),\n",
    "    \"RMSprop\": RMSprop(learning_rate=0.01, rho=0.9),\n",
    "    \"Adagrad\": Adagrad(learning_rate=0.01),\n",
    "    \"Adadelta\": Adadelta(learning_rate=1.0, rho=0.95),\n",
    "    \"Nadam\": Nadam(learning_rate=0.002, beta_1=0.9, beta_2=0.999)\n",
    "}\n",
    "\n",
    "opt = legacy.Adam(learning_rate=0.001)  \n",
    "# opt = optimizers[\"RMSprop\"]\n",
    "\n",
    "# compile the keras model\n",
    "model.compile(optimizer=opt, loss='mean_squared_error', metrics=['RootMeanSquaredError'])\n",
    "#apply early stoppping\n",
    "early_stopping_monitor = EarlyStopping(patience=5)\n",
    "#apply model checkpoint\n",
    "\n",
    "#fit the keras model on the dataset\n",
    "model.fit(X_train, y_train, epochs=100, batch_size=128, validation_data=(X_val, y_val), callbacks=[early_stopping_monitor])"
   ]
  },
  {
   "cell_type": "code",
   "execution_count": null,
   "metadata": {},
   "outputs": [],
   "source": [
    "#calculate rmse\n",
    "y_val_pred = model.predict(X_val)\n",
    "val_rmse = np.sqrt(mean_squared_error(y_val, y_val_pred))\n",
    "print('Validation RMSE:', val_rmse)"
   ]
  },
  {
   "cell_type": "code",
   "execution_count": 145,
   "metadata": {},
   "outputs": [
    {
     "name": "stderr",
     "output_type": "stream",
     "text": [
      "[Parallel(n_jobs=3)]: Using backend ThreadingBackend with 3 concurrent workers.\n",
      "[Parallel(n_jobs=3)]: Done  30 out of  30 | elapsed:    0.0s finished\n"
     ]
    }
   ],
   "source": [
    "test_predictions = model.predict(X_test).flatten()\n",
    "\n",
    "# Create a DataFrame with 'row ID' and predictions\n",
    "result_df = pd.DataFrame({'row ID': row_ids, 'price_doc': test_predictions})\n",
    "\n",
    "result_df.to_csv('predictions_87.csv', index=False)\n"
   ]
  },
  {
   "cell_type": "code",
   "execution_count": null,
   "metadata": {},
   "outputs": [],
   "source": []
  }
 ],
 "metadata": {
  "kernelspec": {
   "display_name": "imlenv",
   "language": "python",
   "name": "python3"
  },
  "language_info": {
   "codemirror_mode": {
    "name": "ipython",
    "version": 3
   },
   "file_extension": ".py",
   "mimetype": "text/x-python",
   "name": "python",
   "nbconvert_exporter": "python",
   "pygments_lexer": "ipython3",
   "version": "3.10.13"
  }
 },
 "nbformat": 4,
 "nbformat_minor": 2
}
