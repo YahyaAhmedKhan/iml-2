{
 "cells": [
  {
   "cell_type": "code",
   "execution_count": null,
   "metadata": {},
   "outputs": [],
   "source": [
    "import os\n",
    "import torch\n",
    "os.environ[\"KERAS_BACKEND\"] = \"torch\"\n",
    "from keras.models import Sequential\n",
    "from keras.layers import Dense, Dropout"
   ]
  },
  {
   "cell_type": "code",
   "execution_count": null,
   "metadata": {},
   "outputs": [],
   "source": [
    "import pandas as pd\n",
    "import numpy as np\n",
    "from sklearn.preprocessing import LabelEncoder, StandardScaler\n",
    "from sklearn.model_selection import train_test_split\n",
    "from sklearn.linear_model import LinearRegression\n",
    "from sklearn.metrics import mean_squared_error\n",
    "from sklearn.model_selection import train_test_split\n",
    "from sklearn.preprocessing import PolynomialFeatures, StandardScaler, MinMaxScaler, RobustScaler\n",
    "from sklearn.linear_model import Lasso, Ridge\n",
    "from sklearn.neural_network import MLPRegressor\n",
    "\n",
    "from sklearn.linear_model import LinearRegression\n",
    "from sklearn.decomposition import PCA\n",
    "from sklearn.feature_selection import RFE, VarianceThreshold\n",
    "from sklearn.feature_selection import SequentialFeatureSelector\n",
    "from sklearn.tree import DecisionTreeRegressor\n",
    "from sklearn.linear_model import Lasso, Ridge\n",
    "from sklearn.feature_selection import SelectKBest\n",
    "from sklearn.feature_selection import f_regression\n",
    "\n",
    "\n"
   ]
  },
  {
   "cell_type": "code",
   "execution_count": null,
   "metadata": {},
   "outputs": [],
   "source": [
    "\n",
    "# Load the training and test data\n",
    "df_train_orig = pd.read_csv('train.csv')\n",
    "df_test_orig = pd.read_csv('test.csv')\n"
   ]
  },
  {
   "cell_type": "code",
   "execution_count": 83,
   "metadata": {},
   "outputs": [
    {
     "name": "stdout",
     "output_type": "stream",
     "text": [
      "X_train shape: (181507, 274)\n",
      "X_test shape: (77789, 274)\n"
     ]
    }
   ],
   "source": [
    "\n",
    "# Make a copy of the original data\n",
    "df_train = df_train_orig.copy()\n",
    "df_test = df_test_orig.copy()\n",
    "target_col = 'price_doc'\n",
    "row_id_col = 'row ID'\n",
    "\n",
    "row_ids = df_test['row ID']\n",
    "df_test.drop(['row ID'], axis=1, inplace=True)\n",
    "\n",
    "numeric_col = df_test.select_dtypes(include=[\"number\"]).columns.tolist()\n",
    "categorical_cols = df_test.select_dtypes(exclude=[\"number\"]).columns.tolist()\n",
    "\n",
    "# Label encode the \"sub_area\" column\n",
    "label_encoder = LabelEncoder()\n",
    "df_train['sub_area'] = label_encoder.fit_transform(df_train['sub_area'])\n",
    "df_test['sub_area'] = label_encoder.transform(df_test['sub_area'])\n",
    "\n",
    "# Create dummy variables for categorical features\n",
    "X_train = pd.get_dummies(df_train.drop(columns=[target_col]), drop_first=True)\n",
    "y = df_train[target_col]\n",
    "\n",
    "X_test = pd.get_dummies(df_test, drop_first=True)\n",
    "\n",
    "\n",
    "print('X_train shape:', X_train.shape)\n",
    "print('X_test shape:', X_test.shape)"
   ]
  },
  {
   "cell_type": "code",
   "execution_count": 84,
   "metadata": {},
   "outputs": [
    {
     "name": "stdout",
     "output_type": "stream",
     "text": [
      "X_train_scaled shape: (181507, 274)\n",
      "X_test_scaled shape: (77789, 274)\n"
     ]
    },
    {
     "data": {
      "text/plain": [
       "full_sq                 float32\n",
       "life_sq                 float32\n",
       "floor                   float32\n",
       "sub_area                float32\n",
       "area_m                  float32\n",
       "                         ...   \n",
       "railroad_1line_yes      float32\n",
       "ecology_good            float32\n",
       "ecology_no data         float32\n",
       "ecology_poor            float32\n",
       "ecology_satisfactory    float32\n",
       "Length: 274, dtype: object"
      ]
     },
     "execution_count": 84,
     "metadata": {},
     "output_type": "execute_result"
    }
   ],
   "source": [
    "scaler = MinMaxScaler()\n",
    "X_train[numeric_col] = scaler.fit_transform(X_train[numeric_col])\n",
    "X_test[numeric_col] = scaler.transform(X_test[numeric_col])\n",
    "\n",
    "print('X_train_scaled shape:', X_train.shape)\n",
    "print('X_test_scaled shape:', X_test.shape)\n",
    "\n",
    "all_columns = X_train.columns.tolist()\n",
    "\n",
    "# Get the non-numeric columns by subtracting numeric_col from all_columns\n",
    "non_numeric_columns = [col for col in all_columns if col not in numeric_col]\n",
    "\n",
    "X_train = X_train.astype('float32')\n",
    "X_test = X_test.astype('float32')\n",
    "\n",
    "X_train.dtypes\n"
   ]
  },
  {
   "cell_type": "code",
   "execution_count": 74,
   "metadata": {},
   "outputs": [],
   "source": [
    "\n",
    "# Step 2: Use a Decision Tree Regressor to get the 100 most important features\n",
    "tree_regressor = DecisionTreeRegressor(max_depth=8, random_state=42)\n",
    "tree_regressor.fit(X_train, y)\n",
    "importances = tree_regressor.feature_importances_\n",
    "\n",
    "\n",
    "# Get indices of the top 100 features\n",
    "top_100_feature_indices = np.argsort(importances)[-50:]\n",
    "\n",
    "# Select the top 100 features\n",
    "X_train = X_train.iloc[:, top_100_feature_indices]\n",
    "X_test = X_test.iloc[:, top_100_feature_indices]\n"
   ]
  },
  {
   "cell_type": "code",
   "execution_count": null,
   "metadata": {},
   "outputs": [],
   "source": [
    "selector = SelectKBest(score_func=f_regression, k=200)\n",
    "\n",
    "X_train = selector.fit_transform(X_train,y)\n",
    "\n",
    "X_test = selector.transform(X_test)\n",
    "\n",
    "print(X_train.shape)\n",
    "print(X_test.shape)"
   ]
  },
  {
   "cell_type": "code",
   "execution_count": null,
   "metadata": {},
   "outputs": [],
   "source": [
    "scaler = MinMaxScaler()\n",
    "X_train = scaler.fit_transform(X_train)\n",
    "X_test = scaler.transform(X_test)\n",
    "print('X_train_scaled shape:', X_train.shape)\n",
    "print('X_test_scaled shape:', X_test.shape)"
   ]
  },
  {
   "cell_type": "code",
   "execution_count": 86,
   "metadata": {},
   "outputs": [
    {
     "name": "stdout",
     "output_type": "stream",
     "text": [
      "X_train_pca shape: (181507, 10)\n",
      "X_test_pca shape: (77789, 10)\n"
     ]
    }
   ],
   "source": [
    "pca = PCA(n_components=10)\n",
    "X_train = pca.fit_transform(X_train)\n",
    "X_test = pca.transform(X_test)\n",
    "\n",
    "print('X_train_pca shape:', X_train.shape)\n",
    "print('X_test_pca shape:', X_test.shape)\n"
   ]
  },
  {
   "cell_type": "code",
   "execution_count": 85,
   "metadata": {},
   "outputs": [
    {
     "name": "stdout",
     "output_type": "stream",
     "text": [
      "(181507, 274)\n",
      "(77789, 274)\n"
     ]
    }
   ],
   "source": [
    "threshold = 0.01\n",
    "\n",
    "selector = VarianceThreshold(threshold=threshold)\n",
    "\n",
    "X_train = selector.fit_transform(X_train)\n",
    "X_test = selector.transform(X_test)\n",
    "\n",
    "\n",
    "print(X_train.shape)\n",
    "print(X_test.shape)"
   ]
  },
  {
   "cell_type": "code",
   "execution_count": null,
   "metadata": {},
   "outputs": [],
   "source": [
    "# Step 3: Use Forward Selection to get the first 10 best features\n",
    "selector = SequentialFeatureSelector(estimator=LinearRegression(), n_features_to_select=10)\n",
    "selector.fit(X_train, y)\n",
    "\n",
    "# Get the selected feature indices\n",
    "selected_feature_indices = selector.get_support()\n"
   ]
  },
  {
   "cell_type": "code",
   "execution_count": null,
   "metadata": {},
   "outputs": [],
   "source": [
    "\n",
    "# Select the first 10 best features\n",
    "X_train = X_train.iloc[:, selected_feature_indices]\n",
    "X_test = X_test.iloc[:, selected_feature_indices]\n",
    "\n",
    "print('X_train_top10 shape:', X_train.shape)\n",
    "print('X_test_top10 shape:', X_test.shape)\n",
    "\n"
   ]
  },
  {
   "cell_type": "code",
   "execution_count": 87,
   "metadata": {},
   "outputs": [
    {
     "name": "stdout",
     "output_type": "stream",
     "text": [
      "X_train_poly shape: (181507, 66)\n",
      "X_test_poly shape: (77789, 66)\n"
     ]
    }
   ],
   "source": [
    "\n",
    "# Step 4: Use Polynomial Features with interaction on the selected features\n",
    "poly = PolynomialFeatures(degree=2, interaction_only=False)\n",
    "X_train = poly.fit_transform(X_train)\n",
    "X_test = poly.transform(X_test)\n",
    "\n",
    "print('X_train_poly shape:', X_train.shape)\n",
    "print('X_test_poly shape:', X_test.shape)\n"
   ]
  },
  {
   "cell_type": "code",
   "execution_count": 78,
   "metadata": {},
   "outputs": [
    {
     "name": "stdout",
     "output_type": "stream",
     "text": [
      "(181507, 66)\n"
     ]
    }
   ],
   "source": [
    "print(X_train.shape)"
   ]
  },
  {
   "cell_type": "code",
   "execution_count": 89,
   "metadata": {},
   "outputs": [
    {
     "name": "stdout",
     "output_type": "stream",
     "text": [
      "Epoch 1/15\n",
      "4538/4538 [==============================] - 3s 685us/step - loss: 472839459176448.0000 - root_mean_squared_error: 21744872.0000 - mae: 12267257.0000 - val_loss: 382365905977344.0000 - val_root_mean_squared_error: 19554178.0000 - val_mae: 9821567.0000\n",
      "Epoch 2/15\n",
      "4538/4538 [==============================] - 3s 676us/step - loss: 267357133996032.0000 - root_mean_squared_error: 16351059.0000 - mae: 8852814.0000 - val_loss: 293837939408896.0000 - val_root_mean_squared_error: 17141702.0000 - val_mae: 8701936.0000\n",
      "Epoch 3/15\n",
      "4538/4538 [==============================] - 3s 695us/step - loss: 237089039843328.0000 - root_mean_squared_error: 15397696.0000 - mae: 8375487.0000 - val_loss: 269038311702528.0000 - val_root_mean_squared_error: 16402387.0000 - val_mae: 8531926.0000\n",
      "Epoch 4/15\n",
      "4538/4538 [==============================] - 3s 657us/step - loss: 225081150144512.0000 - root_mean_squared_error: 15002705.0000 - mae: 8109810.0000 - val_loss: 252043730092032.0000 - val_root_mean_squared_error: 15875885.0000 - val_mae: 8607200.0000\n",
      "Epoch 5/15\n",
      "4538/4538 [==============================] - 3s 659us/step - loss: 216124734046208.0000 - root_mean_squared_error: 14701181.0000 - mae: 7830142.5000 - val_loss: 240608815874048.0000 - val_root_mean_squared_error: 15511570.0000 - val_mae: 8816054.0000\n",
      "Epoch 6/15\n",
      "4538/4538 [==============================] - 3s 655us/step - loss: 208749033684992.0000 - root_mean_squared_error: 14448150.0000 - mae: 7630702.0000 - val_loss: 226647840129024.0000 - val_root_mean_squared_error: 15054828.0000 - val_mae: 8754650.0000\n",
      "Epoch 7/15\n",
      "4538/4538 [==============================] - 3s 649us/step - loss: 201811386433536.0000 - root_mean_squared_error: 14206033.0000 - mae: 7473172.0000 - val_loss: 207277369851904.0000 - val_root_mean_squared_error: 14397131.0000 - val_mae: 8056551.0000\n",
      "Epoch 8/15\n",
      "4538/4538 [==============================] - 3s 655us/step - loss: 196322770550784.0000 - root_mean_squared_error: 14011523.0000 - mae: 7384078.0000 - val_loss: 200573395664896.0000 - val_root_mean_squared_error: 14162394.0000 - val_mae: 8014237.5000\n",
      "Epoch 9/15\n",
      "4538/4538 [==============================] - 3s 667us/step - loss: 191436221841408.0000 - root_mean_squared_error: 13836048.0000 - mae: 7269756.0000 - val_loss: 197243353169920.0000 - val_root_mean_squared_error: 14044335.0000 - val_mae: 7918119.0000\n",
      "Epoch 10/15\n",
      "4538/4538 [==============================] - 3s 656us/step - loss: 189267011698688.0000 - root_mean_squared_error: 13757435.0000 - mae: 7193223.5000 - val_loss: 198387257311232.0000 - val_root_mean_squared_error: 14085001.0000 - val_mae: 8070148.5000\n",
      "Epoch 11/15\n",
      "4538/4538 [==============================] - 3s 675us/step - loss: 188054924951552.0000 - root_mean_squared_error: 13713312.0000 - mae: 7169434.5000 - val_loss: 192036745510912.0000 - val_root_mean_squared_error: 13857732.0000 - val_mae: 7587374.5000\n",
      "Epoch 12/15\n",
      "4538/4538 [==============================] - 3s 676us/step - loss: 187005593976832.0000 - root_mean_squared_error: 13674999.0000 - mae: 7105911.5000 - val_loss: 196118675718144.0000 - val_root_mean_squared_error: 14004238.0000 - val_mae: 7665336.0000\n",
      "Epoch 13/15\n",
      "4538/4538 [==============================] - 3s 733us/step - loss: 186152673869824.0000 - root_mean_squared_error: 13643778.0000 - mae: 7071469.5000 - val_loss: 201456867082240.0000 - val_root_mean_squared_error: 14193550.0000 - val_mae: 8224578.5000\n",
      "Epoch 14/15\n",
      "4538/4538 [==============================] - 3s 763us/step - loss: 185708044091392.0000 - root_mean_squared_error: 13627474.0000 - mae: 7042858.5000 - val_loss: 194578208522240.0000 - val_root_mean_squared_error: 13949129.0000 - val_mae: 7803829.0000\n",
      "Epoch 15/15\n",
      "4538/4538 [==============================] - 3s 715us/step - loss: 185182799790080.0000 - root_mean_squared_error: 13608189.0000 - mae: 7012853.5000 - val_loss: 190627845242880.0000 - val_root_mean_squared_error: 13806804.0000 - val_mae: 7544560.0000\n"
     ]
    },
    {
     "data": {
      "text/plain": [
       "<keras.src.callbacks.History at 0x2a6bee800>"
      ]
     },
     "execution_count": 89,
     "metadata": {},
     "output_type": "execute_result"
    }
   ],
   "source": [
    "from tensorflow import keras\n",
    "from tensorflow.keras.models import Sequential\n",
    "from tensorflow.keras.layers import Dense, Input\n",
    "from tensorflow.keras.callbacks import EarlyStopping\n",
    "\n",
    "\n",
    "X_train = X_train.astype('float32')\n",
    "X_test = X_test.astype('float32')\n",
    "\n",
    "# Define your model\n",
    "model = Sequential([\n",
    "    Input(shape=(X_train.shape[1],)),\n",
    "    Dense(128, activation='relu'),\n",
    "    Dense(64, activation='relu'),\n",
    "    Dense(1)\n",
    "])\n",
    "\n",
    "early_stopping = EarlyStopping(monitor='val_loss', patience=10, restore_best_weights=True)\n",
    "\n",
    "# Compile the model\n",
    "model.compile(optimizer='adam',\n",
    "              loss='mean_squared_error',\n",
    "              metrics=[keras.metrics.RootMeanSquaredError(), 'mae'])\n",
    "\n",
    "# Fit the model\n",
    "model.fit(X_train, y, epochs=15, batch_size=32, verbose=1, validation_split=0.2, callbacks=[early_stopping])\n"
   ]
  },
  {
   "cell_type": "code",
   "execution_count": null,
   "metadata": {},
   "outputs": [],
   "source": [
    "\n",
    "model = Sequential([\n",
    "    keras.layers.Input(shape=(X_train.shape[1],)),\n",
    "    \n",
    "    keras.layers.Dense(128, activation='relu'),\n",
    "    keras.layers.Dense(64, activation='relu'),\n",
    "    keras.layers.Dense(32, activation='relu'),\n",
    "    \n",
    "    keras.layers.Dense(1)\n",
    "])\n",
    "\n",
    "# Define EarlyStopping callback\n",
    "early_stopping = EarlyStopping(monitor='val_loss', patience=10, restore_best_weights=True)\n",
    "\n",
    "model.compile(optimizer=custom_optimizer,\n",
    "              loss='mean_squared_error',\n",
    "              metrics=[tf.keras.metrics.RootMeanSquaredError(), 'mae'])\n",
    "\n",
    "model.fit(X_train, y, epochs=15, batch_size=32, verbose=1, validation_split=0.2, callbacks=[early_stopping])"
   ]
  },
  {
   "cell_type": "code",
   "execution_count": null,
   "metadata": {},
   "outputs": [],
   "source": [
    "scaler = StandardScaler()\n",
    "X_train = scaler.fit_transform(X_train)\n",
    "X_test = scaler.transform(X_test)\n"
   ]
  },
  {
   "cell_type": "code",
   "execution_count": null,
   "metadata": {},
   "outputs": [],
   "source": [
    "X_train = X_train.astype('float32')\n",
    "X_test = X_test.astype('float32')"
   ]
  },
  {
   "cell_type": "code",
   "execution_count": null,
   "metadata": {},
   "outputs": [],
   "source": [
    "test_predictions = model.predict(X_test)\n",
    "\n",
    "# Create a DataFrame with 'row ID' and predictions\n",
    "\n",
    "result_df = pd.DataFrame({'row ID': row_ids, 'price_doc': test_predictions[:, 0]})\n",
    "\n",
    "\n",
    "result_df.to_csv('predictions_42.csv', index=False)\n",
    "\n",
    "\n"
   ]
  }
 ],
 "metadata": {
  "kernelspec": {
   "display_name": "imlenv",
   "language": "python",
   "name": "python3"
  },
  "language_info": {
   "codemirror_mode": {
    "name": "ipython",
    "version": 3
   },
   "file_extension": ".py",
   "mimetype": "text/x-python",
   "name": "python",
   "nbconvert_exporter": "python",
   "pygments_lexer": "ipython3",
   "version": "3.10.13"
  }
 },
 "nbformat": 4,
 "nbformat_minor": 2
}
