{
 "cells": [
  {
   "cell_type": "code",
   "execution_count": null,
   "metadata": {},
   "outputs": [],
   "source": [
    "import os\n",
    "import torch\n",
    "os.environ[\"KERAS_BACKEND\"] = \"torch\"\n",
    "from keras.models import Sequential\n",
    "from keras.layers import Dense, Dropout"
   ]
  },
  {
   "cell_type": "code",
   "execution_count": null,
   "metadata": {},
   "outputs": [],
   "source": [
    "import pandas as pd\n",
    "import numpy as np\n",
    "from sklearn.preprocessing import LabelEncoder, StandardScaler\n",
    "from sklearn.model_selection import train_test_split\n",
    "from sklearn.linear_model import LinearRegression\n",
    "from sklearn.metrics import mean_squared_error\n",
    "from sklearn.model_selection import train_test_split\n",
    "from sklearn.preprocessing import PolynomialFeatures, StandardScaler, MinMaxScaler, RobustScaler\n",
    "from sklearn.linear_model import Lasso, Ridge\n",
    "from sklearn.neural_network import MLPRegressor\n",
    "\n",
    "from sklearn.linear_model import LinearRegression \n",
    "from sklearn.decomposition import PCA\n",
    "from sklearn.feature_selection import RFE, VarianceThreshold\n",
    "from sklearn.feature_selection import SequentialFeatureSelector\n",
    "from sklearn.tree import DecisionTreeRegressor\n",
    "from sklearn.ensemble import RandomForestRegressor\n",
    "from sklearn.linear_model import Lasso, Ridge\n",
    "from sklearn.feature_selection import SelectKBest\n",
    "from sklearn.feature_selection import f_regression\n",
    "\n",
    "\n"
   ]
  },
  {
   "cell_type": "code",
   "execution_count": null,
   "metadata": {},
   "outputs": [],
   "source": [
    "\n",
    "# Load the training and test data\n",
    "df_train_orig = pd.read_csv('train.csv')\n",
    "df_test_orig = pd.read_csv('test.csv')\n"
   ]
  },
  {
   "cell_type": "code",
   "execution_count": null,
   "metadata": {},
   "outputs": [],
   "source": [
    "\n",
    "# Make a copy of the original data\n",
    "df_train = df_train_orig.copy()\n",
    "df_test = df_test_orig.copy()\n",
    "target_col = 'price_doc'\n",
    "row_id_col = 'row ID'\n",
    "\n",
    "row_ids = df_test['row ID']\n",
    "df_test.drop(['row ID'], axis=1, inplace=True)\n",
    "\n",
    "numeric_col = df_test.select_dtypes(include=[\"number\"]).columns.tolist()\n",
    "categorical_cols = df_test.select_dtypes(exclude=[\"number\"]).columns.tolist()\n",
    "\n",
    "# Label encode the \"sub_area\" column\n",
    "label_encoder = LabelEncoder()\n",
    "df_train['sub_area'] = label_encoder.fit_transform(df_train['sub_area'])\n",
    "df_test['sub_area'] = label_encoder.transform(df_test['sub_area'])\n",
    "\n",
    "# Create dummy variables for categorical features\n",
    "X_train = pd.get_dummies(df_train.drop(columns=[target_col]), drop_first=True)\n",
    "y = df_train[target_col]\n",
    "\n",
    "X_test = pd.get_dummies(df_test, drop_first=True)\n",
    "\n",
    "\n",
    "print('X_train shape:', X_train.shape)\n",
    "print('X_test shape:', X_test.shape)"
   ]
  },
  {
   "cell_type": "code",
   "execution_count": null,
   "metadata": {},
   "outputs": [],
   "source": [
    "scaler = StandardScaler()\n",
    "X_train[numeric_col] = scaler.fit_transform(X_train[numeric_col])\n",
    "X_test[numeric_col] = scaler.transform(X_test[numeric_col])\n",
    "\n",
    "print('X_train_scaled shape:', X_train.shape)\n",
    "print('X_test_scaled shape:', X_test.shape)\n",
    "\n",
    "all_columns = X_train.columns.tolist()\n",
    "\n",
    "# Get the non-numeric columns by subtracting numeric_col from all_columns\n",
    "non_numeric_columns = [col for col in all_columns if col not in numeric_col]\n",
    "\n",
    "\n",
    "X_train = X_train.astype('float32')\n",
    "X_test = X_test.astype('float32')\n",
    "\n",
    "X_train.dtypes\n"
   ]
  },
  {
   "cell_type": "code",
   "execution_count": null,
   "metadata": {},
   "outputs": [],
   "source": [
    "\n",
    "# Step 2: Use a Decision Tree Regressor to get the 100 most important features\n",
    "tree_regressor = DecisionTreeRegressor(max_depth=8, random_state=42)\n",
    "tree_regressor.fit(X_train, y)\n",
    "importances = tree_regressor.feature_importances_\n",
    "\n",
    "\n",
    "# Get indices of the top 100 features\n",
    "top_100_feature_indices = np.argsort(importances)[-150:]\n",
    "\n",
    "# Select the top 100 features\n",
    "X_train = X_train.iloc[:, top_100_feature_indices]\n",
    "X_test = X_test.iloc[:, top_100_feature_indices]\n"
   ]
  },
  {
   "cell_type": "code",
   "execution_count": null,
   "metadata": {},
   "outputs": [],
   "source": [
    "selector = SelectKBest(score_func=f_regression, k=100)\n",
    "\n",
    "X_train = selector.fit_transform(X_train,y)\n",
    "\n",
    "\n",
    "X_test = selector.transform(X_test)\n",
    "\n",
    "print(X_train.shape)\n",
    "print(X_test.shape)"
   ]
  },
  {
   "cell_type": "code",
   "execution_count": null,
   "metadata": {},
   "outputs": [],
   "source": [
    "scaler = MinMaxScaler()\n",
    "X_train = scaler.fit_transform(X_train)\n",
    "X_test = scaler.transform(X_test) \n",
    "print('X_train_scaled shape:', X_train.shape)\n",
    "print('X_test_scaled shape:', X_test.shape)"
   ]
  },
  {
   "cell_type": "code",
   "execution_count": null,
   "metadata": {},
   "outputs": [],
   "source": [
    "pca = PCA(n_components=100)\n",
    "X_train = pca.fit_transform(X_train)\n",
    "X_test = pca.transform(X_test)\n",
    "\n",
    "print('X_train_pca shape:', X_train.shape)\n",
    "print('X_test_pca shape:', X_test.shape)\n"
   ]
  },
  {
   "cell_type": "code",
   "execution_count": null,
   "metadata": {},
   "outputs": [],
   "source": [
    "threshold = 1\n",
    "\n",
    "selector = VarianceThreshold(threshold=threshold)\n",
    "\n",
    "X_train = selector.fit_transform(X_train)\n",
    "X_test = selector.transform(X_test)\n",
    "\n",
    "\n",
    "print(X_train.shape)\n",
    "print(X_test.shape)"
   ]
  },
  {
   "cell_type": "code",
   "execution_count": null,
   "metadata": {},
   "outputs": [],
   "source": [
    "# Step 3: Use Forward Selection to get the first 10 best features\n",
    "selector = SequentialFeatureSelector(estimator=LinearRegression(), n_features_to_select=10)\n",
    "selector.fit(X_train, y)\n",
    "\n",
    "# Get the selected feature indices\n",
    "selected_feature_indices = selector.get_support()\n"
   ]
  },
  {
   "cell_type": "code",
   "execution_count": null,
   "metadata": {},
   "outputs": [],
   "source": []
  },
  {
   "cell_type": "code",
   "execution_count": null,
   "metadata": {},
   "outputs": [],
   "source": [
    "\n",
    "# # Select the first 10 best features\n",
    "# X_train = X_train.iloc[:, selected_feature_indices]\n",
    "# X_test = X_test.iloc[:, selected_feature_indices]\n",
    "# Select the first 10 best features\n",
    "X_train = X_train[:, selected_feature_indices]\n",
    "X_test = X_test[:, selected_feature_indices]\n",
    "\n",
    "print('X_train_top10 shape:', X_train.shape)\n",
    "print('X_test_top10 shape:', X_test.shape)\n",
    "\n"
   ]
  },
  {
   "cell_type": "code",
   "execution_count": null,
   "metadata": {},
   "outputs": [],
   "source": [
    "\n",
    "# Step 4: Use Polynomial Features with interaction on the selected features\n",
    "poly = PolynomialFeatures(degree=3, interaction_only=True)\n",
    "X_train = poly.fit_transform(X_train)\n",
    "X_test = poly.transform(X_test)\n",
    "\n",
    "print('X_train_poly shape:', X_train.shape)\n",
    "print('X_test_poly shape:', X_test.shape)\n"
   ]
  },
  {
   "cell_type": "code",
   "execution_count": null,
   "metadata": {},
   "outputs": [],
   "source": [
    "print(X_train.shape)"
   ]
  },
  {
   "cell_type": "code",
   "execution_count": null,
   "metadata": {},
   "outputs": [],
   "source": [
    "from tensorflow.keras import regularizers\n",
    "from tensorflow.keras.optimizers import RMSprop\n",
    "\n",
    "X_train = X_train.astype('float32')\n",
    "X_test = X_test.astype('float32')\n",
    "\n",
    "# Define your model with L2 regularization\n",
    "model = Sequential([\n",
    "    Input(shape=(X_train.shape[1],)),\n",
    "    Dense(128, activation='relu', kernel_regularizer=regularizers.l2(0.01)),\n",
    "    Dense(64, activation='relu', kernel_regularizer=regularizers.l2(0.01)),\n",
    "    Dense(1)\n",
    "])\n",
    "\n",
    "early_stopping = EarlyStopping(monitor='val_loss', patience=10, restore_best_weights=True)\n",
    "\n",
    "# Compile the model with RMSprop optimizer\n",
    "optimizer = RMSprop(learning_rate=0.001)  # You can adjust the learning rate\n",
    "model.compile(optimizer=optimizer,\n",
    "              loss='mean_squared_error',\n",
    "              metrics=[keras.metrics.RootMeanSquaredError(), 'mae'])\n",
    "\n",
    "# Fit the model\n",
    "model.fit(X_train, y, epochs=15, batch_size=32, verbose=1, validation_split=0.2, callbacks=[early_stopping])\n"
   ]
  },
  {
   "cell_type": "code",
   "execution_count": null,
   "metadata": {},
   "outputs": [],
   "source": [
    "\n",
    "model = Sequential([\n",
    "    keras.layers.Input(shape=(X_train.shape[1],)),\n",
    "    \n",
    "    keras.layers.Dense(128, activation='relu'),\n",
    "    keras.layers.Dense(64, activation='relu'),\n",
    "    keras.layers.Dense(32, activation='relu'),\n",
    "    \n",
    "    keras.layers.Dense(1)\n",
    "])\n",
    "\n",
    "# Define EarlyStopping callback\n",
    "early_stopping = EarlyStopping(monitor='val_loss', patience=10, restore_best_weights=True)\n",
    "\n",
    "model.compile(optimizer=custom_optimizer,\n",
    "              loss='mean_squared_error',\n",
    "              metrics=[tf.keras.metrics.RootMeanSquaredError(), 'mae'])\n",
    "\n",
    "model.fit(X_train, y, epochs=15, batch_size=32, verbose=1, validation_split=0.2, callbacks=[early_stopping])"
   ]
  },
  {
   "cell_type": "code",
   "execution_count": null,
   "metadata": {},
   "outputs": [],
   "source": [
    "from keras.models import Sequential\n",
    "from keras.layers import Dense, Dropout\n",
    "from keras import regularizers\n",
    "from keras.callbacks import EarlyStopping, ModelCheckpoint, LearningRateScheduler\n",
    "from sklearn.metrics import mean_squared_error\n",
    "from keras.optimizers import Adam, legacy\n",
    "import math\n",
    "\n",
    "\n",
    "# define the keras model\n",
    "model = Sequential()\n",
    "model.add(Dense(128, input_dim=X_train.shape[1], activation='relu'))\n",
    "#model.add(Dropout(0.2))  # Apply dropout with a rate of 0.2\n",
    "model.add(Dense(64, activation='relu'))#sigmoid\n",
    "# model.add(Dense(64, activation='relu'))#sigmoid\n",
    "model.add(Dense(32, activation='relu'))\n",
    "model.add(Dense(1, activation='linear'))\n",
    "\n",
    "# Add regularizers to the dense layers\n",
    "model.layers[1].kernel_regularizer = regularizers.l1(0.001)  # Apply L2 regularization with a factor of 0.01\n",
    "model.layers[2].kernel_regularizer = regularizers.l1(0.001)  # Apply L2 regularization with a factor of 0.01\n",
    "#model.layers[3].kernel_regularizer = regularizers.l1(0.001)  # Apply L2 regularization with a factor of 0.01\n",
    "\n",
    "opt = legacy.Adam(learning_rate=0.00021)  \n",
    "\n",
    "# compile the keras model\n",
    "model.compile(optimizer=opt, loss='mean_squared_error', metrics=['RootMeanSquaredError'])\n",
    "#apply early stoppping\n",
    "early_stopping_monitor = EarlyStopping(patience=5)\n",
    "#apply model checkpoint\n",
    "\n",
    "#fit the keras model on the dataset\n",
    "model.fit(X_train, y, epochs=50, batch_size=63, validation_split=0.2, callbacks=[early_stopping_monitor])"
   ]
  },
  {
   "cell_type": "code",
   "execution_count": null,
   "metadata": {},
   "outputs": [],
   "source": []
  },
  {
   "cell_type": "code",
   "execution_count": null,
   "metadata": {},
   "outputs": [],
   "source": [
    "scaler = StandardScaler()\n",
    "X_train = scaler.fit_transform(X_train)\n",
    "X_test = scaler.transform(X_test)\n"
   ]
  },
  {
   "cell_type": "code",
   "execution_count": null,
   "metadata": {},
   "outputs": [],
   "source": [
    "X_train = X_train.astype('float32')\n",
    "X_test = X_test.astype('float32')"
   ]
  },
  {
   "cell_type": "code",
   "execution_count": null,
   "metadata": {},
   "outputs": [],
   "source": [
    "test_predictions = model.predict(X_test).flatten()\n",
    "\n",
    "# Create a DataFrame with 'row ID' and predictions\n",
    "result_df = pd.DataFrame({'row ID': row_ids, 'price_doc': test_predictions})\n",
    "\n",
    "result_df.to_csv('predictions_55.csv', index=False)\n",
    "\n",
    "\n"
   ]
  },
  {
   "cell_type": "markdown",
   "metadata": {},
   "source": [
    "# Shahood\n",
    "\n",
    "\n"
   ]
  },
  {
   "cell_type": "code",
   "execution_count": null,
   "metadata": {},
   "outputs": [],
   "source": [
    "import os\n",
    "import torch\n",
    "os.environ[\"KERAS_BACKEND\"] = \"torch\"\n",
    "from keras.models import Sequential\n",
    "from keras.layers import Dense, Dropout"
   ]
  },
  {
   "cell_type": "code",
   "execution_count": null,
   "metadata": {},
   "outputs": [],
   "source": [
    "import pandas as pd\n",
    "import numpy as np\n",
    "from sklearn.preprocessing import LabelEncoder, StandardScaler\n",
    "from sklearn.model_selection import train_test_split\n",
    "from sklearn.linear_model import LinearRegression\n",
    "from sklearn.metrics import mean_squared_error\n",
    "from sklearn.model_selection import train_test_split\n",
    "from sklearn.preprocessing import PolynomialFeatures, StandardScaler, MinMaxScaler, RobustScaler\n",
    "from sklearn.linear_model import Lasso, Ridge\n",
    "from sklearn.neural_network import MLPRegressor\n",
    "\n",
    "from sklearn.linear_model import LinearRegression \n",
    "from sklearn.decomposition import PCA\n",
    "from sklearn.feature_selection import RFE, VarianceThreshold\n",
    "from sklearn.feature_selection import SequentialFeatureSelector\n",
    "from sklearn.tree import DecisionTreeRegressor\n",
    "from sklearn.ensemble import RandomForestRegressor\n",
    "from sklearn.linear_model import Lasso, Ridge\n",
    "from sklearn.feature_selection import SelectKBest\n",
    "from sklearn.feature_selection import f_regression\n",
    "\n",
    "\n"
   ]
  },
  {
   "cell_type": "code",
   "execution_count": null,
   "metadata": {},
   "outputs": [],
   "source": [
    "\n",
    "# Load the training and test data\n",
    "df_train_orig = pd.read_csv('train.csv')\n",
    "df_test_orig = pd.read_csv('test.csv')\n"
   ]
  },
  {
   "cell_type": "code",
   "execution_count": null,
   "metadata": {},
   "outputs": [],
   "source": [
    "\n",
    "# Make a copy of the original data\n",
    "df_train = df_train_orig.copy()\n",
    "df_test = df_test_orig.copy()\n",
    "target_col = 'price_doc'\n",
    "row_id_col = 'row ID'\n",
    "\n",
    "row_ids = df_test['row ID']\n",
    "df_test.drop(['row ID'], axis=1, inplace=True)\n",
    "\n",
    "\n",
    "X_train = df_train.drop(columns=[target_col])\n",
    "y = df_train[target_col]\n",
    "\n",
    "\n",
    "\n",
    "X_test = df_test\n",
    "\n",
    "\n",
    "print('X_train shape:', X_train.shape)\n",
    "print('X_test shape:', X_test.shape)"
   ]
  },
  {
   "cell_type": "code",
   "execution_count": 154,
   "metadata": {},
   "outputs": [
    {
     "name": "stdout",
     "output_type": "stream",
     "text": [
      "X_train shape: (181507, 263)\n",
      "X_test shape: (77789, 263)\n"
     ]
    }
   ],
   "source": [
    "features_to_exclude = [\n",
    "    'ID_metro', \n",
    "    'ID_railroad_station_walk', \n",
    "    'ID_bus_terminal', \n",
    "    'cemetery_km', \n",
    "    'power_transmission_line_km', \n",
    "    'big_church_count_500', \n",
    "    'church_count_500', \n",
    "    'mosque_count_500', \n",
    "    'theater_km', \n",
    "    'museum_km'\n",
    "]\n",
    "X_train = X_train.drop(columns=features_to_exclude)\n",
    "X_test = X_test.drop(columns=features_to_exclude)\n",
    "\n",
    "print('X_train shape:', X_train.shape)\n",
    "print('X_test shape:', X_test.shape)"
   ]
  },
  {
   "cell_type": "code",
   "execution_count": 153,
   "metadata": {},
   "outputs": [
    {
     "name": "stderr",
     "output_type": "stream",
     "text": [
      "/var/folders/rv/nzq809hx0d388y5_yrh_nfbw0000gn/T/ipykernel_12324/1514978934.py:6: RuntimeWarning: divide by zero encountered in log\n",
      "  return -np.log(p_values)\n"
     ]
    },
    {
     "name": "stdout",
     "output_type": "stream",
     "text": [
      "Selected Features: Index(['office_count_1500', 'office_sqm_1500', 'trc_count_1500',\n",
      "       'trc_sqm_1500', 'cafe_count_1500', 'cafe_count_1500_na_price',\n",
      "       'cafe_count_1500_price_500', 'cafe_count_1500_price_1000',\n",
      "       'cafe_count_1500_price_1500', 'cafe_count_1500_price_2500',\n",
      "       'cafe_count_1500_price_4000', 'cafe_count_1500_price_high',\n",
      "       'big_church_count_1500', 'church_count_1500', 'mosque_count_1500',\n",
      "       'leisure_count_1500', 'sport_count_1500', 'market_count_1500',\n",
      "       'green_part_2000', 'prom_part_2000', 'office_count_2000',\n",
      "       'office_sqm_2000', 'trc_count_2000', 'trc_sqm_2000', 'cafe_count_2000',\n",
      "       'cafe_sum_2000_min_price_avg', 'cafe_sum_2000_max_price_avg',\n",
      "       'cafe_avg_price_2000', 'cafe_count_2000_na_price',\n",
      "       'cafe_count_2000_price_500', 'cafe_count_2000_price_1000',\n",
      "       'cafe_count_2000_price_1500', 'cafe_count_2000_price_2500',\n",
      "       'cafe_count_2000_price_4000', 'cafe_count_2000_price_high',\n",
      "       'big_church_count_2000', 'church_count_2000', 'mosque_count_2000',\n",
      "       'leisure_count_2000', 'sport_count_2000', 'market_count_2000',\n",
      "       'green_part_3000', 'prom_part_3000', 'office_count_3000',\n",
      "       'office_sqm_3000', 'trc_count_3000', 'trc_sqm_3000', 'cafe_count_3000',\n",
      "       'cafe_sum_3000_min_price_avg', 'cafe_sum_3000_max_price_avg',\n",
      "       'cafe_avg_price_3000', 'cafe_count_3000_na_price',\n",
      "       'cafe_count_3000_price_500', 'cafe_count_3000_price_1000',\n",
      "       'cafe_count_3000_price_1500', 'cafe_count_3000_price_2500',\n",
      "       'cafe_count_3000_price_4000', 'cafe_count_3000_price_high',\n",
      "       'big_church_count_3000', 'church_count_3000', 'mosque_count_3000',\n",
      "       'leisure_count_3000', 'sport_count_3000', 'market_count_3000',\n",
      "       'green_part_5000', 'prom_part_5000', 'office_count_5000',\n",
      "       'office_sqm_5000', 'trc_count_5000', 'trc_sqm_5000', 'cafe_count_5000',\n",
      "       'cafe_sum_5000_min_price_avg', 'cafe_sum_5000_max_price_avg',\n",
      "       'cafe_avg_price_5000', 'cafe_count_5000_na_price',\n",
      "       'cafe_count_5000_price_500', 'cafe_count_5000_price_1000',\n",
      "       'cafe_count_5000_price_1500', 'cafe_count_5000_price_2500',\n",
      "       'cafe_count_5000_price_4000', 'cafe_count_5000_price_high',\n",
      "       'big_church_count_5000', 'church_count_5000', 'mosque_count_5000',\n",
      "       'leisure_count_5000', 'sport_count_5000', 'market_count_5000',\n",
      "       'product_type_OwnerOccupier', 'culture_objects_top_25_yes',\n",
      "       'thermal_power_plant_raion_yes', 'incineration_raion_yes',\n",
      "       'oil_chemistry_raion_yes', 'radiation_raion_yes',\n",
      "       'railroad_terminal_raion_yes', 'big_market_raion_yes',\n",
      "       'nuclear_reactor_raion_yes', 'detention_facility_raion_yes',\n",
      "       'water_1line_yes', 'big_road1_1line_yes', 'railroad_1line_yes'],\n",
      "      dtype='object')\n",
      "X_train_selected shape: (181507, 100)\n",
      "X_test_selected shape: (77789, 100)\n"
     ]
    }
   ],
   "source": [
    "from sklearn.feature_selection import SelectKBest, f_regression\n",
    "\n",
    "# Define a custom scoring function that returns -log(p-value)\n",
    "def p_value_score(X, y):\n",
    "    _, p_values = f_regression(X, y)\n",
    "    return -np.log(p_values)\n",
    "\n",
    "# Define the number of features you want to select\n",
    "num_features_to_select = 100  # Adjust this number as per your requirement\n",
    "\n",
    "# Initialize SelectKBest with the custom scoring function\n",
    "selector = SelectKBest(score_func=p_value_score, k=num_features_to_select)\n",
    "\n",
    "# Fit and transform X_train to select the best features\n",
    "X_train_selected = selector.fit_transform(X_train, y)\n",
    "\n",
    "# Get the indices of the selected features\n",
    "selected_feature_indices = selector.get_support(indices=True)\n",
    "\n",
    "# Get the names of the selected features\n",
    "selected_feature_names = X_train.columns[selected_feature_indices]\n",
    "\n",
    "# Transform X_test to keep only the selected features\n",
    "X_test_selected = X_test.iloc[:, selected_feature_indices]\n",
    "\n",
    "print('Selected Features:', selected_feature_names)\n",
    "print('X_train_selected shape:', X_train_selected.shape)\n",
    "print('X_test_selected shape:', X_test_selected.shape)\n"
   ]
  },
  {
   "cell_type": "code",
   "execution_count": 155,
   "metadata": {},
   "outputs": [
    {
     "name": "stdout",
     "output_type": "stream",
     "text": [
      "(181507, 100)\n",
      "(77789, 100)\n"
     ]
    }
   ],
   "source": [
    "X_train = X_train_selected\n",
    "X_test = X_test_selected\n",
    "\n",
    "print(X_train.shape)\n",
    "print(X_test.shape)"
   ]
  },
  {
   "cell_type": "code",
   "execution_count": 151,
   "metadata": {},
   "outputs": [
    {
     "name": "stdout",
     "output_type": "stream",
     "text": [
      "X_train shape: (181507, 270)\n",
      "X_test shape: (77789, 270)\n"
     ]
    }
   ],
   "source": [
    "X_train = X_train.drop(columns=['sub_area'])\n",
    "X_test = X_test.drop(columns=['sub_area'])\n",
    "\n",
    "print('X_train shape:', X_train.shape)\n",
    "print('X_test shape:', X_test.shape)"
   ]
  },
  {
   "cell_type": "code",
   "execution_count": 152,
   "metadata": {},
   "outputs": [
    {
     "name": "stdout",
     "output_type": "stream",
     "text": [
      "X_train shape: (181507, 273)\n",
      "X_test shape: (77789, 273)\n"
     ]
    }
   ],
   "source": [
    "X_train = pd.get_dummies(X_train, drop_first=True)\n",
    "X_test = pd.get_dummies(X_test, drop_first=True)\n",
    "\n",
    "print('X_train shape:', X_train.shape)\n",
    "print('X_test shape:', X_test.shape)"
   ]
  },
  {
   "cell_type": "code",
   "execution_count": null,
   "metadata": {},
   "outputs": [],
   "source": [
    "\n",
    "print('X_train shape:', X_train.shape)\n",
    "print('X_test shape:', X_test.shape)"
   ]
  },
  {
   "cell_type": "code",
   "execution_count": null,
   "metadata": {},
   "outputs": [],
   "source": [
    "# Identify categorical columns\n",
    "categorical_cols = X_train.select_dtypes(include=['object', 'category']).columns\n",
    "\n",
    "#'''\n",
    "# Apply label encoding to each categorical column\n",
    "for col in categorical_cols:\n",
    "    le = LabelEncoder()\n",
    "    # Fill missing values with a placeholder string\n",
    "    #X_train[col] = X_train[col].fillna('Missing')\n",
    "    X_train[col] = le.fit_transform(X_train[col])\n",
    "    #X_test[col] = X_test[col].fillna('Missing')\n",
    "    X_test[col] = le.transform(X_test[col])\n",
    "    "
   ]
  },
  {
   "cell_type": "code",
   "execution_count": 156,
   "metadata": {},
   "outputs": [
    {
     "name": "stderr",
     "output_type": "stream",
     "text": [
      "/Users/yahyaahmedkhan/miniconda3/envs/tfenv2/lib/python3.10/site-packages/sklearn/base.py:457: UserWarning: X has feature names, but MinMaxScaler was fitted without feature names\n",
      "  warnings.warn(\n"
     ]
    },
    {
     "name": "stdout",
     "output_type": "stream",
     "text": [
      "100\n"
     ]
    }
   ],
   "source": [
    "scaler = MinMaxScaler()\n",
    "X_train = scaler.fit_transform(X_train)\n",
    "X_test = scaler.transform(X_test)\n",
    "\n",
    "print(X_train.shape[1])"
   ]
  },
  {
   "cell_type": "code",
   "execution_count": null,
   "metadata": {},
   "outputs": [],
   "source": [
    "print(type(X_train))\n",
    "print(type(X_test))\n",
    "\n",
    "print(X_train.shape)\n",
    "print(X_test.shape)"
   ]
  },
  {
   "cell_type": "code",
   "execution_count": null,
   "metadata": {},
   "outputs": [],
   "source": [
    "dt_regressor = DecisionTreeRegressor(random_state=42, max_depth=6)\n",
    "dt_regressor.fit(X_train, y)\n",
    "\n",
    "# Calculate Feature Importance\n",
    "feature_importance = dt_regressor.feature_importances_\n",
    "\n",
    "# Select Important Features\n",
    "num_features_to_keep = 50\n",
    "top_feature_indices = feature_importance.argsort()[-num_features_to_keep:][::-1]\n",
    "# X_train = X_train.iloc[:, top_feature_indices]\n",
    "# X_test = X_test.iloc[:, top_feature_indices]\n",
    "X_train = X_train[:, top_feature_indices]\n",
    "X_test = X_test[:, top_feature_indices]\n",
    "\n",
    "print('X_train shape:', X_train.shape)\n",
    "print('X_test shape:', X_test.shape)"
   ]
  },
  {
   "cell_type": "code",
   "execution_count": 158,
   "metadata": {},
   "outputs": [
    {
     "name": "stdout",
     "output_type": "stream",
     "text": [
      "X_train shape: (181507, 3)\n",
      "X_test shape: (77789, 3)\n"
     ]
    }
   ],
   "source": [
    "from sklearn.feature_selection import RFECV\n",
    "\n",
    "dt_regressor = DecisionTreeRegressor(random_state=42, max_depth=4)\n",
    "\n",
    "rfecv = RFECV(estimator=dt_regressor)\n",
    "\n",
    "# Fit the RFECV selector to the training data\n",
    "rfecv.fit(X_train, y)\n",
    "\n",
    "# Get the indices of the selected features\n",
    "selected_feature_indices = rfecv.support_\n",
    "\n",
    "# Select the important features from the original dataset\n",
    "X_train = X_train[:, selected_feature_indices]\n",
    "X_test = X_test[:, selected_feature_indices]\n",
    "\n",
    "print('X_train shape:', X_train.shape)\n",
    "print('X_test shape:', X_test.shape)\n"
   ]
  },
  {
   "cell_type": "code",
   "execution_count": null,
   "metadata": {},
   "outputs": [],
   "source": [
    "from sklearn.feature_selection import VarianceThreshold\n",
    "\n",
    "# Define a threshold for variance (adjust as needed)\n",
    "variance_threshold = 1\n",
    "\n",
    "# Initialize the VarianceThreshold selector\n",
    "selector = VarianceThreshold(threshold=variance_threshold)\n",
    "\n",
    "# Fit and transform the selector on your selected feature matrix\n",
    "X_train = selector.fit_transform(X_train)\n",
    "X_test = selector.transform(X_test)\n",
    "\n",
    "print('X_train shape:', X_train.shape)\n",
    "print('X_test shape:', X_test.shape)"
   ]
  },
  {
   "cell_type": "code",
   "execution_count": null,
   "metadata": {},
   "outputs": [],
   "source": [
    "\n",
    "# Define the linear regression model\n",
    "lr = LinearRegression()\n",
    "\n",
    "# Forward Feature Selection\n",
    "sfs = SequentialFeatureSelector(lr, n_features_to_select=5, direction='forward', scoring='neg_mean_squared_error', n_jobs=3)\n",
    "sfs.fit(X_train, y)\n",
    "\n",
    "# Get the mask of selected features\n",
    "selected_features = sfs.get_support()\n",
    "\n"
   ]
  },
  {
   "cell_type": "code",
   "execution_count": 159,
   "metadata": {},
   "outputs": [
    {
     "name": "stdout",
     "output_type": "stream",
     "text": [
      "X_train_poly shape: (181507, 8)\n",
      "X_test_poly shape: (77789, 8)\n"
     ]
    }
   ],
   "source": [
    "poly = PolynomialFeatures(degree=3, interaction_only=True)\n",
    "X_train = poly.fit_transform(X_train)\n",
    "X_test = poly.transform(X_test)\n",
    "\n",
    "print('X_train_poly shape:', X_train.shape)\n",
    "print('X_test_poly shape:', X_test.shape)"
   ]
  },
  {
   "cell_type": "code",
   "execution_count": null,
   "metadata": {},
   "outputs": [],
   "source": [
    "X_test = X_test.values\n"
   ]
  },
  {
   "cell_type": "code",
   "execution_count": null,
   "metadata": {},
   "outputs": [],
   "source": [
    "X_train = X_train_selected\n",
    "X_test = X_test_selected\n",
    "\n",
    "print(X_train.shape)\n",
    "print(X_test.shape)"
   ]
  },
  {
   "cell_type": "code",
   "execution_count": null,
   "metadata": {},
   "outputs": [],
   "source": [
    "X_train\n",
    "type(X_test)"
   ]
  },
  {
   "cell_type": "code",
   "execution_count": null,
   "metadata": {},
   "outputs": [],
   "source": [
    "X_train = X_train[:, selected_features]\n",
    "X_test = X_test[:, selected_features]\n",
    "\n",
    "# Check the shape of the resulting X_train and X_test\n",
    "print(X_train.shape)\n",
    "print(X_test.shape)\n"
   ]
  },
  {
   "cell_type": "code",
   "execution_count": null,
   "metadata": {},
   "outputs": [],
   "source": [
    "print(X_train.shape)\n",
    "print(X_test.shape)"
   ]
  },
  {
   "cell_type": "code",
   "execution_count": null,
   "metadata": {},
   "outputs": [],
   "source": []
  },
  {
   "cell_type": "code",
   "execution_count": 157,
   "metadata": {},
   "outputs": [
    {
     "name": "stdout",
     "output_type": "stream",
     "text": [
      "10\n"
     ]
    }
   ],
   "source": [
    "\n",
    "# Perform PCA to reduce dimensionality to 240 components\n",
    "n_components = 10\n",
    "pca = PCA(n_components=n_components)\n",
    "X_train = pca.fit_transform(X_train)\n",
    "X_test = pca.transform(X_test)\n",
    "\n",
    "# Now X_train_pca and X_test_pca contain the top 240 principal components\n",
    "print(X_train.shape[1])"
   ]
  },
  {
   "cell_type": "code",
   "execution_count": 160,
   "metadata": {},
   "outputs": [],
   "source": [
    "X_train, X_val, y_train, y_val = train_test_split(X_train, y, test_size=0.2, random_state=43)"
   ]
  },
  {
   "cell_type": "code",
   "execution_count": null,
   "metadata": {},
   "outputs": [],
   "source": [
    "print(X_train.shape)\n",
    "print(X_val.shape)"
   ]
  },
  {
   "cell_type": "code",
   "execution_count": null,
   "metadata": {},
   "outputs": [],
   "source": [
    "model = DecisionTreeRegressor(max_depth=8, random_state=42, min_samples_leaf=10)\n",
    "model.fit(X_train, y_train)\n",
    "\n",
    "# Make predictions on the validation data\n",
    "val_predictions = model.predict(X_val)\n",
    "print('RMSE:', np.sqrt(mean_squared_error(y_val, val_predictions)))"
   ]
  },
  {
   "cell_type": "code",
   "execution_count": 162,
   "metadata": {},
   "outputs": [
    {
     "name": "stderr",
     "output_type": "stream",
     "text": [
      "/Users/yahyaahmedkhan/miniconda3/envs/tfenv2/lib/python3.10/site-packages/xgboost/data.py:427: FutureWarning: is_sparse is deprecated and will be removed in a future version. Check `isinstance(dtype, pd.SparseDtype)` instead.\n",
      "  if is_sparse(data):\n"
     ]
    },
    {
     "name": "stdout",
     "output_type": "stream",
     "text": [
      "RMSE: 13023655.43647635\n"
     ]
    }
   ],
   "source": [
    "import xgboost as xgb\n",
    "\n",
    "# Create an XGBoost regressor\n",
    "model = xgb.XGBRegressor(n_estimators=100, max_depth=10, random_state=42, learning_rate=0.1, min_child_weight=10)\n",
    "model.fit(X_train, y_train)\n",
    "\n",
    "# Make predictions on the validation data\n",
    "val_predictions = model.predict(X_val)\n",
    "print('RMSE:', np.sqrt(mean_squared_error(y_val, val_predictions)))"
   ]
  },
  {
   "cell_type": "code",
   "execution_count": null,
   "metadata": {},
   "outputs": [],
   "source": [
    "# Create a Randomforest regressor\n",
    "model = RandomForestRegressor(n_estimators=30, max_depth=8, random_state=42, min_samples_leaf=10, n_jobs=3, verbose=2)\n",
    "model.fit(X_train, y_train)\n",
    "\n",
    "# Make predictions on the validation data\n",
    "val_predictions = model.predict(X_val)\n",
    "print('RMSE:', np.sqrt(mean_squared_error(y_val, val_predictions)))"
   ]
  },
  {
   "cell_type": "code",
   "execution_count": null,
   "metadata": {},
   "outputs": [],
   "source": [
    "import catboost as cb\n",
    "\n",
    "model = cb.CatBoostRegressor(n_estimators=200, max_depth=10, random_state=42, learning_rate=0.01)\n",
    "model.fit(X_train, y_train, verbose=0)\n",
    "\n",
    "# Make predictions on the validation data\n",
    "val_predictions = model.predict(X_val)\n",
    "print('RMSE:', np.sqrt(mean_squared_error(y_val, val_predictions)))"
   ]
  },
  {
   "cell_type": "code",
   "execution_count": null,
   "metadata": {},
   "outputs": [],
   "source": [
    "# Create a lightgbm regressor\n",
    "import lightgbm as lgb\n",
    "\n",
    "model = lgb.LGBMRegressor(n_estimators=370, max_depth=11, random_state=42, learning_rate=0.01)\n",
    "model.fit(X_train, y_train)\n",
    "\n",
    "# Make predictions on the validation data\n",
    "val_predictions = model.predict(X_val)\n",
    "print('RMSE:', np.sqrt(mean_squared_error(y_val, val_predictions)))"
   ]
  },
  {
   "cell_type": "code",
   "execution_count": 165,
   "metadata": {},
   "outputs": [
    {
     "name": "stdout",
     "output_type": "stream",
     "text": [
      "      Iter       Train Loss   Remaining Time \n",
      "         1 421105817144186.1250           38.13s\n",
      "         2 372535155962968.3750           37.12s\n",
      "         3 332855826820498.9375           35.66s\n",
      "         4 300773442261959.5000           34.81s\n",
      "         5 274474672070179.2188           33.82s\n",
      "         6 252998776187813.2500           32.77s\n",
      "         7 235650428417541.3438           31.73s\n",
      "         8 221355721998250.9375           30.73s\n",
      "         9 209854414162403.4688           29.72s\n",
      "        10 200310907097100.9375           28.71s\n",
      "        11 192503221745295.2812           27.70s\n",
      "        12 186152332848312.8125           26.77s\n",
      "        13 180627623564281.2188           25.77s\n",
      "        14 176436564925612.8438           24.81s\n",
      "        15 172993605465705.4375           23.88s\n",
      "        16 169858558692986.2500           22.88s\n",
      "        17 167256582823771.9375           21.91s\n",
      "        18 164816019901404.2188           20.93s\n",
      "        19 163029390815164.9375           19.96s\n",
      "        20 160956872769904.6875           18.98s\n",
      "        21 159304326882435.4062           18.01s\n",
      "        22 157811228195259.8750           17.04s\n",
      "        23 156934151987014.7812           16.12s\n",
      "        24 156059108597222.9375           15.20s\n",
      "        25 154847453714743.2812           14.26s\n",
      "        26 154140326707484.1875           13.31s\n",
      "        27 153200307522216.9062           12.36s\n",
      "        28 152204256735769.0625           11.40s\n",
      "        29 151461685035411.0938           10.44s\n",
      "        30 150554600671743.0000            9.51s\n",
      "        31 149940177025240.1875            8.56s\n",
      "        32 149114084294059.2500            7.61s\n",
      "        33 148140916856778.6562            6.66s\n",
      "        34 147286072866895.1562            5.72s\n",
      "        35 146851355260488.5000            4.78s\n",
      "        36 146156932533863.2500            3.82s\n",
      "        37 145682673272065.1250            2.87s\n",
      "        38 145289423083637.1562            1.92s\n",
      "        39 144982368619614.1562            0.96s\n",
      "        40 144342402286772.5625            0.00s\n",
      "RMSE: 12937177.354026293\n"
     ]
    }
   ],
   "source": [
    "# Create a gradient boosting regressor\n",
    "from sklearn.ensemble import GradientBoostingRegressor\n",
    "\n",
    "model = GradientBoostingRegressor(n_estimators=40, max_depth=10, random_state=42, verbose=2)\n",
    "model.fit(X_train, y_train)\n",
    "\n",
    "# Make predictions on the validation data\n",
    "val_predictions = model.predict(X_val)\n",
    "print('RMSE:', np.sqrt(mean_squared_error(y_val, val_predictions)))"
   ]
  },
  {
   "cell_type": "code",
   "execution_count": null,
   "metadata": {},
   "outputs": [],
   "source": [
    "from keras.models import Sequential\n",
    "from keras.layers import Dense, Dropout\n",
    "from keras import regularizers\n",
    "from keras import optimizers\n",
    "from keras.callbacks import EarlyStopping, ModelCheckpoint\n",
    "from keras.models import load_model\n",
    "from sklearn.metrics import mean_squared_error\n",
    "from keras.optimizers import SGD, RMSprop, Adagrad, Adadelta, Nadam\n",
    "from keras.optimizers import legacy\n",
    "\n",
    "# define the keras model\n",
    "model = Sequential()\n",
    "\n",
    "model.add(Dense(128, input_dim=X_train.shape[1], activation='relu'))\n",
    "# model.add(Dropout(0.2))  # Apply dropout with a rate of 0.2\n",
    "# model.add(Dense(128, activation='relu'))#sigmoid\n",
    "# model.add(Dense(128, activation='relu'))#sigmoid\n",
    "\n",
    "model.add(Dense(64, activation='relu'))#sigmoid\n",
    "# model.add(Dense(32, activation='relu'))\n",
    "model.add(Dense(1, activation='linear'))\n",
    "\n",
    "# Add regularizers to the dense layers\n",
    "model.layers[1].kernel_regularizer = regularizers.l1(0.001)  # Apply L2 regularization with a factor of 0.01\n",
    "model.layers[2].kernel_regularizer = regularizers.l1(0.001)  # Apply L2 regularization with a factor of 0.01\n",
    "# model.layers[3].kernel_regularizer = regularizers.l1(0.001)  # Apply L2 regularization with a factor of 0.01\n",
    "# model.layers[4].kernel_regularizer = regularizers.l1(0.001)  # Apply L2 regularization with a factor of 0.01\n",
    "#model.layers[3].kernel_regularizer = regularizers.l1(0.001)  # Apply L2 regularization with a factor of 0.01\n",
    "\n",
    "optimizers = {\n",
    "    \"SGD\": SGD(learning_rate=0.01, momentum=0.9),\n",
    "    \"RMSprop\": RMSprop(learning_rate=0.01, rho=0.9),\n",
    "    \"Adagrad\": Adagrad(learning_rate=0.01),\n",
    "    \"Adadelta\": Adadelta(learning_rate=1.0, rho=0.95),\n",
    "    \"Nadam\": Nadam(learning_rate=0.002, beta_1=0.9, beta_2=0.999)\n",
    "}\n",
    "\n",
    "opt = legacy.Adam(learning_rate=0.001)  \n",
    "# opt = optimizers[\"RMSprop\"]\n",
    "\n",
    "# compile the keras model\n",
    "model.compile(optimizer=opt, loss='mean_squared_error', metrics=['RootMeanSquaredError'])\n",
    "#apply early stoppping\n",
    "early_stopping_monitor = EarlyStopping(patience=5)\n",
    "#apply model checkpoint\n",
    "\n",
    "#fit the keras model on the dataset\n",
    "model.fit(X_train, y_train, epochs=100, batch_size=128, validation_data=(X_val, y_val), callbacks=[early_stopping_monitor])"
   ]
  },
  {
   "cell_type": "code",
   "execution_count": null,
   "metadata": {},
   "outputs": [],
   "source": [
    "#calculate rmse\n",
    "y_val_pred = model.predict(X_val)\n",
    "val_rmse = np.sqrt(mean_squared_error(y_val, y_val_pred))\n",
    "print('Validation RMSE:', val_rmse)"
   ]
  },
  {
   "cell_type": "code",
   "execution_count": 166,
   "metadata": {},
   "outputs": [],
   "source": [
    "test_predictions = model.predict(X_test).flatten()\n",
    "\n",
    "# Create a DataFrame with 'row ID' and predictions\n",
    "result_df = pd.DataFrame({'row ID': row_ids, 'price_doc': test_predictions})\n",
    "\n",
    "result_df.to_csv('predictions_90.csv', index=False)\n"
   ]
  },
  {
   "cell_type": "code",
   "execution_count": null,
   "metadata": {},
   "outputs": [],
   "source": []
  }
 ],
 "metadata": {
  "kernelspec": {
   "display_name": "imlenv",
   "language": "python",
   "name": "python3"
  },
  "language_info": {
   "codemirror_mode": {
    "name": "ipython",
    "version": 3
   },
   "file_extension": ".py",
   "mimetype": "text/x-python",
   "name": "python",
   "nbconvert_exporter": "python",
   "pygments_lexer": "ipython3",
   "version": "3.10.13"
  }
 },
 "nbformat": 4,
 "nbformat_minor": 2
}
